{
  "nbformat": 4,
  "nbformat_minor": 0,
  "metadata": {
    "colab": {
      "provenance": []
    },
    "kernelspec": {
      "name": "python3",
      "display_name": "Python 3"
    },
    "language_info": {
      "name": "python"
    }
  },
  "cells": [
    {
      "cell_type": "markdown",
      "source": [
        "Decidimos eliminar los nodos de casos de rabia y ponerlos como atributos en las cuadras como distancias. También se va a generar 2 grafos, uno para 2025-2022 y otro 2023-2024"
      ],
      "metadata": {
        "id": "nCRsgp6a6bNU"
      }
    },
    {
      "cell_type": "code",
      "source": [
        "pip install pyreadr pandas torch fastkml torch_geometric folium geopandas optuna"
      ],
      "metadata": {
        "colab": {
          "base_uri": "https://localhost:8080/"
        },
        "id": "esKhg7Q8qBAA",
        "outputId": "53eb2c0f-6914-497a-9709-cef6d5effaff"
      },
      "execution_count": null,
      "outputs": [
        {
          "output_type": "stream",
          "name": "stdout",
          "text": [
            "Collecting pyreadr\n",
            "  Downloading pyreadr-0.5.3-cp311-cp311-manylinux_2_17_x86_64.manylinux2014_x86_64.whl.metadata (1.4 kB)\n",
            "Requirement already satisfied: pandas in /usr/local/lib/python3.11/dist-packages (2.2.2)\n",
            "Requirement already satisfied: torch in /usr/local/lib/python3.11/dist-packages (2.6.0+cu124)\n",
            "Collecting fastkml\n",
            "  Downloading fastkml-1.1.0-py3-none-any.whl.metadata (8.0 kB)\n",
            "Collecting torch_geometric\n",
            "  Downloading torch_geometric-2.6.1-py3-none-any.whl.metadata (63 kB)\n",
            "\u001b[2K     \u001b[90m━━━━━━━━━━━━━━━━━━━━━━━━━━━━━━━━━━━━━━━━\u001b[0m \u001b[32m63.1/63.1 kB\u001b[0m \u001b[31m1.9 MB/s\u001b[0m eta \u001b[36m0:00:00\u001b[0m\n",
            "\u001b[?25hRequirement already satisfied: folium in /usr/local/lib/python3.11/dist-packages (0.19.7)\n",
            "Requirement already satisfied: geopandas in /usr/local/lib/python3.11/dist-packages (1.0.1)\n",
            "Collecting optuna\n",
            "  Downloading optuna-4.4.0-py3-none-any.whl.metadata (17 kB)\n",
            "Requirement already satisfied: numpy>=1.23.2 in /usr/local/lib/python3.11/dist-packages (from pandas) (2.0.2)\n",
            "Requirement already satisfied: python-dateutil>=2.8.2 in /usr/local/lib/python3.11/dist-packages (from pandas) (2.9.0.post0)\n",
            "Requirement already satisfied: pytz>=2020.1 in /usr/local/lib/python3.11/dist-packages (from pandas) (2025.2)\n",
            "Requirement already satisfied: tzdata>=2022.7 in /usr/local/lib/python3.11/dist-packages (from pandas) (2025.2)\n",
            "Requirement already satisfied: filelock in /usr/local/lib/python3.11/dist-packages (from torch) (3.18.0)\n",
            "Requirement already satisfied: typing-extensions>=4.10.0 in /usr/local/lib/python3.11/dist-packages (from torch) (4.14.1)\n",
            "Requirement already satisfied: networkx in /usr/local/lib/python3.11/dist-packages (from torch) (3.5)\n",
            "Requirement already satisfied: jinja2 in /usr/local/lib/python3.11/dist-packages (from torch) (3.1.6)\n",
            "Requirement already satisfied: fsspec in /usr/local/lib/python3.11/dist-packages (from torch) (2025.3.2)\n",
            "Collecting nvidia-cuda-nvrtc-cu12==12.4.127 (from torch)\n",
            "  Downloading nvidia_cuda_nvrtc_cu12-12.4.127-py3-none-manylinux2014_x86_64.whl.metadata (1.5 kB)\n",
            "Collecting nvidia-cuda-runtime-cu12==12.4.127 (from torch)\n",
            "  Downloading nvidia_cuda_runtime_cu12-12.4.127-py3-none-manylinux2014_x86_64.whl.metadata (1.5 kB)\n",
            "Collecting nvidia-cuda-cupti-cu12==12.4.127 (from torch)\n",
            "  Downloading nvidia_cuda_cupti_cu12-12.4.127-py3-none-manylinux2014_x86_64.whl.metadata (1.6 kB)\n",
            "Collecting nvidia-cudnn-cu12==9.1.0.70 (from torch)\n",
            "  Downloading nvidia_cudnn_cu12-9.1.0.70-py3-none-manylinux2014_x86_64.whl.metadata (1.6 kB)\n",
            "Collecting nvidia-cublas-cu12==12.4.5.8 (from torch)\n",
            "  Downloading nvidia_cublas_cu12-12.4.5.8-py3-none-manylinux2014_x86_64.whl.metadata (1.5 kB)\n",
            "Collecting nvidia-cufft-cu12==11.2.1.3 (from torch)\n",
            "  Downloading nvidia_cufft_cu12-11.2.1.3-py3-none-manylinux2014_x86_64.whl.metadata (1.5 kB)\n",
            "Collecting nvidia-curand-cu12==10.3.5.147 (from torch)\n",
            "  Downloading nvidia_curand_cu12-10.3.5.147-py3-none-manylinux2014_x86_64.whl.metadata (1.5 kB)\n",
            "Collecting nvidia-cusolver-cu12==11.6.1.9 (from torch)\n",
            "  Downloading nvidia_cusolver_cu12-11.6.1.9-py3-none-manylinux2014_x86_64.whl.metadata (1.6 kB)\n",
            "Collecting nvidia-cusparse-cu12==12.3.1.170 (from torch)\n",
            "  Downloading nvidia_cusparse_cu12-12.3.1.170-py3-none-manylinux2014_x86_64.whl.metadata (1.6 kB)\n",
            "Requirement already satisfied: nvidia-cusparselt-cu12==0.6.2 in /usr/local/lib/python3.11/dist-packages (from torch) (0.6.2)\n",
            "Requirement already satisfied: nvidia-nccl-cu12==2.21.5 in /usr/local/lib/python3.11/dist-packages (from torch) (2.21.5)\n",
            "Requirement already satisfied: nvidia-nvtx-cu12==12.4.127 in /usr/local/lib/python3.11/dist-packages (from torch) (12.4.127)\n",
            "Collecting nvidia-nvjitlink-cu12==12.4.127 (from torch)\n",
            "  Downloading nvidia_nvjitlink_cu12-12.4.127-py3-none-manylinux2014_x86_64.whl.metadata (1.5 kB)\n",
            "Requirement already satisfied: triton==3.2.0 in /usr/local/lib/python3.11/dist-packages (from torch) (3.2.0)\n",
            "Requirement already satisfied: sympy==1.13.1 in /usr/local/lib/python3.11/dist-packages (from torch) (1.13.1)\n",
            "Requirement already satisfied: mpmath<1.4,>=1.1.0 in /usr/local/lib/python3.11/dist-packages (from sympy==1.13.1->torch) (1.3.0)\n",
            "Collecting arrow (from fastkml)\n",
            "  Downloading arrow-1.3.0-py3-none-any.whl.metadata (7.5 kB)\n",
            "Collecting pygeoif>=1.5 (from fastkml)\n",
            "  Downloading pygeoif-1.5.1-py3-none-any.whl.metadata (14 kB)\n",
            "Requirement already satisfied: aiohttp in /usr/local/lib/python3.11/dist-packages (from torch_geometric) (3.11.15)\n",
            "Requirement already satisfied: psutil>=5.8.0 in /usr/local/lib/python3.11/dist-packages (from torch_geometric) (5.9.5)\n",
            "Requirement already satisfied: pyparsing in /usr/local/lib/python3.11/dist-packages (from torch_geometric) (3.2.3)\n",
            "Requirement already satisfied: requests in /usr/local/lib/python3.11/dist-packages (from torch_geometric) (2.32.3)\n",
            "Requirement already satisfied: tqdm in /usr/local/lib/python3.11/dist-packages (from torch_geometric) (4.67.1)\n",
            "Requirement already satisfied: branca>=0.6.0 in /usr/local/lib/python3.11/dist-packages (from folium) (0.8.1)\n",
            "Requirement already satisfied: xyzservices in /usr/local/lib/python3.11/dist-packages (from folium) (2025.4.0)\n",
            "Requirement already satisfied: pyogrio>=0.7.2 in /usr/local/lib/python3.11/dist-packages (from geopandas) (0.11.0)\n",
            "Requirement already satisfied: packaging in /usr/local/lib/python3.11/dist-packages (from geopandas) (24.2)\n",
            "Requirement already satisfied: pyproj>=3.3.0 in /usr/local/lib/python3.11/dist-packages (from geopandas) (3.7.1)\n",
            "Requirement already satisfied: shapely>=2.0.0 in /usr/local/lib/python3.11/dist-packages (from geopandas) (2.1.1)\n",
            "Collecting alembic>=1.5.0 (from optuna)\n",
            "  Downloading alembic-1.16.4-py3-none-any.whl.metadata (7.3 kB)\n",
            "Collecting colorlog (from optuna)\n",
            "  Downloading colorlog-6.9.0-py3-none-any.whl.metadata (10 kB)\n",
            "Requirement already satisfied: sqlalchemy>=1.4.2 in /usr/local/lib/python3.11/dist-packages (from optuna) (2.0.41)\n",
            "Requirement already satisfied: PyYAML in /usr/local/lib/python3.11/dist-packages (from optuna) (6.0.2)\n",
            "Requirement already satisfied: Mako in /usr/lib/python3/dist-packages (from alembic>=1.5.0->optuna) (1.1.3)\n",
            "Requirement already satisfied: MarkupSafe>=2.0 in /usr/local/lib/python3.11/dist-packages (from jinja2->torch) (3.0.2)\n",
            "Requirement already satisfied: certifi in /usr/local/lib/python3.11/dist-packages (from pyogrio>=0.7.2->geopandas) (2025.6.15)\n",
            "Requirement already satisfied: six>=1.5 in /usr/local/lib/python3.11/dist-packages (from python-dateutil>=2.8.2->pandas) (1.17.0)\n",
            "Requirement already satisfied: greenlet>=1 in /usr/local/lib/python3.11/dist-packages (from sqlalchemy>=1.4.2->optuna) (3.2.3)\n",
            "Requirement already satisfied: aiohappyeyeballs>=2.3.0 in /usr/local/lib/python3.11/dist-packages (from aiohttp->torch_geometric) (2.6.1)\n",
            "Requirement already satisfied: aiosignal>=1.1.2 in /usr/local/lib/python3.11/dist-packages (from aiohttp->torch_geometric) (1.4.0)\n",
            "Requirement already satisfied: attrs>=17.3.0 in /usr/local/lib/python3.11/dist-packages (from aiohttp->torch_geometric) (25.3.0)\n",
            "Requirement already satisfied: frozenlist>=1.1.1 in /usr/local/lib/python3.11/dist-packages (from aiohttp->torch_geometric) (1.7.0)\n",
            "Requirement already satisfied: multidict<7.0,>=4.5 in /usr/local/lib/python3.11/dist-packages (from aiohttp->torch_geometric) (6.6.3)\n",
            "Requirement already satisfied: propcache>=0.2.0 in /usr/local/lib/python3.11/dist-packages (from aiohttp->torch_geometric) (0.3.2)\n",
            "Requirement already satisfied: yarl<2.0,>=1.17.0 in /usr/local/lib/python3.11/dist-packages (from aiohttp->torch_geometric) (1.20.1)\n",
            "Collecting types-python-dateutil>=2.8.10 (from arrow->fastkml)\n",
            "  Downloading types_python_dateutil-2.9.0.20250708-py3-none-any.whl.metadata (1.9 kB)\n",
            "Requirement already satisfied: charset-normalizer<4,>=2 in /usr/local/lib/python3.11/dist-packages (from requests->torch_geometric) (3.4.2)\n",
            "Requirement already satisfied: idna<4,>=2.5 in /usr/local/lib/python3.11/dist-packages (from requests->torch_geometric) (3.10)\n",
            "Requirement already satisfied: urllib3<3,>=1.21.1 in /usr/local/lib/python3.11/dist-packages (from requests->torch_geometric) (2.4.0)\n",
            "Downloading pyreadr-0.5.3-cp311-cp311-manylinux_2_17_x86_64.manylinux2014_x86_64.whl (411 kB)\n",
            "\u001b[2K   \u001b[90m━━━━━━━━━━━━━━━━━━━━━━━━━━━━━━━━━━━━━━━━\u001b[0m \u001b[32m411.7/411.7 kB\u001b[0m \u001b[31m10.5 MB/s\u001b[0m eta \u001b[36m0:00:00\u001b[0m\n",
            "\u001b[?25hDownloading nvidia_cublas_cu12-12.4.5.8-py3-none-manylinux2014_x86_64.whl (363.4 MB)\n",
            "\u001b[2K   \u001b[90m━━━━━━━━━━━━━━━━━━━━━━━━━━━━━━━━━━━━━━━━\u001b[0m \u001b[32m363.4/363.4 MB\u001b[0m \u001b[31m4.0 MB/s\u001b[0m eta \u001b[36m0:00:00\u001b[0m\n",
            "\u001b[?25hDownloading nvidia_cuda_cupti_cu12-12.4.127-py3-none-manylinux2014_x86_64.whl (13.8 MB)\n",
            "\u001b[2K   \u001b[90m━━━━━━━━━━━━━━━━━━━━━━━━━━━━━━━━━━━━━━━━\u001b[0m \u001b[32m13.8/13.8 MB\u001b[0m \u001b[31m63.5 MB/s\u001b[0m eta \u001b[36m0:00:00\u001b[0m\n",
            "\u001b[?25hDownloading nvidia_cuda_nvrtc_cu12-12.4.127-py3-none-manylinux2014_x86_64.whl (24.6 MB)\n",
            "\u001b[2K   \u001b[90m━━━━━━━━━━━━━━━━━━━━━━━━━━━━━━━━━━━━━━━━\u001b[0m \u001b[32m24.6/24.6 MB\u001b[0m \u001b[31m34.9 MB/s\u001b[0m eta \u001b[36m0:00:00\u001b[0m\n",
            "\u001b[?25hDownloading nvidia_cuda_runtime_cu12-12.4.127-py3-none-manylinux2014_x86_64.whl (883 kB)\n",
            "\u001b[2K   \u001b[90m━━━━━━━━━━━━━━━━━━━━━━━━━━━━━━━━━━━━━━━━\u001b[0m \u001b[32m883.7/883.7 kB\u001b[0m \u001b[31m42.8 MB/s\u001b[0m eta \u001b[36m0:00:00\u001b[0m\n",
            "\u001b[?25hDownloading nvidia_cudnn_cu12-9.1.0.70-py3-none-manylinux2014_x86_64.whl (664.8 MB)\n",
            "\u001b[2K   \u001b[90m━━━━━━━━━━━━━━━━━━━━━━━━━━━━━━━━━━━━━━━━\u001b[0m \u001b[32m664.8/664.8 MB\u001b[0m \u001b[31m1.3 MB/s\u001b[0m eta \u001b[36m0:00:00\u001b[0m\n",
            "\u001b[?25hDownloading nvidia_cufft_cu12-11.2.1.3-py3-none-manylinux2014_x86_64.whl (211.5 MB)\n",
            "\u001b[2K   \u001b[90m━━━━━━━━━━━━━━━━━━━━━━━━━━━━━━━━━━━━━━━━\u001b[0m \u001b[32m211.5/211.5 MB\u001b[0m \u001b[31m5.9 MB/s\u001b[0m eta \u001b[36m0:00:00\u001b[0m\n",
            "\u001b[?25hDownloading nvidia_curand_cu12-10.3.5.147-py3-none-manylinux2014_x86_64.whl (56.3 MB)\n",
            "\u001b[2K   \u001b[90m━━━━━━━━━━━━━━━━━━━━━━━━━━━━━━━━━━━━━━━━\u001b[0m \u001b[32m56.3/56.3 MB\u001b[0m \u001b[31m13.6 MB/s\u001b[0m eta \u001b[36m0:00:00\u001b[0m\n",
            "\u001b[?25hDownloading nvidia_cusolver_cu12-11.6.1.9-py3-none-manylinux2014_x86_64.whl (127.9 MB)\n",
            "\u001b[2K   \u001b[90m━━━━━━━━━━━━━━━━━━━━━━━━━━━━━━━━━━━━━━━━\u001b[0m \u001b[32m127.9/127.9 MB\u001b[0m \u001b[31m7.5 MB/s\u001b[0m eta \u001b[36m0:00:00\u001b[0m\n",
            "\u001b[?25hDownloading nvidia_cusparse_cu12-12.3.1.170-py3-none-manylinux2014_x86_64.whl (207.5 MB)\n",
            "\u001b[2K   \u001b[90m━━━━━━━━━━━━━━━━━━━━━━━━━━━━━━━━━━━━━━━━\u001b[0m \u001b[32m207.5/207.5 MB\u001b[0m \u001b[31m5.6 MB/s\u001b[0m eta \u001b[36m0:00:00\u001b[0m\n",
            "\u001b[?25hDownloading nvidia_nvjitlink_cu12-12.4.127-py3-none-manylinux2014_x86_64.whl (21.1 MB)\n",
            "\u001b[2K   \u001b[90m━━━━━━━━━━━━━━━━━━━━━━━━━━━━━━━━━━━━━━━━\u001b[0m \u001b[32m21.1/21.1 MB\u001b[0m \u001b[31m39.7 MB/s\u001b[0m eta \u001b[36m0:00:00\u001b[0m\n",
            "\u001b[?25hDownloading fastkml-1.1.0-py3-none-any.whl (107 kB)\n",
            "\u001b[2K   \u001b[90m━━━━━━━━━━━━━━━━━━━━━━━━━━━━━━━━━━━━━━━━\u001b[0m \u001b[32m107.9/107.9 kB\u001b[0m \u001b[31m8.6 MB/s\u001b[0m eta \u001b[36m0:00:00\u001b[0m\n",
            "\u001b[?25hDownloading torch_geometric-2.6.1-py3-none-any.whl (1.1 MB)\n",
            "\u001b[2K   \u001b[90m━━━━━━━━━━━━━━━━━━━━━━━━━━━━━━━━━━━━━━━━\u001b[0m \u001b[32m1.1/1.1 MB\u001b[0m \u001b[31m47.6 MB/s\u001b[0m eta \u001b[36m0:00:00\u001b[0m\n",
            "\u001b[?25hDownloading optuna-4.4.0-py3-none-any.whl (395 kB)\n",
            "\u001b[2K   \u001b[90m━━━━━━━━━━━━━━━━━━━━━━━━━━━━━━━━━━━━━━━━\u001b[0m \u001b[32m395.9/395.9 kB\u001b[0m \u001b[31m28.9 MB/s\u001b[0m eta \u001b[36m0:00:00\u001b[0m\n",
            "\u001b[?25hDownloading alembic-1.16.4-py3-none-any.whl (247 kB)\n",
            "\u001b[2K   \u001b[90m━━━━━━━━━━━━━━━━━━━━━━━━━━━━━━━━━━━━━━━━\u001b[0m \u001b[32m247.0/247.0 kB\u001b[0m \u001b[31m19.6 MB/s\u001b[0m eta \u001b[36m0:00:00\u001b[0m\n",
            "\u001b[?25hDownloading pygeoif-1.5.1-py3-none-any.whl (28 kB)\n",
            "Downloading arrow-1.3.0-py3-none-any.whl (66 kB)\n",
            "\u001b[2K   \u001b[90m━━━━━━━━━━━━━━━━━━━━━━━━━━━━━━━━━━━━━━━━\u001b[0m \u001b[32m66.4/66.4 kB\u001b[0m \u001b[31m6.0 MB/s\u001b[0m eta \u001b[36m0:00:00\u001b[0m\n",
            "\u001b[?25hDownloading colorlog-6.9.0-py3-none-any.whl (11 kB)\n",
            "Downloading types_python_dateutil-2.9.0.20250708-py3-none-any.whl (17 kB)\n",
            "Installing collected packages: types-python-dateutil, pygeoif, nvidia-nvjitlink-cu12, nvidia-curand-cu12, nvidia-cufft-cu12, nvidia-cuda-runtime-cu12, nvidia-cuda-nvrtc-cu12, nvidia-cuda-cupti-cu12, nvidia-cublas-cu12, colorlog, nvidia-cusparse-cu12, nvidia-cudnn-cu12, arrow, alembic, torch_geometric, pyreadr, optuna, nvidia-cusolver-cu12, fastkml\n",
            "  Attempting uninstall: nvidia-nvjitlink-cu12\n",
            "    Found existing installation: nvidia-nvjitlink-cu12 12.5.82\n",
            "    Uninstalling nvidia-nvjitlink-cu12-12.5.82:\n",
            "      Successfully uninstalled nvidia-nvjitlink-cu12-12.5.82\n",
            "  Attempting uninstall: nvidia-curand-cu12\n",
            "    Found existing installation: nvidia-curand-cu12 10.3.6.82\n",
            "    Uninstalling nvidia-curand-cu12-10.3.6.82:\n",
            "      Successfully uninstalled nvidia-curand-cu12-10.3.6.82\n",
            "  Attempting uninstall: nvidia-cufft-cu12\n",
            "    Found existing installation: nvidia-cufft-cu12 11.2.3.61\n",
            "    Uninstalling nvidia-cufft-cu12-11.2.3.61:\n",
            "      Successfully uninstalled nvidia-cufft-cu12-11.2.3.61\n",
            "  Attempting uninstall: nvidia-cuda-runtime-cu12\n",
            "    Found existing installation: nvidia-cuda-runtime-cu12 12.5.82\n",
            "    Uninstalling nvidia-cuda-runtime-cu12-12.5.82:\n",
            "      Successfully uninstalled nvidia-cuda-runtime-cu12-12.5.82\n",
            "  Attempting uninstall: nvidia-cuda-nvrtc-cu12\n",
            "    Found existing installation: nvidia-cuda-nvrtc-cu12 12.5.82\n",
            "    Uninstalling nvidia-cuda-nvrtc-cu12-12.5.82:\n",
            "      Successfully uninstalled nvidia-cuda-nvrtc-cu12-12.5.82\n",
            "  Attempting uninstall: nvidia-cuda-cupti-cu12\n",
            "    Found existing installation: nvidia-cuda-cupti-cu12 12.5.82\n",
            "    Uninstalling nvidia-cuda-cupti-cu12-12.5.82:\n",
            "      Successfully uninstalled nvidia-cuda-cupti-cu12-12.5.82\n",
            "  Attempting uninstall: nvidia-cublas-cu12\n",
            "    Found existing installation: nvidia-cublas-cu12 12.5.3.2\n",
            "    Uninstalling nvidia-cublas-cu12-12.5.3.2:\n",
            "      Successfully uninstalled nvidia-cublas-cu12-12.5.3.2\n",
            "  Attempting uninstall: nvidia-cusparse-cu12\n",
            "    Found existing installation: nvidia-cusparse-cu12 12.5.1.3\n",
            "    Uninstalling nvidia-cusparse-cu12-12.5.1.3:\n",
            "      Successfully uninstalled nvidia-cusparse-cu12-12.5.1.3\n",
            "  Attempting uninstall: nvidia-cudnn-cu12\n",
            "    Found existing installation: nvidia-cudnn-cu12 9.3.0.75\n",
            "    Uninstalling nvidia-cudnn-cu12-9.3.0.75:\n",
            "      Successfully uninstalled nvidia-cudnn-cu12-9.3.0.75\n",
            "  Attempting uninstall: nvidia-cusolver-cu12\n",
            "    Found existing installation: nvidia-cusolver-cu12 11.6.3.83\n",
            "    Uninstalling nvidia-cusolver-cu12-11.6.3.83:\n",
            "      Successfully uninstalled nvidia-cusolver-cu12-11.6.3.83\n",
            "Successfully installed alembic-1.16.4 arrow-1.3.0 colorlog-6.9.0 fastkml-1.1.0 nvidia-cublas-cu12-12.4.5.8 nvidia-cuda-cupti-cu12-12.4.127 nvidia-cuda-nvrtc-cu12-12.4.127 nvidia-cuda-runtime-cu12-12.4.127 nvidia-cudnn-cu12-9.1.0.70 nvidia-cufft-cu12-11.2.1.3 nvidia-curand-cu12-10.3.5.147 nvidia-cusolver-cu12-11.6.1.9 nvidia-cusparse-cu12-12.3.1.170 nvidia-nvjitlink-cu12-12.4.127 optuna-4.4.0 pygeoif-1.5.1 pyreadr-0.5.3 torch_geometric-2.6.1 types-python-dateutil-2.9.0.20250708\n"
          ]
        }
      ]
    },
    {
      "cell_type": "markdown",
      "source": [
        "# Load Graph"
      ],
      "metadata": {
        "id": "Q-Qa9mGUrgW5"
      }
    },
    {
      "cell_type": "code",
      "source": [
        "from google.colab import drive\n",
        "drive.mount('drive')"
      ],
      "metadata": {
        "colab": {
          "base_uri": "https://localhost:8080/"
        },
        "id": "x-hNC1n9oSoS",
        "outputId": "cf4492fb-34ba-4ed8-8cb8-0c177512e7f1"
      },
      "execution_count": null,
      "outputs": [
        {
          "output_type": "stream",
          "name": "stdout",
          "text": [
            "Mounted at drive\n"
          ]
        }
      ]
    },
    {
      "cell_type": "code",
      "source": [
        "!ls \"./drive/MyDrive/Colab Notebooks/dataset/\""
      ],
      "metadata": {
        "colab": {
          "base_uri": "https://localhost:8080/"
        },
        "id": "Jn_GVK2Vpq_3",
        "outputId": "d233e431-ad7d-4252-d6c7-797587ce7543"
      },
      "execution_count": null,
      "outputs": [
        {
          "output_type": "stream",
          "name": "stdout",
          "text": [
            "rf_cuadras.gpkg\t\t   zamacola_heterograph_fase2_1.pt\n",
            "zamacola_heterograph_2.pt  zamacola_heterograph_fase2.pt\n",
            "zamacola_heterograph_3.pt  zamacola_heterograph.pt\n",
            "zamacola_heterograph_4.pt\n"
          ]
        }
      ]
    },
    {
      "cell_type": "code",
      "execution_count": null,
      "metadata": {
        "colab": {
          "base_uri": "https://localhost:8080/"
        },
        "id": "x95n3Zotn3wx",
        "outputId": "2e3d81f2-d34a-42dd-e4ee-7eb9b7e60ace"
      },
      "outputs": [
        {
          "output_type": "stream",
          "name": "stdout",
          "text": [
            "✅ Grafo heterogéneo cargado correctamente\n",
            "HeteroData(\n",
            "  cuadra={\n",
            "    x=[4296, 8],\n",
            "    feature_columns=[8],\n",
            "    cuadra_id=[4296],\n",
            "    node_index=[4296],\n",
            "    y=[4296],\n",
            "  },\n",
            "  health_post={\n",
            "    x=[4, 2],\n",
            "    name=[4],\n",
            "    node_index=[4],\n",
            "  },\n",
            "  water_channel={\n",
            "    x=[218, 2],\n",
            "    ident=[218],\n",
            "    node_index=[218],\n",
            "  },\n",
            "  (cuadra, vecina_de, cuadra)={ edge_index=[2, 64086] },\n",
            "  (cuadra, reporta_a, health_post)={\n",
            "    edge_index=[2, 4296],\n",
            "    edge_attr=[4296, 1],\n",
            "  },\n",
            "  (health_post, atiende_a, cuadra)={\n",
            "    edge_index=[2, 4296],\n",
            "    edge_attr=[4296, 1],\n",
            "  },\n",
            "  (cuadra, cerca_de, water_channel)={\n",
            "    edge_index=[2, 9228],\n",
            "    edge_attr=[9228, 1],\n",
            "  }\n",
            ")\n"
          ]
        }
      ],
      "source": [
        "import torch\n",
        "\n",
        "# Cargar el grafo\n",
        "data = torch.load(\"./drive/MyDrive/Colab Notebooks/dataset/zamacola_heterograph_fase2.pt\", weights_only=False)\n",
        "\n",
        "print(\"✅ Grafo heterogéneo cargado correctamente\")\n",
        "print(data)"
      ]
    },
    {
      "cell_type": "code",
      "source": [
        "# ============================\n",
        "# 1. INSTALAR DEPENDENCIAS EN COLAB\n",
        "# ============================\n",
        "!pip install torch torchvision torchaudio --index-url https://download.pytorch.org/whl/cu118\n",
        "!pip install geopandas scikit-learn networkx matplotlib tqdm"
      ],
      "metadata": {
        "colab": {
          "base_uri": "https://localhost:8080/"
        },
        "id": "KPXDFG0-reNM",
        "outputId": "232bd9a6-b7ff-44ee-fb6a-868267c188d5"
      },
      "execution_count": null,
      "outputs": [
        {
          "output_type": "stream",
          "name": "stdout",
          "text": [
            "Looking in indexes: https://download.pytorch.org/whl/cu118\n",
            "Requirement already satisfied: torch in /usr/local/lib/python3.11/dist-packages (2.6.0+cu124)\n",
            "Requirement already satisfied: torchvision in /usr/local/lib/python3.11/dist-packages (0.21.0+cu124)\n",
            "Requirement already satisfied: torchaudio in /usr/local/lib/python3.11/dist-packages (2.6.0+cu124)\n",
            "Requirement already satisfied: filelock in /usr/local/lib/python3.11/dist-packages (from torch) (3.18.0)\n",
            "Requirement already satisfied: typing-extensions>=4.10.0 in /usr/local/lib/python3.11/dist-packages (from torch) (4.14.1)\n",
            "Requirement already satisfied: networkx in /usr/local/lib/python3.11/dist-packages (from torch) (3.5)\n",
            "Requirement already satisfied: jinja2 in /usr/local/lib/python3.11/dist-packages (from torch) (3.1.6)\n",
            "Requirement already satisfied: fsspec in /usr/local/lib/python3.11/dist-packages (from torch) (2025.3.2)\n",
            "Requirement already satisfied: nvidia-cuda-nvrtc-cu12==12.4.127 in /usr/local/lib/python3.11/dist-packages (from torch) (12.4.127)\n",
            "Requirement already satisfied: nvidia-cuda-runtime-cu12==12.4.127 in /usr/local/lib/python3.11/dist-packages (from torch) (12.4.127)\n",
            "Requirement already satisfied: nvidia-cuda-cupti-cu12==12.4.127 in /usr/local/lib/python3.11/dist-packages (from torch) (12.4.127)\n",
            "Requirement already satisfied: nvidia-cudnn-cu12==9.1.0.70 in /usr/local/lib/python3.11/dist-packages (from torch) (9.1.0.70)\n",
            "Requirement already satisfied: nvidia-cublas-cu12==12.4.5.8 in /usr/local/lib/python3.11/dist-packages (from torch) (12.4.5.8)\n",
            "Requirement already satisfied: nvidia-cufft-cu12==11.2.1.3 in /usr/local/lib/python3.11/dist-packages (from torch) (11.2.1.3)\n",
            "Requirement already satisfied: nvidia-curand-cu12==10.3.5.147 in /usr/local/lib/python3.11/dist-packages (from torch) (10.3.5.147)\n",
            "Requirement already satisfied: nvidia-cusolver-cu12==11.6.1.9 in /usr/local/lib/python3.11/dist-packages (from torch) (11.6.1.9)\n",
            "Requirement already satisfied: nvidia-cusparse-cu12==12.3.1.170 in /usr/local/lib/python3.11/dist-packages (from torch) (12.3.1.170)\n",
            "Requirement already satisfied: nvidia-cusparselt-cu12==0.6.2 in /usr/local/lib/python3.11/dist-packages (from torch) (0.6.2)\n",
            "Requirement already satisfied: nvidia-nccl-cu12==2.21.5 in /usr/local/lib/python3.11/dist-packages (from torch) (2.21.5)\n",
            "Requirement already satisfied: nvidia-nvtx-cu12==12.4.127 in /usr/local/lib/python3.11/dist-packages (from torch) (12.4.127)\n",
            "Requirement already satisfied: nvidia-nvjitlink-cu12==12.4.127 in /usr/local/lib/python3.11/dist-packages (from torch) (12.4.127)\n",
            "Requirement already satisfied: triton==3.2.0 in /usr/local/lib/python3.11/dist-packages (from torch) (3.2.0)\n",
            "Requirement already satisfied: sympy==1.13.1 in /usr/local/lib/python3.11/dist-packages (from torch) (1.13.1)\n",
            "Requirement already satisfied: mpmath<1.4,>=1.1.0 in /usr/local/lib/python3.11/dist-packages (from sympy==1.13.1->torch) (1.3.0)\n",
            "Requirement already satisfied: numpy in /usr/local/lib/python3.11/dist-packages (from torchvision) (2.0.2)\n",
            "Requirement already satisfied: pillow!=8.3.*,>=5.3.0 in /usr/local/lib/python3.11/dist-packages (from torchvision) (11.2.1)\n",
            "Requirement already satisfied: MarkupSafe>=2.0 in /usr/local/lib/python3.11/dist-packages (from jinja2->torch) (3.0.2)\n",
            "Requirement already satisfied: geopandas in /usr/local/lib/python3.11/dist-packages (1.0.1)\n",
            "Requirement already satisfied: scikit-learn in /usr/local/lib/python3.11/dist-packages (1.6.1)\n",
            "Requirement already satisfied: networkx in /usr/local/lib/python3.11/dist-packages (3.5)\n",
            "Requirement already satisfied: matplotlib in /usr/local/lib/python3.11/dist-packages (3.10.0)\n",
            "Requirement already satisfied: tqdm in /usr/local/lib/python3.11/dist-packages (4.67.1)\n",
            "Requirement already satisfied: numpy>=1.22 in /usr/local/lib/python3.11/dist-packages (from geopandas) (2.0.2)\n",
            "Requirement already satisfied: pyogrio>=0.7.2 in /usr/local/lib/python3.11/dist-packages (from geopandas) (0.11.0)\n",
            "Requirement already satisfied: packaging in /usr/local/lib/python3.11/dist-packages (from geopandas) (24.2)\n",
            "Requirement already satisfied: pandas>=1.4.0 in /usr/local/lib/python3.11/dist-packages (from geopandas) (2.2.2)\n",
            "Requirement already satisfied: pyproj>=3.3.0 in /usr/local/lib/python3.11/dist-packages (from geopandas) (3.7.1)\n",
            "Requirement already satisfied: shapely>=2.0.0 in /usr/local/lib/python3.11/dist-packages (from geopandas) (2.1.1)\n",
            "Requirement already satisfied: scipy>=1.6.0 in /usr/local/lib/python3.11/dist-packages (from scikit-learn) (1.15.3)\n",
            "Requirement already satisfied: joblib>=1.2.0 in /usr/local/lib/python3.11/dist-packages (from scikit-learn) (1.5.1)\n",
            "Requirement already satisfied: threadpoolctl>=3.1.0 in /usr/local/lib/python3.11/dist-packages (from scikit-learn) (3.6.0)\n",
            "Requirement already satisfied: contourpy>=1.0.1 in /usr/local/lib/python3.11/dist-packages (from matplotlib) (1.3.2)\n",
            "Requirement already satisfied: cycler>=0.10 in /usr/local/lib/python3.11/dist-packages (from matplotlib) (0.12.1)\n",
            "Requirement already satisfied: fonttools>=4.22.0 in /usr/local/lib/python3.11/dist-packages (from matplotlib) (4.58.5)\n",
            "Requirement already satisfied: kiwisolver>=1.3.1 in /usr/local/lib/python3.11/dist-packages (from matplotlib) (1.4.8)\n",
            "Requirement already satisfied: pillow>=8 in /usr/local/lib/python3.11/dist-packages (from matplotlib) (11.2.1)\n",
            "Requirement already satisfied: pyparsing>=2.3.1 in /usr/local/lib/python3.11/dist-packages (from matplotlib) (3.2.3)\n",
            "Requirement already satisfied: python-dateutil>=2.7 in /usr/local/lib/python3.11/dist-packages (from matplotlib) (2.9.0.post0)\n",
            "Requirement already satisfied: pytz>=2020.1 in /usr/local/lib/python3.11/dist-packages (from pandas>=1.4.0->geopandas) (2025.2)\n",
            "Requirement already satisfied: tzdata>=2022.7 in /usr/local/lib/python3.11/dist-packages (from pandas>=1.4.0->geopandas) (2025.2)\n",
            "Requirement already satisfied: certifi in /usr/local/lib/python3.11/dist-packages (from pyogrio>=0.7.2->geopandas) (2025.6.15)\n",
            "Requirement already satisfied: six>=1.5 in /usr/local/lib/python3.11/dist-packages (from python-dateutil>=2.7->matplotlib) (1.17.0)\n"
          ]
        }
      ]
    },
    {
      "cell_type": "code",
      "source": [
        "# ============================\n",
        "# - IMPORTAR LIBRERIAS\n",
        "# ============================\n",
        "import torch\n",
        "import pandas as pd\n",
        "import numpy as np\n",
        "import torch.nn.functional as F\n",
        "from torch_geometric.nn import HeteroConv, GCNConv, Linear\n",
        "from torch_geometric.data import HeteroData\n",
        "from torch_geometric.loader import NeighborLoader\n",
        "from sklearn.metrics import classification_report\n",
        "import random"
      ],
      "metadata": {
        "id": "CyXIBPheryzG"
      },
      "execution_count": null,
      "outputs": []
    },
    {
      "cell_type": "code",
      "source": [
        "# ============================\n",
        "# - CREAR ETIQUETAS BINARIAS + RIESGO VECINAL (CLASIFICACION BINARIA)\n",
        "# ============================\n",
        "# - VERIFICACIÓN DE ETIQUETAS venidas del grafo\n",
        "\n",
        "cuadra_labels = data['cuadra'].y  # Ya están en el grafo\n",
        "\n",
        "print(f\"Etiquetas positivas: {(cuadra_labels == 1).sum().item()} / {cuadra_labels.numel()}\")\n"
      ],
      "metadata": {
        "colab": {
          "base_uri": "https://localhost:8080/"
        },
        "id": "qcrzdWhtr3ae",
        "outputId": "77e0aeab-17bc-4bc9-ee19-f673d6424898"
      },
      "execution_count": null,
      "outputs": [
        {
          "output_type": "stream",
          "name": "stdout",
          "text": [
            "Etiquetas positivas: 75 / 4296\n"
          ]
        }
      ]
    },
    {
      "cell_type": "code",
      "source": [
        "# ============================\n",
        "# - SPLIT DE DATOS (train / val) 80/20\n",
        "# ============================\n",
        "\n",
        "# Se obtiene el total de nodos (cuadras) y sus etiquetas (y, previamente construidas).\n",
        "nodos = torch.arange(data['cuadra'].num_nodes)\n",
        "labels = data['cuadra'].y\n",
        "\n",
        "# Inicializa los vectores de entrenamiento y validación\n",
        "train_mask = torch.zeros_like(labels, dtype=torch.bool)\n",
        "val_mask = torch.zeros_like(labels, dtype=torch.bool)\n",
        "\n",
        "# Índices positivos y negativos\n",
        "pos = (labels == 1).nonzero(as_tuple=True)[0]\n",
        "neg = (labels == 0).nonzero(as_tuple=True)[0]\n",
        "\n",
        "# Mezclar aleatoriamente\n",
        "random.seed(42)\n",
        "pos = pos[torch.randperm(len(pos))]\n",
        "neg = neg[torch.randperm(len(neg))]\n",
        "\n",
        "# Función para dividir en 80/20\n",
        "def split_indices(indices):\n",
        "    n = len(indices)\n",
        "    n_train = int(0.8 * n)\n",
        "    n_val = n - n_train\n",
        "    return indices[:n_train], indices[n_train:]\n",
        "\n",
        "# Dividir positivos\n",
        "pos_train, pos_val = split_indices(pos)\n",
        "# Dividir negativos\n",
        "neg_train, neg_val = split_indices(neg)\n",
        "\n",
        "# Combinar train / val / test\n",
        "train_idx = torch.cat([pos_train, neg_train])\n",
        "val_idx = torch.cat([pos_val, neg_val])\n",
        "\n",
        "# Asignar máscaras\n",
        "train_mask[train_idx] = True\n",
        "val_mask[val_idx] = True\n",
        "\n",
        "# Guardar en el objeto `data`\n",
        "data['cuadra'].train_mask = train_mask\n",
        "data['cuadra'].val_mask = val_mask\n",
        "\n",
        "# Contrar la cantidad de positivos y negativos por cada conjunto\n",
        "def contar_clases(mask, labels):\n",
        "    positivos = ((labels == 1) & mask).sum().item()\n",
        "    negativos = ((labels == 0) & mask).sum().item()\n",
        "    return positivos, negativos\n",
        "\n",
        "# Contar clases\n",
        "train_pos, train_neg = contar_clases(train_mask, labels)\n",
        "val_pos, val_neg = contar_clases(val_mask, labels)\n",
        "\n",
        "# Imprimir resultados\n",
        "print(f\"Train: {train_pos} positivos, {train_neg} negativos\")\n",
        "print(f\"Val:   {val_pos} positivos, {val_neg} negativos\")\n"
      ],
      "metadata": {
        "id": "7fjYPJzIsSXc",
        "colab": {
          "base_uri": "https://localhost:8080/"
        },
        "outputId": "ac767acb-9fd3-461d-abc5-837f3c4bff1b"
      },
      "execution_count": null,
      "outputs": [
        {
          "output_type": "stream",
          "name": "stdout",
          "text": [
            "Train: 60 positivos, 3376 negativos\n",
            "Val:   15 positivos, 845 negativos\n"
          ]
        }
      ]
    },
    {
      "cell_type": "markdown",
      "source": [
        "Nuestro modelo prioriza maximizar el Recall para no dejar brotes sin detectar, aunque eso implique más falsos positivos. Sin embargo, buscamos también un buen F1 Score como balance general."
      ],
      "metadata": {
        "id": "s7PkALzCUGXo"
      }
    },
    {
      "cell_type": "markdown",
      "source": [
        "Nodos:\n",
        "- Cuadra: x= lat, long, ingreso_economico.\n",
        "- health_post: x =lat, long.\n",
        "- water_channel: x= lat, long.\n",
        "- rabies_case: x = lat, long - year = anio\n",
        "\n",
        "Relaciones\n",
        "- \"cuadra\", \"vecina_de\", \"cuadra\": Cuadra ↔ Cuadra (vecinas por distancia entre centroides) 100 metros, bidireccional.\n",
        "- \"cuadra\", \"reporta_a\", \"health_post\": Cuadra → Puesto de salud más cercano y pone la distancia como atributo (NOTA: Estos modelo utilizarian el atributo de la distancia NNConv, GATv2Conv los demas no)\n",
        "- \"health_post\", \"atiende_a\", \"cuadra\": Es la inversa de reporta_a.\n",
        "- \"cuadra\", \"cerca_de\", \"water_channel\": Cuadra → Torrenteras (con distancia como atributo).\n",
        "- \"rabies_case\", \"ocurre_en\", \"cuadra\": Caso de rabia a que Cuadra pertenece y si no da dentro de una cuadra se busca la cuadra mas cercana al punto.\n",
        "- \"cuadra\", \"tiene_caso\", \"rabies_case\": La inversa de ocurre_en.\n",
        "- \"cuadra\", \"vecina_con_riesgo\", \"cuadra\": Cuadras vecinas con riesgo (por proximidad a casos) No bidireccional por que no es lo mismo decir que la cuadra B esta con riesgo por ser vecina de una que tiene rabia a decir que la cuadra A esta con riesgo por tener a una cuadra que no esta infectada que seria la cuadra B."
      ],
      "metadata": {
        "id": "sB-GAKy4XxXf"
      }
    },
    {
      "cell_type": "markdown",
      "source": [
        "Por que elegimos 100 m:\n",
        "\n",
        "Hicimos pruebas empíricas con diferentes radios, y 100m ofreció el mejor balance entre precisión del modelo y simplicidad de interpretación sin sacrificar recall, lo cual es importante en el contexto de epidemias."
      ],
      "metadata": {
        "id": "Z89MrbEpNWkr"
      }
    },
    {
      "cell_type": "markdown",
      "source": [
        "# OPTUNA"
      ],
      "metadata": {
        "id": "U_MggxEeQGs6"
      }
    },
    {
      "cell_type": "code",
      "source": [
        "!pip install optuna"
      ],
      "metadata": {
        "colab": {
          "base_uri": "https://localhost:8080/"
        },
        "id": "SdHZ32qqQIpY",
        "outputId": "51a81cce-4615-41ef-a9a4-3ca4b14c3afe"
      },
      "execution_count": null,
      "outputs": [
        {
          "output_type": "stream",
          "name": "stdout",
          "text": [
            "Requirement already satisfied: optuna in /usr/local/lib/python3.11/dist-packages (4.4.0)\n",
            "Requirement already satisfied: alembic>=1.5.0 in /usr/local/lib/python3.11/dist-packages (from optuna) (1.16.4)\n",
            "Requirement already satisfied: colorlog in /usr/local/lib/python3.11/dist-packages (from optuna) (6.9.0)\n",
            "Requirement already satisfied: numpy in /usr/local/lib/python3.11/dist-packages (from optuna) (2.0.2)\n",
            "Requirement already satisfied: packaging>=20.0 in /usr/local/lib/python3.11/dist-packages (from optuna) (24.2)\n",
            "Requirement already satisfied: sqlalchemy>=1.4.2 in /usr/local/lib/python3.11/dist-packages (from optuna) (2.0.41)\n",
            "Requirement already satisfied: tqdm in /usr/local/lib/python3.11/dist-packages (from optuna) (4.67.1)\n",
            "Requirement already satisfied: PyYAML in /usr/local/lib/python3.11/dist-packages (from optuna) (6.0.2)\n",
            "Requirement already satisfied: Mako in /usr/lib/python3/dist-packages (from alembic>=1.5.0->optuna) (1.1.3)\n",
            "Requirement already satisfied: typing-extensions>=4.12 in /usr/local/lib/python3.11/dist-packages (from alembic>=1.5.0->optuna) (4.14.1)\n",
            "Requirement already satisfied: greenlet>=1 in /usr/local/lib/python3.11/dist-packages (from sqlalchemy>=1.4.2->optuna) (3.2.3)\n"
          ]
        }
      ]
    },
    {
      "cell_type": "code",
      "source": [
        "import warnings\n",
        "warnings.filterwarnings(\"ignore\", category=FutureWarning)"
      ],
      "metadata": {
        "id": "5oTSczpzSSSv"
      },
      "execution_count": null,
      "outputs": []
    },
    {
      "cell_type": "code",
      "source": [
        "import optuna\n",
        "from sklearn.metrics import f1_score, precision_score, recall_score, accuracy_score\n",
        "import torch\n",
        "import torch.nn.functional as F\n",
        "from torch_geometric.nn import HeteroConv, SAGEConv\n",
        "import json\n",
        "import copy\n",
        "\n",
        "device = torch.device('cuda' if torch.cuda.is_available() else 'cpu')\n",
        "\n",
        "def define_model(hidden_channels, dropout_p):\n",
        "    class BinaryHeteroGNN(torch.nn.Module):\n",
        "        def __init__(self):\n",
        "            super().__init__()\n",
        "            self.dropout = torch.nn.Dropout(dropout_p)\n",
        "            self.lin_dict = torch.nn.ModuleDict()\n",
        "            for node_type in data.node_types:\n",
        "                in_feats = data[node_type].num_node_features\n",
        "                self.lin_dict[node_type] = torch.nn.Linear(in_feats, hidden_channels)\n",
        "\n",
        "            self.conv1 = HeteroConv({\n",
        "                ('cuadra', 'vecina_de', 'cuadra'): SAGEConv(hidden_channels, hidden_channels),\n",
        "                ('cuadra', 'reporta_a', 'health_post'): SAGEConv(hidden_channels, hidden_channels),\n",
        "                ('health_post', 'atiende_a', 'cuadra'): SAGEConv(hidden_channels, hidden_channels),\n",
        "                ('cuadra', 'cerca_de', 'water_channel'): SAGEConv(hidden_channels, hidden_channels),\n",
        "            }, aggr='sum')\n",
        "\n",
        "            self.conv2 = HeteroConv({\n",
        "                ('cuadra', 'vecina_de', 'cuadra'): SAGEConv(hidden_channels, hidden_channels),\n",
        "                ('cuadra', 'reporta_a', 'health_post'): SAGEConv(hidden_channels, hidden_channels),\n",
        "                ('health_post', 'atiende_a', 'cuadra'): SAGEConv(hidden_channels, hidden_channels),\n",
        "                ('cuadra', 'cerca_de', 'water_channel'): SAGEConv(hidden_channels, hidden_channels),\n",
        "            }, aggr='sum')\n",
        "\n",
        "            self.classifier = torch.nn.Linear(hidden_channels, 1)\n",
        "\n",
        "        def forward(self, x_dict, edge_index_dict):\n",
        "            x_dict = {k: self.lin_dict[k](v) for k, v in x_dict.items()}\n",
        "            x_dict = self.conv1(x_dict, edge_index_dict)\n",
        "            x_dict = {k: self.dropout(F.relu(v)) for k, v in x_dict.items()}\n",
        "            x_dict = self.conv2(x_dict, edge_index_dict)\n",
        "            return self.classifier(x_dict[\"cuadra\"]).squeeze()\n",
        "\n",
        "    return BinaryHeteroGNN()\n",
        "\n",
        "# Crear contenedor para guardar el mejor modelo\n",
        "best_model_holder = {\"model\": None}\n",
        "\n",
        "def objective(trial):\n",
        "    hidden_channels = trial.suggest_categorical(\"hidden_channels\", [32, 64, 128])\n",
        "    lr = trial.suggest_loguniform(\"lr\", 1e-4, 1e-2)\n",
        "    dropout = trial.suggest_uniform(\"dropout\", 0.3, 0.7)\n",
        "    weight_clip = trial.suggest_uniform(\"pos_weight_clip\", 5.0, 20.0)\n",
        "\n",
        "    model = define_model(hidden_channels, dropout).to(device)\n",
        "    optimizer = torch.optim.Adam(model.parameters(), lr=lr)\n",
        "\n",
        "    labels = data['cuadra'].y.to(device)\n",
        "    train_mask = data['cuadra'].train_mask.to(device)\n",
        "    val_mask = data['cuadra'].val_mask.to(device)\n",
        "\n",
        "    num_pos = (labels[train_mask] == 1).sum()\n",
        "    num_neg = (labels[train_mask] == 0).sum()\n",
        "    pos_weight = torch.tensor([min(num_neg / num_pos, weight_clip)], dtype=torch.float).to(device)\n",
        "\n",
        "    criterion = torch.nn.BCEWithLogitsLoss(pos_weight=pos_weight)\n",
        "\n",
        "    for epoch in range(1, 101):\n",
        "        model.train()\n",
        "        out = model(data.x_dict, data.edge_index_dict)\n",
        "        loss = criterion(out[train_mask], labels[train_mask].float())\n",
        "        loss.backward()\n",
        "        optimizer.step()\n",
        "        optimizer.zero_grad()\n",
        "\n",
        "    # Validación\n",
        "    model.eval()\n",
        "    with torch.no_grad():\n",
        "        out = model(data.x_dict, data.edge_index_dict)\n",
        "        preds_val = (torch.sigmoid(out[val_mask]) > 0.5).cpu()\n",
        "        labels_val = labels[val_mask].cpu()\n",
        "        f1_val = f1_score(labels_val, preds_val, zero_division=0)\n",
        "\n",
        "        # Almacenando metricas para mostrarlas\n",
        "        precision_val = precision_score(labels_val, preds_val, zero_division=0)\n",
        "        recall_val = recall_score(labels_val, preds_val, zero_division=0)\n",
        "        f1_val = f1_score(labels_val, preds_val, zero_division=0)\n",
        "        acc_val = accuracy_score(labels_val, preds_val)\n",
        "\n",
        "    # Guardar métricas como atributos del trial\n",
        "    trial.set_user_attr(\"precision\", precision_val)\n",
        "    trial.set_user_attr(\"recall\", recall_val)\n",
        "    trial.set_user_attr(\"f1\", f1_val)\n",
        "    trial.set_user_attr(\"accuracy\", acc_val)\n",
        "\n",
        "    print(f\"Trial {trial.number}: F1-score={f1_val:.4f} | Precision={precision_val:.4f} | Recall={recall_val:.4f} | Acc={acc_val:.4f}\")\n",
        "\n",
        "    # Guardar si es el mejor hasta ahora\n",
        "    completed_trials = [t for t in trial.study.trials if t.value is not None]\n",
        "    best_f1 = max([t.value for t in completed_trials], default=0)\n",
        "\n",
        "    if f1_val >= best_f1:\n",
        "        torch.save(model.state_dict(), \"./drive/MyDrive/Colab Notebooks/result/mejor_modelo_fase2.pt\")\n",
        "        with open(\"./drive/MyDrive/Colab Notebooks/result/mejores_parametros_fase2.json\", \"w\") as f:\n",
        "            json.dump(trial.params, f)\n",
        "        best_model_holder[\"model\"] = copy.deepcopy(model)  # guardar modelo entrenado\n",
        "        print(\"  ✅ Nuevo mejor modelo guardado\")\n",
        "\n",
        "    return f1_val\n",
        "\n",
        "# Crear y ejecutar estudio\n",
        "study = optuna.create_study(direction=\"maximize\")\n",
        "study.optimize(objective, n_trials=30)\n",
        "\n",
        "# Mostrar mejores resultados al final\n",
        "print(\"\\n🔍 Mejor trial encontrado:\")\n",
        "print(f\"Trial #{study.best_trial.number}\")\n",
        "for k, v in study.best_trial.params.items():\n",
        "    print(f\"  {k}: {v}\")\n",
        "print(f\"Mejor F1-score en validación: {study.best_value:.4f}\")\n"
      ],
      "metadata": {
        "colab": {
          "base_uri": "https://localhost:8080/"
        },
        "id": "SE8hSgrMQxi0",
        "outputId": "f0b3a33e-42ba-44f3-9b59-96eb6e62b65b"
      },
      "execution_count": null,
      "outputs": [
        {
          "output_type": "stream",
          "name": "stderr",
          "text": [
            "[I 2025-07-11 03:22:19,560] A new study created in memory with name: no-name-0a0b15d2-9ff5-47cd-819f-b13008873e30\n",
            "[I 2025-07-11 03:22:23,904] Trial 0 finished with value: 0.0 and parameters: {'hidden_channels': 32, 'lr': 0.0002517810742809842, 'dropout': 0.5692863695970647, 'pos_weight_clip': 10.612330631723884}. Best is trial 0 with value: 0.0.\n"
          ]
        },
        {
          "output_type": "stream",
          "name": "stdout",
          "text": [
            "Trial 0: F1-score=0.0000 | Precision=0.0000 | Recall=0.0000 | Acc=0.9826\n",
            "  ✅ Nuevo mejor modelo guardado\n"
          ]
        },
        {
          "output_type": "stream",
          "name": "stderr",
          "text": [
            "[I 2025-07-11 03:22:33,714] Trial 1 finished with value: 0.0 and parameters: {'hidden_channels': 64, 'lr': 0.0007253337089269161, 'dropout': 0.3485808134082904, 'pos_weight_clip': 9.61989867634481}. Best is trial 0 with value: 0.0.\n"
          ]
        },
        {
          "output_type": "stream",
          "name": "stdout",
          "text": [
            "Trial 1: F1-score=0.0000 | Precision=0.0000 | Recall=0.0000 | Acc=0.9826\n",
            "  ✅ Nuevo mejor modelo guardado\n"
          ]
        },
        {
          "output_type": "stream",
          "name": "stderr",
          "text": [
            "[I 2025-07-11 03:22:42,112] Trial 2 finished with value: 0.0 and parameters: {'hidden_channels': 64, 'lr': 0.003016493017543485, 'dropout': 0.40598449326487057, 'pos_weight_clip': 17.10276353645599}. Best is trial 0 with value: 0.0.\n"
          ]
        },
        {
          "output_type": "stream",
          "name": "stdout",
          "text": [
            "Trial 2: F1-score=0.0000 | Precision=0.0000 | Recall=0.0000 | Acc=0.9826\n",
            "  ✅ Nuevo mejor modelo guardado\n"
          ]
        },
        {
          "output_type": "stream",
          "name": "stderr",
          "text": [
            "[I 2025-07-11 03:22:59,058] Trial 3 finished with value: 0.25925925925925924 and parameters: {'hidden_channels': 128, 'lr': 0.0005137929479893762, 'dropout': 0.3127767083429048, 'pos_weight_clip': 17.987190905332998}. Best is trial 3 with value: 0.25925925925925924.\n"
          ]
        },
        {
          "output_type": "stream",
          "name": "stdout",
          "text": [
            "Trial 3: F1-score=0.2593 | Precision=0.1505 | Recall=0.9333 | Acc=0.9070\n",
            "  ✅ Nuevo mejor modelo guardado\n"
          ]
        },
        {
          "output_type": "stream",
          "name": "stderr",
          "text": [
            "[I 2025-07-11 03:23:02,866] Trial 4 finished with value: 0.0 and parameters: {'hidden_channels': 32, 'lr': 0.0002572123340207518, 'dropout': 0.6798665765297353, 'pos_weight_clip': 18.77072056540083}. Best is trial 3 with value: 0.25925925925925924.\n"
          ]
        },
        {
          "output_type": "stream",
          "name": "stdout",
          "text": [
            "Trial 4: F1-score=0.0000 | Precision=0.0000 | Recall=0.0000 | Acc=0.9826\n"
          ]
        },
        {
          "output_type": "stream",
          "name": "stderr",
          "text": [
            "[I 2025-07-11 03:23:20,323] Trial 5 finished with value: 0.9655172413793104 and parameters: {'hidden_channels': 128, 'lr': 0.0025078505850294813, 'dropout': 0.5298444030151633, 'pos_weight_clip': 13.788448659519439}. Best is trial 5 with value: 0.9655172413793104.\n"
          ]
        },
        {
          "output_type": "stream",
          "name": "stdout",
          "text": [
            "Trial 5: F1-score=0.9655 | Precision=1.0000 | Recall=0.9333 | Acc=0.9988\n",
            "  ✅ Nuevo mejor modelo guardado\n"
          ]
        },
        {
          "output_type": "stream",
          "name": "stderr",
          "text": [
            "[I 2025-07-11 03:23:39,399] Trial 6 finished with value: 0.23529411764705882 and parameters: {'hidden_channels': 128, 'lr': 0.0037734052730737937, 'dropout': 0.6725241848663805, 'pos_weight_clip': 11.666154422133303}. Best is trial 5 with value: 0.9655172413793104.\n"
          ]
        },
        {
          "output_type": "stream",
          "name": "stdout",
          "text": [
            "Trial 6: F1-score=0.2353 | Precision=1.0000 | Recall=0.1333 | Acc=0.9849\n"
          ]
        },
        {
          "output_type": "stream",
          "name": "stderr",
          "text": [
            "[I 2025-07-11 03:23:59,964] Trial 7 finished with value: 0.0 and parameters: {'hidden_channels': 128, 'lr': 0.001966615509777495, 'dropout': 0.5656654777825054, 'pos_weight_clip': 7.242964539052608}. Best is trial 5 with value: 0.9655172413793104.\n"
          ]
        },
        {
          "output_type": "stream",
          "name": "stdout",
          "text": [
            "Trial 7: F1-score=0.0000 | Precision=0.0000 | Recall=0.0000 | Acc=0.9826\n"
          ]
        },
        {
          "output_type": "stream",
          "name": "stderr",
          "text": [
            "[I 2025-07-11 03:24:07,813] Trial 8 finished with value: 0.0 and parameters: {'hidden_channels': 64, 'lr': 0.002193559107412886, 'dropout': 0.46649517003302443, 'pos_weight_clip': 8.1064358602324}. Best is trial 5 with value: 0.9655172413793104.\n"
          ]
        },
        {
          "output_type": "stream",
          "name": "stdout",
          "text": [
            "Trial 8: F1-score=0.0000 | Precision=0.0000 | Recall=0.0000 | Acc=0.9826\n"
          ]
        },
        {
          "output_type": "stream",
          "name": "stderr",
          "text": [
            "[I 2025-07-11 03:24:14,595] Trial 9 finished with value: 0.75 and parameters: {'hidden_channels': 64, 'lr': 0.001060214656152778, 'dropout': 0.3807265713834477, 'pos_weight_clip': 14.832571355409245}. Best is trial 5 with value: 0.9655172413793104.\n"
          ]
        },
        {
          "output_type": "stream",
          "name": "stdout",
          "text": [
            "Trial 9: F1-score=0.7500 | Precision=1.0000 | Recall=0.6000 | Acc=0.9930\n"
          ]
        },
        {
          "output_type": "stream",
          "name": "stderr",
          "text": [
            "[I 2025-07-11 03:24:33,004] Trial 10 finished with value: 0.0 and parameters: {'hidden_channels': 128, 'lr': 0.009598308108186227, 'dropout': 0.5324019663645345, 'pos_weight_clip': 13.920333934005004}. Best is trial 5 with value: 0.9655172413793104.\n"
          ]
        },
        {
          "output_type": "stream",
          "name": "stdout",
          "text": [
            "Trial 10: F1-score=0.0000 | Precision=0.0000 | Recall=0.0000 | Acc=0.9826\n"
          ]
        },
        {
          "output_type": "stream",
          "name": "stderr",
          "text": [
            "[I 2025-07-11 03:24:39,831] Trial 11 finished with value: 0.0 and parameters: {'hidden_channels': 64, 'lr': 0.0012045986406004677, 'dropout': 0.45862249620855616, 'pos_weight_clip': 14.803549962364775}. Best is trial 5 with value: 0.9655172413793104.\n"
          ]
        },
        {
          "output_type": "stream",
          "name": "stdout",
          "text": [
            "Trial 11: F1-score=0.0000 | Precision=0.0000 | Recall=0.0000 | Acc=0.9826\n"
          ]
        },
        {
          "output_type": "stream",
          "name": "stderr",
          "text": [
            "[I 2025-07-11 03:24:57,004] Trial 12 finished with value: 0.0 and parameters: {'hidden_channels': 128, 'lr': 0.0001119596715564752, 'dropout': 0.3972947320382739, 'pos_weight_clip': 14.87391909354509}. Best is trial 5 with value: 0.9655172413793104.\n"
          ]
        },
        {
          "output_type": "stream",
          "name": "stdout",
          "text": [
            "Trial 12: F1-score=0.0000 | Precision=0.0000 | Recall=0.0000 | Acc=0.9826\n"
          ]
        },
        {
          "output_type": "stream",
          "name": "stderr",
          "text": [
            "[I 2025-07-11 03:25:06,299] Trial 13 finished with value: 0.0 and parameters: {'hidden_channels': 64, 'lr': 0.0061511281160125135, 'dropout': 0.5947471905331441, 'pos_weight_clip': 5.181697814028523}. Best is trial 5 with value: 0.9655172413793104.\n"
          ]
        },
        {
          "output_type": "stream",
          "name": "stdout",
          "text": [
            "Trial 13: F1-score=0.0000 | Precision=0.0000 | Recall=0.0000 | Acc=0.9826\n"
          ]
        },
        {
          "output_type": "stream",
          "name": "stderr",
          "text": [
            "[I 2025-07-11 03:25:10,040] Trial 14 finished with value: 0.125 and parameters: {'hidden_channels': 32, 'lr': 0.001203833766321515, 'dropout': 0.4998301450027681, 'pos_weight_clip': 13.184207521075768}. Best is trial 5 with value: 0.9655172413793104.\n"
          ]
        },
        {
          "output_type": "stream",
          "name": "stdout",
          "text": [
            "Trial 14: F1-score=0.1250 | Precision=1.0000 | Recall=0.0667 | Acc=0.9837\n"
          ]
        },
        {
          "output_type": "stream",
          "name": "stderr",
          "text": [
            "[I 2025-07-11 03:25:27,731] Trial 15 finished with value: 0.0 and parameters: {'hidden_channels': 128, 'lr': 0.000707216348287868, 'dropout': 0.4107750685265452, 'pos_weight_clip': 16.27929111774031}. Best is trial 5 with value: 0.9655172413793104.\n"
          ]
        },
        {
          "output_type": "stream",
          "name": "stdout",
          "text": [
            "Trial 15: F1-score=0.0000 | Precision=0.0000 | Recall=0.0000 | Acc=0.9826\n"
          ]
        },
        {
          "output_type": "stream",
          "name": "stderr",
          "text": [
            "[I 2025-07-11 03:25:35,005] Trial 16 finished with value: 0.8 and parameters: {'hidden_channels': 64, 'lr': 0.0017131433894121888, 'dropout': 0.6140517231437865, 'pos_weight_clip': 11.859724672536998}. Best is trial 5 with value: 0.9655172413793104.\n"
          ]
        },
        {
          "output_type": "stream",
          "name": "stdout",
          "text": [
            "Trial 16: F1-score=0.8000 | Precision=1.0000 | Recall=0.6667 | Acc=0.9942\n"
          ]
        },
        {
          "output_type": "stream",
          "name": "stderr",
          "text": [
            "[I 2025-07-11 03:25:53,253] Trial 17 finished with value: 0.0 and parameters: {'hidden_channels': 128, 'lr': 0.005048852450027213, 'dropout': 0.6114060194029984, 'pos_weight_clip': 12.325036624889336}. Best is trial 5 with value: 0.9655172413793104.\n"
          ]
        },
        {
          "output_type": "stream",
          "name": "stdout",
          "text": [
            "Trial 17: F1-score=0.0000 | Precision=0.0000 | Recall=0.0000 | Acc=0.9826\n"
          ]
        },
        {
          "output_type": "stream",
          "name": "stderr",
          "text": [
            "[I 2025-07-11 03:26:01,129] Trial 18 finished with value: 0.0 and parameters: {'hidden_channels': 64, 'lr': 0.002575081358106966, 'dropout': 0.6337831881726881, 'pos_weight_clip': 19.861464575375614}. Best is trial 5 with value: 0.9655172413793104.\n"
          ]
        },
        {
          "output_type": "stream",
          "name": "stdout",
          "text": [
            "Trial 18: F1-score=0.0000 | Precision=0.0000 | Recall=0.0000 | Acc=0.9826\n"
          ]
        },
        {
          "output_type": "stream",
          "name": "stderr",
          "text": [
            "[I 2025-07-11 03:26:04,880] Trial 19 finished with value: 0.0 and parameters: {'hidden_channels': 32, 'lr': 0.0016944553048878486, 'dropout': 0.5235677506142368, 'pos_weight_clip': 9.9995621462605}. Best is trial 5 with value: 0.9655172413793104.\n"
          ]
        },
        {
          "output_type": "stream",
          "name": "stdout",
          "text": [
            "Trial 19: F1-score=0.0000 | Precision=0.0000 | Recall=0.0000 | Acc=0.9826\n"
          ]
        },
        {
          "output_type": "stream",
          "name": "stderr",
          "text": [
            "[I 2025-07-11 03:26:21,745] Trial 20 finished with value: 0.0 and parameters: {'hidden_channels': 128, 'lr': 0.00040695226507978844, 'dropout': 0.6329752221153071, 'pos_weight_clip': 8.132373892536384}. Best is trial 5 with value: 0.9655172413793104.\n"
          ]
        },
        {
          "output_type": "stream",
          "name": "stdout",
          "text": [
            "Trial 20: F1-score=0.0000 | Precision=0.0000 | Recall=0.0000 | Acc=0.9733\n"
          ]
        },
        {
          "output_type": "stream",
          "name": "stderr",
          "text": [
            "[I 2025-07-11 03:26:29,593] Trial 21 finished with value: 0.9655172413793104 and parameters: {'hidden_channels': 64, 'lr': 0.0014679316433196166, 'dropout': 0.45337971494503526, 'pos_weight_clip': 16.03320966899146}. Best is trial 5 with value: 0.9655172413793104.\n"
          ]
        },
        {
          "output_type": "stream",
          "name": "stdout",
          "text": [
            "Trial 21: F1-score=0.9655 | Precision=1.0000 | Recall=0.9333 | Acc=0.9988\n",
            "  ✅ Nuevo mejor modelo guardado\n"
          ]
        },
        {
          "output_type": "stream",
          "name": "stderr",
          "text": [
            "[I 2025-07-11 03:26:36,565] Trial 22 finished with value: 0.9655172413793104 and parameters: {'hidden_channels': 64, 'lr': 0.0016464567120922254, 'dropout': 0.46395959734058967, 'pos_weight_clip': 16.385507541540523}. Best is trial 5 with value: 0.9655172413793104.\n"
          ]
        },
        {
          "output_type": "stream",
          "name": "stdout",
          "text": [
            "Trial 22: F1-score=0.9655 | Precision=1.0000 | Recall=0.9333 | Acc=0.9988\n",
            "  ✅ Nuevo mejor modelo guardado\n"
          ]
        },
        {
          "output_type": "stream",
          "name": "stderr",
          "text": [
            "[I 2025-07-11 03:26:44,301] Trial 23 finished with value: 0.0 and parameters: {'hidden_channels': 64, 'lr': 0.003550764499388649, 'dropout': 0.45163549665204306, 'pos_weight_clip': 16.33397373734888}. Best is trial 5 with value: 0.9655172413793104.\n"
          ]
        },
        {
          "output_type": "stream",
          "name": "stdout",
          "text": [
            "Trial 23: F1-score=0.0000 | Precision=0.0000 | Recall=0.0000 | Acc=0.9826\n"
          ]
        },
        {
          "output_type": "stream",
          "name": "stderr",
          "text": [
            "[I 2025-07-11 03:26:51,403] Trial 24 finished with value: 0.125 and parameters: {'hidden_channels': 64, 'lr': 0.0015445993154781152, 'dropout': 0.4883570691950258, 'pos_weight_clip': 16.514726151003813}. Best is trial 5 with value: 0.9655172413793104.\n"
          ]
        },
        {
          "output_type": "stream",
          "name": "stdout",
          "text": [
            "Trial 24: F1-score=0.1250 | Precision=1.0000 | Recall=0.0667 | Acc=0.9837\n"
          ]
        },
        {
          "output_type": "stream",
          "name": "stderr",
          "text": [
            "[I 2025-07-11 03:26:59,068] Trial 25 finished with value: 0.0 and parameters: {'hidden_channels': 64, 'lr': 0.0007942881982850099, 'dropout': 0.5269421914718049, 'pos_weight_clip': 15.505881299971108}. Best is trial 5 with value: 0.9655172413793104.\n"
          ]
        },
        {
          "output_type": "stream",
          "name": "stdout",
          "text": [
            "Trial 25: F1-score=0.0000 | Precision=0.0000 | Recall=0.0000 | Acc=0.9826\n"
          ]
        },
        {
          "output_type": "stream",
          "name": "stderr",
          "text": [
            "[I 2025-07-11 03:27:07,385] Trial 26 finished with value: 0.0 and parameters: {'hidden_channels': 64, 'lr': 0.006826374552818409, 'dropout': 0.43654478506978667, 'pos_weight_clip': 13.596884067444583}. Best is trial 5 with value: 0.9655172413793104.\n"
          ]
        },
        {
          "output_type": "stream",
          "name": "stdout",
          "text": [
            "Trial 26: F1-score=0.0000 | Precision=0.0000 | Recall=0.0000 | Acc=0.9826\n"
          ]
        },
        {
          "output_type": "stream",
          "name": "stderr",
          "text": [
            "[I 2025-07-11 03:27:14,523] Trial 27 finished with value: 0.0 and parameters: {'hidden_channels': 64, 'lr': 0.004071506384655067, 'dropout': 0.43062852892047726, 'pos_weight_clip': 18.040194600638767}. Best is trial 5 with value: 0.9655172413793104.\n"
          ]
        },
        {
          "output_type": "stream",
          "name": "stdout",
          "text": [
            "Trial 27: F1-score=0.0000 | Precision=0.0000 | Recall=0.0000 | Acc=0.9826\n"
          ]
        },
        {
          "output_type": "stream",
          "name": "stderr",
          "text": [
            "[I 2025-07-11 03:27:18,243] Trial 28 finished with value: 0.9032258064516129 and parameters: {'hidden_channels': 32, 'lr': 0.002791551977326023, 'dropout': 0.482693827370196, 'pos_weight_clip': 19.374753341852447}. Best is trial 5 with value: 0.9655172413793104.\n"
          ]
        },
        {
          "output_type": "stream",
          "name": "stdout",
          "text": [
            "Trial 28: F1-score=0.9032 | Precision=0.8750 | Recall=0.9333 | Acc=0.9965\n"
          ]
        },
        {
          "output_type": "stream",
          "name": "stderr",
          "text": [
            "[I 2025-07-11 03:27:36,261] Trial 29 finished with value: 0.23529411764705882 and parameters: {'hidden_channels': 128, 'lr': 0.0005144792698690014, 'dropout': 0.5539249049669053, 'pos_weight_clip': 17.33692237219446}. Best is trial 5 with value: 0.9655172413793104.\n"
          ]
        },
        {
          "output_type": "stream",
          "name": "stdout",
          "text": [
            "Trial 29: F1-score=0.2353 | Precision=1.0000 | Recall=0.1333 | Acc=0.9849\n",
            "\n",
            "🔍 Mejor trial encontrado:\n",
            "Trial #5\n",
            "  hidden_channels: 128\n",
            "  lr: 0.0025078505850294813\n",
            "  dropout: 0.5298444030151633\n",
            "  pos_weight_clip: 13.788448659519439\n",
            "Mejor F1-score en validación: 0.9655\n"
          ]
        }
      ]
    },
    {
      "cell_type": "code",
      "source": [
        "# ----------------------------\n",
        "# CARGAR EL MEJOR MODELO\n",
        "# ----------------------------\n",
        "\n",
        "import torch\n",
        "from sklearn.metrics import classification_report, confusion_matrix, precision_score, recall_score, f1_score\n",
        "import matplotlib.pyplot as plt\n",
        "import seaborn as sns\n",
        "\n",
        "# Paso 0: Cargar el modelo\n",
        "#with open(\"mejores_parametros.json\", \"r\") as f:\n",
        "#    params = json.load(f)\n",
        "\n",
        "#model = BinaryHeteroGNN(**params).to(device)\n",
        "#model.load_state_dict(torch.load(\"mejor_modelo.pt\"))\n",
        "\n",
        "# Paso 1: Reconstruir el modelo y cargar el mejor estado guardado\n",
        "best_model = best_model_holder[\"model\"]\n",
        "best_model.eval()\n",
        "\n",
        "# Paso 2: Forward del mejor modelo\n",
        "with torch.no_grad():\n",
        "    out = best_model(data.x_dict, data.edge_index_dict)\n",
        "    preds = (torch.sigmoid(out[val_mask]) > 0.5).cpu().numpy()\n",
        "    true_labels = labels[val_mask].cpu().numpy()\n",
        "\n",
        "# Paso 3: Reporte de clasificación\n",
        "print(\"\\n📋 Reporte de clasificación:\")\n",
        "print(classification_report(true_labels, preds, target_names=[\"Negativo\", \"Positivo\"]))\n",
        "\n",
        "# Paso 4: Métricas individuales\n",
        "precision_val = precision_score(true_labels, preds, zero_division=0)\n",
        "recall_val = recall_score(true_labels, preds, zero_division=0)\n",
        "f1_val = f1_score(true_labels, preds, zero_division=0)\n",
        "accuracy_val = (preds == true_labels).mean()\n",
        "\n",
        "print(f\"\\n🔢 Métricas individuales:\")\n",
        "print(f\"Precisión: {precision_val:.4f}\")\n",
        "print(f\"Recall: {recall_val:.4f}\")\n",
        "print(f\"F1-score: {f1_val:.4f}\")\n",
        "print(f\"Accuracy: {accuracy_val:.4f}\")\n",
        "\n",
        "# Paso 5: Matriz de confusión\n",
        "conf_matrix = confusion_matrix(true_labels, preds)\n",
        "plt.figure(figsize=(6, 5))\n",
        "sns.heatmap(conf_matrix, annot=True, fmt='d', cmap='Blues',\n",
        "            xticklabels=[\"Negativo\", \"Positivo\"],\n",
        "            yticklabels=[\"Negativo\", \"Positivo\"])\n",
        "plt.xlabel(\"Predicción\")\n",
        "plt.ylabel(\"Real\")\n",
        "plt.title(\"Matriz de Confusión (Mejor modelo)\")\n",
        "plt.tight_layout()\n",
        "plt.savefig(\"confusion_matrix.png\")\n",
        "plt.show()\n"
      ],
      "metadata": {
        "colab": {
          "base_uri": "https://localhost:8080/",
          "height": 801
        },
        "id": "D7R3SKYgeb-3",
        "outputId": "50e6119d-9a45-4486-82d8-c9802f9f95ed"
      },
      "execution_count": null,
      "outputs": [
        {
          "output_type": "stream",
          "name": "stdout",
          "text": [
            "\n",
            "📋 Reporte de clasificación:\n",
            "              precision    recall  f1-score   support\n",
            "\n",
            "    Negativo       1.00      1.00      1.00       845\n",
            "    Positivo       1.00      0.93      0.97        15\n",
            "\n",
            "    accuracy                           1.00       860\n",
            "   macro avg       1.00      0.97      0.98       860\n",
            "weighted avg       1.00      1.00      1.00       860\n",
            "\n",
            "\n",
            "🔢 Métricas individuales:\n",
            "Precisión: 1.0000\n",
            "Recall: 0.9333\n",
            "F1-score: 0.9655\n",
            "Accuracy: 0.9988\n"
          ]
        },
        {
          "output_type": "display_data",
          "data": {
            "text/plain": [
              "<Figure size 600x500 with 2 Axes>"
            ],
            "image/png": "[encoded data removed]"
          },
          "metadata": {}
        }
      ]
    },
    {
      "cell_type": "markdown",
      "source": [
        "# Datos TEST"
      ],
      "metadata": {
        "id": "E0FqPOKVkkbJ"
      }
    },
    {
      "cell_type": "code",
      "source": [
        "import torch\n",
        "\n",
        "# Cargar el grafo\n",
        "data_test = torch.load(\"./drive/MyDrive/Colab Notebooks/dataset/test_zamacola_heterograph_fase2.pt\", weights_only=False)\n",
        "\n",
        "print(\"✅ Grafo heterogéneo cargado correctamente\")\n",
        "print(data_test)"
      ],
      "metadata": {
        "colab": {
          "base_uri": "https://localhost:8080/"
        },
        "id": "BQG0i_x5kd2T",
        "outputId": "bcea4fb8-d697-47e5-d89c-32462b6f25a2"
      },
      "execution_count": null,
      "outputs": [
        {
          "output_type": "stream",
          "name": "stdout",
          "text": [
            "✅ Grafo heterogéneo cargado correctamente\n",
            "HeteroData(\n",
            "  cuadra={\n",
            "    x=[4296, 8],\n",
            "    feature_columns=[8],\n",
            "    cuadra_id=[4296],\n",
            "    node_index=[4296],\n",
            "    y=[4296],\n",
            "  },\n",
            "  health_post={\n",
            "    x=[4, 2],\n",
            "    name=[4],\n",
            "    node_index=[4],\n",
            "  },\n",
            "  water_channel={\n",
            "    x=[218, 2],\n",
            "    ident=[218],\n",
            "    node_index=[218],\n",
            "  },\n",
            "  (cuadra, vecina_de, cuadra)={ edge_index=[2, 64086] },\n",
            "  (cuadra, reporta_a, health_post)={\n",
            "    edge_index=[2, 4296],\n",
            "    edge_attr=[4296, 1],\n",
            "  },\n",
            "  (health_post, atiende_a, cuadra)={\n",
            "    edge_index=[2, 4296],\n",
            "    edge_attr=[4296, 1],\n",
            "  },\n",
            "  (cuadra, cerca_de, water_channel)={\n",
            "    edge_index=[2, 9228],\n",
            "    edge_attr=[9228, 1],\n",
            "  }\n",
            ")\n"
          ]
        }
      ]
    },
    {
      "cell_type": "code",
      "source": [
        "# ============================\n",
        "# - CREAR ETIQUETAS BINARIAS + RIESGO VECINAL (CLASIFICACION BINARIA)\n",
        "# ============================\n",
        "# - VERIFICACIÓN DE ETIQUETAS venidas del grafo\n",
        "\n",
        "cuadra_labels_test = data_test['cuadra'].y  # Ya están en el grafo\n",
        "\n",
        "print(f\"Etiquetas positivas: {(cuadra_labels_test == 1).sum().item()} / {cuadra_labels_test.numel()}\")"
      ],
      "metadata": {
        "colab": {
          "base_uri": "https://localhost:8080/"
        },
        "id": "mdaRTzeDksny",
        "outputId": "0e83d8b6-274c-41b4-9b98-6c5bc8de86fb"
      },
      "execution_count": null,
      "outputs": [
        {
          "output_type": "stream",
          "name": "stdout",
          "text": [
            "Etiquetas positivas: 13 / 4296\n"
          ]
        }
      ]
    },
    {
      "cell_type": "code",
      "source": [
        "# Evaluación del mejor modelo sobre el grafo de test\n",
        "best_model.eval()\n",
        "data_test = data_test.to(device)\n",
        "best_model = best_model.to(device)\n",
        "\n",
        "with torch.no_grad():\n",
        "    out_test = best_model(data_test.x_dict, data_test.edge_index_dict)\n",
        "    pred_probs_test = torch.sigmoid(out_test)\n",
        "    pred_labels_test = (pred_probs_test > 0.5).long()\n",
        "\n",
        "true_labels_test = data_test[\"cuadra\"].y.cpu().numpy()\n",
        "pred_labels_test_np = pred_labels_test.cpu().numpy()\n",
        "\n",
        "from sklearn.metrics import classification_report\n",
        "print(classification_report(true_labels_test, pred_labels_test_np, digits=4))\n"
      ],
      "metadata": {
        "colab": {
          "base_uri": "https://localhost:8080/"
        },
        "id": "naM0-GC7mfWW",
        "outputId": "b8c9fcfc-3e21-4467-f91b-15abc935f2ce"
      },
      "execution_count": null,
      "outputs": [
        {
          "output_type": "stream",
          "name": "stdout",
          "text": [
            "              precision    recall  f1-score   support\n",
            "\n",
            "           0     1.0000    1.0000    1.0000      4283\n",
            "           1     1.0000    1.0000    1.0000        13\n",
            "\n",
            "    accuracy                         1.0000      4296\n",
            "   macro avg     1.0000    1.0000    1.0000      4296\n",
            "weighted avg     1.0000    1.0000    1.0000      4296\n",
            "\n"
          ]
        }
      ]
    },
    {
      "cell_type": "markdown",
      "source": [
        "# RANDOM FOREST"
      ],
      "metadata": {
        "id": "nMQVz-IZZrLJ"
      }
    },
    {
      "cell_type": "code",
      "source": [
        "import geopandas as gpd\n",
        "rf_cuadras = gpd.read_file('./drive/MyDrive/Colab Notebooks/dataset/rf_cuadras.gpkg')\n",
        "rf_cuadras.head()"
      ],
      "metadata": {
        "colab": {
          "base_uri": "https://localhost:8080/",
          "height": 574
        },
        "id": "NHy5mtC30Jdb",
        "outputId": "f0f2bdb3-0584-4b52-a78d-e9e5a0736d62"
      },
      "execution_count": null,
      "outputs": [
        {
          "output_type": "execute_result",
          "data": {
            "text/plain": [
              "    cuadra_id  ingreso_B  ingreso_C  ingreso_D  ingreso_E  \\\n",
              "0   1.4.100-1      False      False       True      False   \n",
              "1  1.4.100-10      False      False       True      False   \n",
              "2  1.4.100-11      False      False       True      False   \n",
              "3  1.4.100-12      False      False       True      False   \n",
              "4   1.4.100-2      False      False       True      False   \n",
              "\n",
              "   num_rabies_cases_in_cuadra  dist_to_nearest_health_post  \\\n",
              "0                           0                  1815.732788   \n",
              "1                           0                  1610.846277   \n",
              "2                           0                  1787.481405   \n",
              "3                           0                  1521.736024   \n",
              "4                           0                  1778.237966   \n",
              "\n",
              "   dist_to_nearest_water_channel  min_dist_to_rabies_case  y  \\\n",
              "0                    9999.000000              9999.000000  0   \n",
              "1                     415.993967              9999.000000  0   \n",
              "2                     476.290826                32.510141  0   \n",
              "3                     339.202959              9999.000000  0   \n",
              "4                    9999.000000              9999.000000  0   \n",
              "\n",
              "                                            geometry  \n",
              "0  POLYGON ((224268.545 8190480.422, 224175.196 8...  \n",
              "1  POLYGON ((223983.171 8191303.516, 223985.935 8...  \n",
              "2  POLYGON ((223991.362 8191312.242, 224167.947 8...  \n",
              "3  POLYGON ((223736.505 8191347.126, 223726.379 8...  \n",
              "4  POLYGON ((223940.104 8190652.198, 223924.309 8...  "
            ],
            "text/html": [
              "\n",
              "  <div id=\"df-365ed456-73cb-4d2e-b3d1-6822fb709abb\" class=\"colab-df-container\">\n",
              "    <div>\n",
              "<style scoped>\n",
              "    .dataframe tbody tr th:only-of-type {\n",
              "        vertical-align: middle;\n",
              "    }\n",
              "\n",
              "    .dataframe tbody tr th {\n",
              "        vertical-align: top;\n",
              "    }\n",
              "\n",
              "    .dataframe thead th {\n",
              "        text-align: right;\n",
              "    }\n",
              "</style>\n",
              "<table border=\"1\" class=\"dataframe\">\n",
              "  <thead>\n",
              "    <tr style=\"text-align: right;\">\n",
              "      <th></th>\n",
              "      <th>cuadra_id</th>\n",
              "      <th>ingreso_B</th>\n",
              "      <th>ingreso_C</th>\n",
              "      <th>ingreso_D</th>\n",
              "      <th>ingreso_E</th>\n",
              "      <th>num_rabies_cases_in_cuadra</th>\n",
              "      <th>dist_to_nearest_health_post</th>\n",
              "      <th>dist_to_nearest_water_channel</th>\n",
              "      <th>min_dist_to_rabies_case</th>\n",
              "      <th>y</th>\n",
              "      <th>geometry</th>\n",
              "    </tr>\n",
              "  </thead>\n",
              "  <tbody>\n",
              "    <tr>\n",
              "      <th>0</th>\n",
              "      <td>1.4.100-1</td>\n",
              "      <td>False</td>\n",
              "      <td>False</td>\n",
              "      <td>True</td>\n",
              "      <td>False</td>\n",
              "      <td>0</td>\n",
              "      <td>1815.732788</td>\n",
              "      <td>9999.000000</td>\n",
              "      <td>9999.000000</td>\n",
              "      <td>0</td>\n",
              "      <td>POLYGON ((224268.545 8190480.422, 224175.196 8...</td>\n",
              "    </tr>\n",
              "    <tr>\n",
              "      <th>1</th>\n",
              "      <td>1.4.100-10</td>\n",
              "      <td>False</td>\n",
              "      <td>False</td>\n",
              "      <td>True</td>\n",
              "      <td>False</td>\n",
              "      <td>0</td>\n",
              "      <td>1610.846277</td>\n",
              "      <td>415.993967</td>\n",
              "      <td>9999.000000</td>\n",
              "      <td>0</td>\n",
              "      <td>POLYGON ((223983.171 8191303.516, 223985.935 8...</td>\n",
              "    </tr>\n",
              "    <tr>\n",
              "      <th>2</th>\n",
              "      <td>1.4.100-11</td>\n",
              "      <td>False</td>\n",
              "      <td>False</td>\n",
              "      <td>True</td>\n",
              "      <td>False</td>\n",
              "      <td>0</td>\n",
              "      <td>1787.481405</td>\n",
              "      <td>476.290826</td>\n",
              "      <td>32.510141</td>\n",
              "      <td>0</td>\n",
              "      <td>POLYGON ((223991.362 8191312.242, 224167.947 8...</td>\n",
              "    </tr>\n",
              "    <tr>\n",
              "      <th>3</th>\n",
              "      <td>1.4.100-12</td>\n",
              "      <td>False</td>\n",
              "      <td>False</td>\n",
              "      <td>True</td>\n",
              "      <td>False</td>\n",
              "      <td>0</td>\n",
              "      <td>1521.736024</td>\n",
              "      <td>339.202959</td>\n",
              "      <td>9999.000000</td>\n",
              "      <td>0</td>\n",
              "      <td>POLYGON ((223736.505 8191347.126, 223726.379 8...</td>\n",
              "    </tr>\n",
              "    <tr>\n",
              "      <th>4</th>\n",
              "      <td>1.4.100-2</td>\n",
              "      <td>False</td>\n",
              "      <td>False</td>\n",
              "      <td>True</td>\n",
              "      <td>False</td>\n",
              "      <td>0</td>\n",
              "      <td>1778.237966</td>\n",
              "      <td>9999.000000</td>\n",
              "      <td>9999.000000</td>\n",
              "      <td>0</td>\n",
              "      <td>POLYGON ((223940.104 8190652.198, 223924.309 8...</td>\n",
              "    </tr>\n",
              "  </tbody>\n",
              "</table>\n",
              "</div>\n",
              "    <div class=\"colab-df-buttons\">\n",
              "\n",
              "  <div class=\"colab-df-container\">\n",
              "    <button class=\"colab-df-convert\" onclick=\"convertToInteractive('df-365ed456-73cb-4d2e-b3d1-6822fb709abb')\"\n",
              "            title=\"Convert this dataframe to an interactive table.\"\n",
              "            style=\"display:none;\">\n",
              "\n",
              "  <svg xmlns=\"http://www.w3.org/2000/svg\" height=\"24px\" viewBox=\"0 -960 960 960\">\n",
              "    <path d=\"M120-120v-720h720v720H120Zm60-500h600v-160H180v160Zm220 220h160v-160H400v160Zm0 220h160v-160H400v160ZM180-400h160v-160H180v160Zm440 0h160v-160H620v160ZM180-180h160v-160H180v160Zm440 0h160v-160H620v160Z\"/>\n",
              "  </svg>\n",
              "    </button>\n",
              "\n",
              "  <style>\n",
              "    .colab-df-container {\n",
              "      display:flex;\n",
              "      gap: 12px;\n",
              "    }\n",
              "\n",
              "    .colab-df-convert {\n",
              "      background-color: #E8F0FE;\n",
              "      border: none;\n",
              "      border-radius: 50%;\n",
              "      cursor: pointer;\n",
              "      display: none;\n",
              "      fill: #1967D2;\n",
              "      height: 32px;\n",
              "      padding: 0 0 0 0;\n",
              "      width: 32px;\n",
              "    }\n",
              "\n",
              "    .colab-df-convert:hover {\n",
              "      background-color: #E2EBFA;\n",
              "      box-shadow: 0px 1px 2px rgba(60, 64, 67, 0.3), 0px 1px 3px 1px rgba(60, 64, 67, 0.15);\n",
              "      fill: #174EA6;\n",
              "    }\n",
              "\n",
              "    .colab-df-buttons div {\n",
              "      margin-bottom: 4px;\n",
              "    }\n",
              "\n",
              "    [theme=dark] .colab-df-convert {\n",
              "      background-color: #3B4455;\n",
              "      fill: #D2E3FC;\n",
              "    }\n",
              "\n",
              "    [theme=dark] .colab-df-convert:hover {\n",
              "      background-color: #434B5C;\n",
              "      box-shadow: 0px 1px 3px 1px rgba(0, 0, 0, 0.15);\n",
              "      filter: drop-shadow(0px 1px 2px rgba(0, 0, 0, 0.3));\n",
              "      fill: #FFFFFF;\n",
              "    }\n",
              "  </style>\n",
              "\n",
              "    <script>\n",
              "      const buttonEl =\n",
              "        document.querySelector('#df-365ed456-73cb-4d2e-b3d1-6822fb709abb button.colab-df-convert');\n",
              "      buttonEl.style.display =\n",
              "        google.colab.kernel.accessAllowed ? 'block' : 'none';\n",
              "\n",
              "      async function convertToInteractive(key) {\n",
              "        const element = document.querySelector('#df-365ed456-73cb-4d2e-b3d1-6822fb709abb');\n",
              "        const dataTable =\n",
              "          await google.colab.kernel.invokeFunction('convertToInteractive',\n",
              "                                                    [key], {});\n",
              "        if (!dataTable) return;\n",
              "\n",
              "        const docLinkHtml = 'Like what you see? Visit the ' +\n",
              "          '<a target=\"_blank\" href=https://colab.research.google.com/notebooks/data_table.ipynb>data table notebook</a>'\n",
              "          + ' to learn more about interactive tables.';\n",
              "        element.innerHTML = '';\n",
              "        dataTable['output_type'] = 'display_data';\n",
              "        await google.colab.output.renderOutput(dataTable, element);\n",
              "        const docLink = document.createElement('div');\n",
              "        docLink.innerHTML = docLinkHtml;\n",
              "        element.appendChild(docLink);\n",
              "      }\n",
              "    </script>\n",
              "  </div>\n",
              "\n",
              "\n",
              "    <div id=\"df-fdfd02a4-6e11-4a10-971d-475c30e51a8a\">\n",
              "      <button class=\"colab-df-quickchart\" onclick=\"quickchart('df-fdfd02a4-6e11-4a10-971d-475c30e51a8a')\"\n",
              "                title=\"Suggest charts\"\n",
              "                style=\"display:none;\">\n",
              "\n",
              "<svg xmlns=\"http://www.w3.org/2000/svg\" height=\"24px\"viewBox=\"0 0 24 24\"\n",
              "     width=\"24px\">\n",
              "    <g>\n",
              "        <path d=\"M19 3H5c-1.1 0-2 .9-2 2v14c0 1.1.9 2 2 2h14c1.1 0 2-.9 2-2V5c0-1.1-.9-2-2-2zM9 17H7v-7h2v7zm4 0h-2V7h2v10zm4 0h-2v-4h2v4z\"/>\n",
              "    </g>\n",
              "</svg>\n",
              "      </button>\n",
              "\n",
              "<style>\n",
              "  .colab-df-quickchart {\n",
              "      --bg-color: #E8F0FE;\n",
              "      --fill-color: #1967D2;\n",
              "      --hover-bg-color: #E2EBFA;\n",
              "      --hover-fill-color: #174EA6;\n",
              "      --disabled-fill-color: #AAA;\n",
              "      --disabled-bg-color: #DDD;\n",
              "  }\n",
              "\n",
              "  [theme=dark] .colab-df-quickchart {\n",
              "      --bg-color: #3B4455;\n",
              "      --fill-color: #D2E3FC;\n",
              "      --hover-bg-color: #434B5C;\n",
              "      --hover-fill-color: #FFFFFF;\n",
              "      --disabled-bg-color: #3B4455;\n",
              "      --disabled-fill-color: #666;\n",
              "  }\n",
              "\n",
              "  .colab-df-quickchart {\n",
              "    background-color: var(--bg-color);\n",
              "    border: none;\n",
              "    border-radius: 50%;\n",
              "    cursor: pointer;\n",
              "    display: none;\n",
              "    fill: var(--fill-color);\n",
              "    height: 32px;\n",
              "    padding: 0;\n",
              "    width: 32px;\n",
              "  }\n",
              "\n",
              "  .colab-df-quickchart:hover {\n",
              "    background-color: var(--hover-bg-color);\n",
              "    box-shadow: 0 1px 2px rgba(60, 64, 67, 0.3), 0 1px 3px 1px rgba(60, 64, 67, 0.15);\n",
              "    fill: var(--button-hover-fill-color);\n",
              "  }\n",
              "\n",
              "  .colab-df-quickchart-complete:disabled,\n",
              "  .colab-df-quickchart-complete:disabled:hover {\n",
              "    background-color: var(--disabled-bg-color);\n",
              "    fill: var(--disabled-fill-color);\n",
              "    box-shadow: none;\n",
              "  }\n",
              "\n",
              "  .colab-df-spinner {\n",
              "    border: 2px solid var(--fill-color);\n",
              "    border-color: transparent;\n",
              "    border-bottom-color: var(--fill-color);\n",
              "    animation:\n",
              "      spin 1s steps(1) infinite;\n",
              "  }\n",
              "\n",
              "  @keyframes spin {\n",
              "    0% {\n",
              "      border-color: transparent;\n",
              "      border-bottom-color: var(--fill-color);\n",
              "      border-left-color: var(--fill-color);\n",
              "    }\n",
              "    20% {\n",
              "      border-color: transparent;\n",
              "      border-left-color: var(--fill-color);\n",
              "      border-top-color: var(--fill-color);\n",
              "    }\n",
              "    30% {\n",
              "      border-color: transparent;\n",
              "      border-left-color: var(--fill-color);\n",
              "      border-top-color: var(--fill-color);\n",
              "      border-right-color: var(--fill-color);\n",
              "    }\n",
              "    40% {\n",
              "      border-color: transparent;\n",
              "      border-right-color: var(--fill-color);\n",
              "      border-top-color: var(--fill-color);\n",
              "    }\n",
              "    60% {\n",
              "      border-color: transparent;\n",
              "      border-right-color: var(--fill-color);\n",
              "    }\n",
              "    80% {\n",
              "      border-color: transparent;\n",
              "      border-right-color: var(--fill-color);\n",
              "      border-bottom-color: var(--fill-color);\n",
              "    }\n",
              "    90% {\n",
              "      border-color: transparent;\n",
              "      border-bottom-color: var(--fill-color);\n",
              "    }\n",
              "  }\n",
              "</style>\n",
              "\n",
              "      <script>\n",
              "        async function quickchart(key) {\n",
              "          const quickchartButtonEl =\n",
              "            document.querySelector('#' + key + ' button');\n",
              "          quickchartButtonEl.disabled = true;  // To prevent multiple clicks.\n",
              "          quickchartButtonEl.classList.add('colab-df-spinner');\n",
              "          try {\n",
              "            const charts = await google.colab.kernel.invokeFunction(\n",
              "                'suggestCharts', [key], {});\n",
              "          } catch (error) {\n",
              "            console.error('Error during call to suggestCharts:', error);\n",
              "          }\n",
              "          quickchartButtonEl.classList.remove('colab-df-spinner');\n",
              "          quickchartButtonEl.classList.add('colab-df-quickchart-complete');\n",
              "        }\n",
              "        (() => {\n",
              "          let quickchartButtonEl =\n",
              "            document.querySelector('#df-fdfd02a4-6e11-4a10-971d-475c30e51a8a button');\n",
              "          quickchartButtonEl.style.display =\n",
              "            google.colab.kernel.accessAllowed ? 'block' : 'none';\n",
              "        })();\n",
              "      </script>\n",
              "    </div>\n",
              "\n",
              "    </div>\n",
              "  </div>\n"
            ],
            "application/vnd.google.colaboratory.intrinsic+json": {
              "type": "dataframe",
              "variable_name": "rf_cuadras",
              "summary": "{\n  \"name\": \"rf_cuadras\",\n  \"rows\": 4296,\n  \"fields\": [\n    {\n      \"column\": \"cuadra_id\",\n      \"properties\": {\n        \"dtype\": \"string\",\n        \"num_unique_values\": 4296,\n        \"samples\": [\n          \"1.4.309-47\",\n          \"1.4.328-32\",\n          \"1.4.347-11\"\n        ],\n        \"semantic_type\": \"\",\n        \"description\": \"\"\n      }\n    },\n    {\n      \"column\": \"ingreso_B\",\n      \"properties\": {\n        \"dtype\": \"boolean\",\n        \"num_unique_values\": 2,\n        \"samples\": [\n          true,\n          false\n        ],\n        \"semantic_type\": \"\",\n        \"description\": \"\"\n      }\n    },\n    {\n      \"column\": \"ingreso_C\",\n      \"properties\": {\n        \"dtype\": \"boolean\",\n        \"num_unique_values\": 2,\n        \"samples\": [\n          true,\n          false\n        ],\n        \"semantic_type\": \"\",\n        \"description\": \"\"\n      }\n    },\n    {\n      \"column\": \"ingreso_D\",\n      \"properties\": {\n        \"dtype\": \"boolean\",\n        \"num_unique_values\": 2,\n        \"samples\": [\n          false,\n          true\n        ],\n        \"semantic_type\": \"\",\n        \"description\": \"\"\n      }\n    },\n    {\n      \"column\": \"ingreso_E\",\n      \"properties\": {\n        \"dtype\": \"boolean\",\n        \"num_unique_values\": 2,\n        \"samples\": [\n          true,\n          false\n        ],\n        \"semantic_type\": \"\",\n        \"description\": \"\"\n      }\n    },\n    {\n      \"column\": \"num_rabies_cases_in_cuadra\",\n      \"properties\": {\n        \"dtype\": \"number\",\n        \"std\": 0,\n        \"min\": 0,\n        \"max\": 2,\n        \"num_unique_values\": 3,\n        \"samples\": [\n          0,\n          1\n        ],\n        \"semantic_type\": \"\",\n        \"description\": \"\"\n      }\n    },\n    {\n      \"column\": \"dist_to_nearest_health_post\",\n      \"properties\": {\n        \"dtype\": \"number\",\n        \"std\": 1002.0946510935925,\n        \"min\": 0.0,\n        \"max\": 5102.326311044073,\n        \"num_unique_values\": 4294,\n        \"samples\": [\n          1833.1597234321932,\n          785.8088807883584\n        ],\n        \"semantic_type\": \"\",\n        \"description\": \"\"\n      }\n    },\n    {\n      \"column\": \"dist_to_nearest_water_channel\",\n      \"properties\": {\n        \"dtype\": \"number\",\n        \"std\": 2828.7246308138165,\n        \"min\": 0.0,\n        \"max\": 9999.0,\n        \"num_unique_values\": 3889,\n        \"samples\": [\n          345.40830564277786,\n          471.93696389814136\n        ],\n        \"semantic_type\": \"\",\n        \"description\": \"\"\n      }\n    },\n    {\n      \"column\": \"min_dist_to_rabies_case\",\n      \"properties\": {\n        \"dtype\": \"number\",\n        \"std\": 3144.536568242471,\n        \"min\": 3.345518077751471,\n        \"max\": 9999.0,\n        \"num_unique_values\": 486,\n        \"samples\": [\n          95.48559988106592,\n          94.78305818671414\n        ],\n        \"semantic_type\": \"\",\n        \"description\": \"\"\n      }\n    },\n    {\n      \"column\": \"y\",\n      \"properties\": {\n        \"dtype\": \"number\",\n        \"std\": 0,\n        \"min\": 0,\n        \"max\": 1,\n        \"num_unique_values\": 2,\n        \"samples\": [\n          1,\n          0\n        ],\n        \"semantic_type\": \"\",\n        \"description\": \"\"\n      }\n    },\n    {\n      \"column\": \"geometry\",\n      \"properties\": {\n        \"dtype\": \"geometry\",\n        \"num_unique_values\": 4296,\n        \"samples\": [\n          \"POLYGON ((220715.40484847839 8189889.560306671, 220756.60235812038 8189991.680663734, 220722.34890713153 8190007.795032748, 220675.48681645672 8189905.878582539, 220715.40484847839 8189889.560306671))\",\n          \"POLYGON ((219432.66376892134 8191310.708343886, 219401.4843968313 8191318.857974855, 219395.20982141222 8191296.366440449, 219427.30254376715 8191288.940637184, 219419.91280251468 8191258.992222482, 219437.083775662 8191254.711362176, 219454.3386390364 8191326.115571667, 219437.7770785066 8191329.401060415, 219432.66376892134 8191310.708343886))\"\n        ],\n        \"semantic_type\": \"\",\n        \"description\": \"\"\n      }\n    }\n  ]\n}"
            }
          },
          "metadata": {},
          "execution_count": 3
        }
      ]
    },
    {
      "cell_type": "code",
      "source": [
        "import pandas as pd\n",
        "from sklearn.ensemble import RandomForestClassifier\n",
        "from sklearn.model_selection import train_test_split\n",
        "from sklearn.metrics import f1_score, precision_score, recall_score, accuracy_score\n",
        "import optuna\n",
        "\n",
        "# Suponiendo que tu DataFrame se llama df\n",
        "X = rf_cuadras[['ingreso_B', 'ingreso_C', 'ingreso_D', 'ingreso_E', 'dist_to_nearest_health_post', 'dist_to_nearest_water_channel', 'min_dist_to_rabies_case']]\n",
        "y = rf_cuadras['y']\n",
        "\n",
        "# Dividir datos 80/20\n",
        "X_train, X_val, y_train, y_val = train_test_split(\n",
        "    X, y, test_size=0.2, stratify=y, random_state=42\n",
        ")"
      ],
      "metadata": {
        "id": "m__0_xb-0ypq"
      },
      "execution_count": null,
      "outputs": []
    },
    {
      "cell_type": "code",
      "source": [
        "def rf_objective(trial):\n",
        "    n_estimators = trial.suggest_int(\"n_estimators\", 50, 300)\n",
        "    max_depth = trial.suggest_int(\"max_depth\", 3, 20)\n",
        "    min_samples_split = trial.suggest_int(\"min_samples_split\", 2, 10)\n",
        "    min_samples_leaf = trial.suggest_int(\"min_samples_leaf\", 1, 10)\n",
        "\n",
        "    clf = RandomForestClassifier(\n",
        "        n_estimators=n_estimators,\n",
        "        max_depth=max_depth,\n",
        "        min_samples_split=min_samples_split,\n",
        "        min_samples_leaf=min_samples_leaf,\n",
        "        class_weight='balanced',\n",
        "        random_state=42,\n",
        "        n_jobs=-1\n",
        "    )\n",
        "\n",
        "    clf.fit(X_train, y_train)\n",
        "    y_pred = clf.predict(X_val)\n",
        "\n",
        "    f1 = f1_score(y_val, y_pred, zero_division=0)\n",
        "    precision = precision_score(y_val, y_pred, zero_division=0)\n",
        "    recall = recall_score(y_val, y_pred, zero_division=0)\n",
        "    acc = accuracy_score(y_val, y_pred)\n",
        "\n",
        "    trial.set_user_attr(\"precision\", precision)\n",
        "    trial.set_user_attr(\"recall\", recall)\n",
        "    trial.set_user_attr(\"f1\", f1)\n",
        "    trial.set_user_attr(\"accuracy\", acc)\n",
        "\n",
        "    print(f\"Trial {trial.number}: F1={f1:.4f} | Precision={precision:.4f} | Recall={recall:.4f} | Acc={acc:.4f}\")\n",
        "\n",
        "    return f1\n",
        "\n",
        "study = optuna.create_study(direction=\"maximize\")\n",
        "study.optimize(rf_objective, n_trials=30)\n",
        "\n",
        "# Mostrar resultados\n",
        "print(\"\\n🔍 Mejor trial Random Forest:\")\n",
        "print(f\"Trial #{study.best_trial.number}\")\n",
        "for k, v in study.best_trial.params.items():\n",
        "    print(f\"  {k}: {v}\")\n",
        "print(f\"Mejor F1-score en validación: {study.best_value:.4f}\")"
      ],
      "metadata": {
        "id": "y3Al_DfSZuOi",
        "colab": {
          "base_uri": "https://localhost:8080/"
        },
        "outputId": "a00f225a-51cf-4c17-cb15-b10ad3442823"
      },
      "execution_count": null,
      "outputs": [
        {
          "output_type": "stream",
          "name": "stderr",
          "text": [
            "[I 2025-07-11 01:36:18,538] A new study created in memory with name: no-name-6bf7150c-5388-4fd4-b7e7-50f53016afc4\n",
            "[I 2025-07-11 01:36:19,582] Trial 0 finished with value: 0.41935483870967744 and parameters: {'n_estimators': 114, 'max_depth': 9, 'min_samples_split': 5, 'min_samples_leaf': 8}. Best is trial 0 with value: 0.41935483870967744.\n"
          ]
        },
        {
          "output_type": "stream",
          "name": "stdout",
          "text": [
            "Trial 0: F1=0.4194 | Precision=0.2766 | Recall=0.8667 | Acc=0.9581\n"
          ]
        },
        {
          "output_type": "stream",
          "name": "stderr",
          "text": [
            "[I 2025-07-11 01:36:20,412] Trial 1 finished with value: 0.3561643835616438 and parameters: {'n_estimators': 80, 'max_depth': 3, 'min_samples_split': 5, 'min_samples_leaf': 9}. Best is trial 0 with value: 0.41935483870967744.\n"
          ]
        },
        {
          "output_type": "stream",
          "name": "stdout",
          "text": [
            "Trial 1: F1=0.3562 | Precision=0.2241 | Recall=0.8667 | Acc=0.9453\n"
          ]
        },
        {
          "output_type": "stream",
          "name": "stderr",
          "text": [
            "[I 2025-07-11 01:36:22,972] Trial 2 finished with value: 0.4230769230769231 and parameters: {'n_estimators': 279, 'max_depth': 17, 'min_samples_split': 5, 'min_samples_leaf': 5}. Best is trial 2 with value: 0.4230769230769231.\n"
          ]
        },
        {
          "output_type": "stream",
          "name": "stdout",
          "text": [
            "Trial 2: F1=0.4231 | Precision=0.2973 | Recall=0.7333 | Acc=0.9651\n"
          ]
        },
        {
          "output_type": "stream",
          "name": "stderr",
          "text": [
            "[I 2025-07-11 01:36:23,772] Trial 3 finished with value: 0.4126984126984127 and parameters: {'n_estimators': 116, 'max_depth': 15, 'min_samples_split': 9, 'min_samples_leaf': 10}. Best is trial 2 with value: 0.4230769230769231.\n"
          ]
        },
        {
          "output_type": "stream",
          "name": "stdout",
          "text": [
            "Trial 3: F1=0.4127 | Precision=0.2708 | Recall=0.8667 | Acc=0.9570\n"
          ]
        },
        {
          "output_type": "stream",
          "name": "stderr",
          "text": [
            "[I 2025-07-11 01:36:25,399] Trial 4 finished with value: 0.37681159420289856 and parameters: {'n_estimators': 263, 'max_depth': 5, 'min_samples_split': 2, 'min_samples_leaf': 10}. Best is trial 2 with value: 0.4230769230769231.\n"
          ]
        },
        {
          "output_type": "stream",
          "name": "stdout",
          "text": [
            "Trial 4: F1=0.3768 | Precision=0.2407 | Recall=0.8667 | Acc=0.9500\n"
          ]
        },
        {
          "output_type": "stream",
          "name": "stderr",
          "text": [
            "[I 2025-07-11 01:36:25,766] Trial 5 finished with value: 0.3466666666666667 and parameters: {'n_estimators': 56, 'max_depth': 3, 'min_samples_split': 9, 'min_samples_leaf': 1}. Best is trial 2 with value: 0.4230769230769231.\n"
          ]
        },
        {
          "output_type": "stream",
          "name": "stdout",
          "text": [
            "Trial 5: F1=0.3467 | Precision=0.2167 | Recall=0.8667 | Acc=0.9430\n"
          ]
        },
        {
          "output_type": "stream",
          "name": "stderr",
          "text": [
            "[I 2025-07-11 01:36:27,624] Trial 6 finished with value: 0.3728813559322034 and parameters: {'n_estimators': 235, 'max_depth': 7, 'min_samples_split': 8, 'min_samples_leaf': 6}. Best is trial 2 with value: 0.4230769230769231.\n"
          ]
        },
        {
          "output_type": "stream",
          "name": "stdout",
          "text": [
            "Trial 6: F1=0.3729 | Precision=0.2500 | Recall=0.7333 | Acc=0.9570\n"
          ]
        },
        {
          "output_type": "stream",
          "name": "stderr",
          "text": [
            "[I 2025-07-11 01:36:29,442] Trial 7 finished with value: 0.3389830508474576 and parameters: {'n_estimators': 282, 'max_depth': 6, 'min_samples_split': 2, 'min_samples_leaf': 2}. Best is trial 2 with value: 0.4230769230769231.\n"
          ]
        },
        {
          "output_type": "stream",
          "name": "stdout",
          "text": [
            "Trial 7: F1=0.3390 | Precision=0.2273 | Recall=0.6667 | Acc=0.9547\n"
          ]
        },
        {
          "output_type": "stream",
          "name": "stderr",
          "text": [
            "[I 2025-07-11 01:36:30,293] Trial 8 finished with value: 0.41935483870967744 and parameters: {'n_estimators': 109, 'max_depth': 18, 'min_samples_split': 6, 'min_samples_leaf': 8}. Best is trial 2 with value: 0.4230769230769231.\n"
          ]
        },
        {
          "output_type": "stream",
          "name": "stdout",
          "text": [
            "Trial 8: F1=0.4194 | Precision=0.2766 | Recall=0.8667 | Acc=0.9581\n"
          ]
        },
        {
          "output_type": "stream",
          "name": "stderr",
          "text": [
            "[I 2025-07-11 01:36:30,814] Trial 9 finished with value: 0.3902439024390244 and parameters: {'n_estimators': 61, 'max_depth': 17, 'min_samples_split': 9, 'min_samples_leaf': 3}. Best is trial 2 with value: 0.4230769230769231.\n"
          ]
        },
        {
          "output_type": "stream",
          "name": "stdout",
          "text": [
            "Trial 9: F1=0.3902 | Precision=0.3077 | Recall=0.5333 | Acc=0.9709\n"
          ]
        },
        {
          "output_type": "stream",
          "name": "stderr",
          "text": [
            "[I 2025-07-11 01:36:32,361] Trial 10 finished with value: 0.43137254901960786 and parameters: {'n_estimators': 204, 'max_depth': 13, 'min_samples_split': 4, 'min_samples_leaf': 5}. Best is trial 10 with value: 0.43137254901960786.\n"
          ]
        },
        {
          "output_type": "stream",
          "name": "stdout",
          "text": [
            "Trial 10: F1=0.4314 | Precision=0.3056 | Recall=0.7333 | Acc=0.9663\n"
          ]
        },
        {
          "output_type": "stream",
          "name": "stderr",
          "text": [
            "[I 2025-07-11 01:36:34,595] Trial 11 finished with value: 0.4230769230769231 and parameters: {'n_estimators': 195, 'max_depth': 13, 'min_samples_split': 4, 'min_samples_leaf': 5}. Best is trial 10 with value: 0.43137254901960786.\n"
          ]
        },
        {
          "output_type": "stream",
          "name": "stdout",
          "text": [
            "Trial 11: F1=0.4231 | Precision=0.2973 | Recall=0.7333 | Acc=0.9651\n"
          ]
        },
        {
          "output_type": "stream",
          "name": "stderr",
          "text": [
            "[I 2025-07-11 01:36:37,385] Trial 12 finished with value: 0.4230769230769231 and parameters: {'n_estimators': 197, 'max_depth': 20, 'min_samples_split': 3, 'min_samples_leaf': 5}. Best is trial 10 with value: 0.43137254901960786.\n"
          ]
        },
        {
          "output_type": "stream",
          "name": "stdout",
          "text": [
            "Trial 12: F1=0.4231 | Precision=0.2973 | Recall=0.7333 | Acc=0.9651\n"
          ]
        },
        {
          "output_type": "stream",
          "name": "stderr",
          "text": [
            "[I 2025-07-11 01:36:39,357] Trial 13 finished with value: 0.38596491228070173 and parameters: {'n_estimators': 234, 'max_depth': 11, 'min_samples_split': 7, 'min_samples_leaf': 6}. Best is trial 10 with value: 0.43137254901960786.\n"
          ]
        },
        {
          "output_type": "stream",
          "name": "stdout",
          "text": [
            "Trial 13: F1=0.3860 | Precision=0.2619 | Recall=0.7333 | Acc=0.9593\n"
          ]
        },
        {
          "output_type": "stream",
          "name": "stderr",
          "text": [
            "[I 2025-07-11 01:36:40,568] Trial 14 finished with value: 0.3902439024390244 and parameters: {'n_estimators': 159, 'max_depth': 14, 'min_samples_split': 4, 'min_samples_leaf': 4}. Best is trial 10 with value: 0.43137254901960786.\n"
          ]
        },
        {
          "output_type": "stream",
          "name": "stdout",
          "text": [
            "Trial 14: F1=0.3902 | Precision=0.3077 | Recall=0.5333 | Acc=0.9709\n"
          ]
        },
        {
          "output_type": "stream",
          "name": "stderr",
          "text": [
            "[I 2025-07-11 01:36:42,354] Trial 15 finished with value: 0.38596491228070173 and parameters: {'n_estimators': 296, 'max_depth': 16, 'min_samples_split': 6, 'min_samples_leaf': 7}. Best is trial 10 with value: 0.43137254901960786.\n"
          ]
        },
        {
          "output_type": "stream",
          "name": "stdout",
          "text": [
            "Trial 15: F1=0.3860 | Precision=0.2619 | Recall=0.7333 | Acc=0.9593\n"
          ]
        },
        {
          "output_type": "stream",
          "name": "stderr",
          "text": [
            "[I 2025-07-11 01:36:43,861] Trial 16 finished with value: 0.391304347826087 and parameters: {'n_estimators': 237, 'max_depth': 10, 'min_samples_split': 4, 'min_samples_leaf': 4}. Best is trial 10 with value: 0.43137254901960786.\n"
          ]
        },
        {
          "output_type": "stream",
          "name": "stdout",
          "text": [
            "Trial 16: F1=0.3913 | Precision=0.2903 | Recall=0.6000 | Acc=0.9674\n"
          ]
        },
        {
          "output_type": "stream",
          "name": "stderr",
          "text": [
            "[I 2025-07-11 01:36:44,845] Trial 17 finished with value: 0.3888888888888889 and parameters: {'n_estimators': 161, 'max_depth': 20, 'min_samples_split': 6, 'min_samples_leaf': 3}. Best is trial 10 with value: 0.43137254901960786.\n"
          ]
        },
        {
          "output_type": "stream",
          "name": "stdout",
          "text": [
            "Trial 17: F1=0.3889 | Precision=0.3333 | Recall=0.4667 | Acc=0.9744\n"
          ]
        },
        {
          "output_type": "stream",
          "name": "stderr",
          "text": [
            "[I 2025-07-11 01:36:46,912] Trial 18 finished with value: 0.38596491228070173 and parameters: {'n_estimators': 265, 'max_depth': 13, 'min_samples_split': 3, 'min_samples_leaf': 7}. Best is trial 10 with value: 0.43137254901960786.\n"
          ]
        },
        {
          "output_type": "stream",
          "name": "stdout",
          "text": [
            "Trial 18: F1=0.3860 | Precision=0.2619 | Recall=0.7333 | Acc=0.9593\n"
          ]
        },
        {
          "output_type": "stream",
          "name": "stderr",
          "text": [
            "[I 2025-07-11 01:36:48,379] Trial 19 finished with value: 0.4 and parameters: {'n_estimators': 202, 'max_depth': 18, 'min_samples_split': 7, 'min_samples_leaf': 4}. Best is trial 10 with value: 0.43137254901960786.\n"
          ]
        },
        {
          "output_type": "stream",
          "name": "stdout",
          "text": [
            "Trial 19: F1=0.4000 | Precision=0.3200 | Recall=0.5333 | Acc=0.9721\n"
          ]
        },
        {
          "output_type": "stream",
          "name": "stderr",
          "text": [
            "[I 2025-07-11 01:36:50,929] Trial 20 finished with value: 0.38596491228070173 and parameters: {'n_estimators': 259, 'max_depth': 12, 'min_samples_split': 5, 'min_samples_leaf': 7}. Best is trial 10 with value: 0.43137254901960786.\n"
          ]
        },
        {
          "output_type": "stream",
          "name": "stdout",
          "text": [
            "Trial 20: F1=0.3860 | Precision=0.2619 | Recall=0.7333 | Acc=0.9593\n"
          ]
        },
        {
          "output_type": "stream",
          "name": "stderr",
          "text": [
            "[I 2025-07-11 01:36:52,010] Trial 21 finished with value: 0.4230769230769231 and parameters: {'n_estimators': 195, 'max_depth': 14, 'min_samples_split': 4, 'min_samples_leaf': 5}. Best is trial 10 with value: 0.43137254901960786.\n"
          ]
        },
        {
          "output_type": "stream",
          "name": "stdout",
          "text": [
            "Trial 21: F1=0.4231 | Precision=0.2973 | Recall=0.7333 | Acc=0.9651\n"
          ]
        },
        {
          "output_type": "stream",
          "name": "stderr",
          "text": [
            "[I 2025-07-11 01:36:52,706] Trial 22 finished with value: 0.4 and parameters: {'n_estimators': 172, 'max_depth': 9, 'min_samples_split': 3, 'min_samples_leaf': 5}. Best is trial 10 with value: 0.43137254901960786.\n"
          ]
        },
        {
          "output_type": "stream",
          "name": "stdout",
          "text": [
            "Trial 22: F1=0.4000 | Precision=0.2750 | Recall=0.7333 | Acc=0.9616\n"
          ]
        },
        {
          "output_type": "stream",
          "name": "stderr",
          "text": [
            "[I 2025-07-11 01:36:53,470] Trial 23 finished with value: 0.3888888888888889 and parameters: {'n_estimators': 215, 'max_depth': 12, 'min_samples_split': 4, 'min_samples_leaf': 3}. Best is trial 10 with value: 0.43137254901960786.\n"
          ]
        },
        {
          "output_type": "stream",
          "name": "stdout",
          "text": [
            "Trial 23: F1=0.3889 | Precision=0.3333 | Recall=0.4667 | Acc=0.9744\n"
          ]
        },
        {
          "output_type": "stream",
          "name": "stderr",
          "text": [
            "[I 2025-07-11 01:36:53,974] Trial 24 finished with value: 0.38596491228070173 and parameters: {'n_estimators': 136, 'max_depth': 16, 'min_samples_split': 5, 'min_samples_leaf': 6}. Best is trial 10 with value: 0.43137254901960786.\n"
          ]
        },
        {
          "output_type": "stream",
          "name": "stdout",
          "text": [
            "Trial 24: F1=0.3860 | Precision=0.2619 | Recall=0.7333 | Acc=0.9593\n"
          ]
        },
        {
          "output_type": "stream",
          "name": "stderr",
          "text": [
            "[I 2025-07-11 01:36:54,730] Trial 25 finished with value: 0.42857142857142855 and parameters: {'n_estimators': 216, 'max_depth': 13, 'min_samples_split': 3, 'min_samples_leaf': 4}. Best is trial 10 with value: 0.43137254901960786.\n"
          ]
        },
        {
          "output_type": "stream",
          "name": "stdout",
          "text": [
            "Trial 25: F1=0.4286 | Precision=0.3333 | Recall=0.6000 | Acc=0.9721\n"
          ]
        },
        {
          "output_type": "stream",
          "name": "stderr",
          "text": [
            "[I 2025-07-11 01:36:55,536] Trial 26 finished with value: 0.5217391304347826 and parameters: {'n_estimators': 219, 'max_depth': 18, 'min_samples_split': 3, 'min_samples_leaf': 2}. Best is trial 26 with value: 0.5217391304347826.\n"
          ]
        },
        {
          "output_type": "stream",
          "name": "stdout",
          "text": [
            "Trial 26: F1=0.5217 | Precision=0.7500 | Recall=0.4000 | Acc=0.9872\n"
          ]
        },
        {
          "output_type": "stream",
          "name": "stderr",
          "text": [
            "[I 2025-07-11 01:36:56,377] Trial 27 finished with value: 0.5217391304347826 and parameters: {'n_estimators': 227, 'max_depth': 19, 'min_samples_split': 2, 'min_samples_leaf': 2}. Best is trial 26 with value: 0.5217391304347826.\n"
          ]
        },
        {
          "output_type": "stream",
          "name": "stdout",
          "text": [
            "Trial 27: F1=0.5217 | Precision=0.7500 | Recall=0.4000 | Acc=0.9872\n"
          ]
        },
        {
          "output_type": "stream",
          "name": "stderr",
          "text": [
            "[I 2025-07-11 01:36:57,273] Trial 28 finished with value: 0.2222222222222222 and parameters: {'n_estimators': 244, 'max_depth': 19, 'min_samples_split': 2, 'min_samples_leaf': 1}. Best is trial 26 with value: 0.5217391304347826.\n"
          ]
        },
        {
          "output_type": "stream",
          "name": "stdout",
          "text": [
            "Trial 28: F1=0.2222 | Precision=0.6667 | Recall=0.1333 | Acc=0.9837\n"
          ]
        },
        {
          "output_type": "stream",
          "name": "stderr",
          "text": [
            "[I 2025-07-11 01:36:58,063] Trial 29 finished with value: 0.5217391304347826 and parameters: {'n_estimators': 217, 'max_depth': 19, 'min_samples_split': 2, 'min_samples_leaf': 2}. Best is trial 26 with value: 0.5217391304347826.\n"
          ]
        },
        {
          "output_type": "stream",
          "name": "stdout",
          "text": [
            "Trial 29: F1=0.5217 | Precision=0.7500 | Recall=0.4000 | Acc=0.9872\n",
            "\n",
            "🔍 Mejor trial Random Forest:\n",
            "Trial #26\n",
            "  n_estimators: 219\n",
            "  max_depth: 18\n",
            "  min_samples_split: 3\n",
            "  min_samples_leaf: 2\n",
            "Mejor F1-score en validación: 0.5217\n"
          ]
        }
      ]
    },
    {
      "cell_type": "markdown",
      "source": [
        "# SVM"
      ],
      "metadata": {
        "id": "_Cdk-zXUn6o4"
      }
    },
    {
      "cell_type": "code",
      "source": [
        "from sklearn.svm import SVC\n",
        "from sklearn.preprocessing import StandardScaler\n",
        "\n",
        "# Escalar características (importante para SVM)\n",
        "scaler = StandardScaler()\n",
        "X_scaled = scaler.fit_transform(X)\n",
        "\n",
        "# Dividir en entrenamiento y validación con estratificación\n",
        "X_train, X_val, y_train, y_val = train_test_split(\n",
        "    X_scaled, y, test_size=0.2, stratify=y, random_state=42\n",
        ")\n",
        "\n",
        "def svm_objective(trial):\n",
        "    C = trial.suggest_loguniform(\"C\", 1e-3, 1e2)\n",
        "    kernel = trial.suggest_categorical(\"kernel\", [\"linear\", \"rbf\", \"poly\", \"sigmoid\"])\n",
        "    gamma = trial.suggest_categorical(\"gamma\", [\"scale\", \"auto\"])\n",
        "\n",
        "    clf = SVC(\n",
        "        C=C,\n",
        "        kernel=kernel,\n",
        "        gamma=gamma,\n",
        "        class_weight='balanced',  # para manejar desbalanceo\n",
        "        random_state=42\n",
        "    )\n",
        "\n",
        "    clf.fit(X_train, y_train)\n",
        "    y_pred = clf.predict(X_val)\n",
        "\n",
        "    f1 = f1_score(y_val, y_pred, zero_division=0)\n",
        "    precision = precision_score(y_val, y_pred, zero_division=0)\n",
        "    recall = recall_score(y_val, y_pred, zero_division=0)\n",
        "    acc = accuracy_score(y_val, y_pred)\n",
        "\n",
        "    trial.set_user_attr(\"precision\", precision)\n",
        "    trial.set_user_attr(\"recall\", recall)\n",
        "    trial.set_user_attr(\"f1\", f1)\n",
        "    trial.set_user_attr(\"accuracy\", acc)\n",
        "\n",
        "    print(f\"Trial {trial.number}: F1={f1:.4f} | Precision={precision:.4f} | Recall={recall:.4f} | Acc={acc:.4f}\")\n",
        "\n",
        "    return f1\n",
        "\n",
        "# Crear y ejecutar el estudio\n",
        "svm_study = optuna.create_study(direction=\"maximize\")\n",
        "svm_study.optimize(svm_objective, n_trials=30)\n",
        "\n",
        "# Mostrar mejores resultados\n",
        "print(\"\\n🔍 Mejor trial SVM:\")\n",
        "print(f\"Trial #{svm_study.best_trial.number}\")\n",
        "for k, v in svm_study.best_trial.params.items():\n",
        "    print(f\"  {k}: {v}\")\n",
        "print(f\"Mejor F1-score en validación: {svm_study.best_value:.4f}\")\n"
      ],
      "metadata": {
        "colab": {
          "base_uri": "https://localhost:8080/"
        },
        "id": "1KBKUg3bn8lM",
        "outputId": "05a67e31-d34b-4f49-d8b1-0d2ce965c74f"
      },
      "execution_count": null,
      "outputs": [
        {
          "output_type": "stream",
          "name": "stderr",
          "text": [
            "[I 2025-07-11 08:43:24,977] A new study created in memory with name: no-name-ab2438e8-ecf0-4139-9c40-b44cc2c00bea\n",
            "[I 2025-07-11 08:43:25,405] Trial 0 finished with value: 0.24299065420560748 and parameters: {'C': 0.004261368203971097, 'kernel': 'sigmoid', 'gamma': 'auto'}. Best is trial 0 with value: 0.24299065420560748.\n"
          ]
        },
        {
          "output_type": "stream",
          "name": "stdout",
          "text": [
            "Trial 0: F1=0.2430 | Precision=0.1413 | Recall=0.8667 | Acc=0.9058\n"
          ]
        },
        {
          "output_type": "stream",
          "name": "stderr",
          "text": [
            "[I 2025-07-11 08:43:40,358] Trial 1 finished with value: 0.24299065420560748 and parameters: {'C': 16.426196133756108, 'kernel': 'linear', 'gamma': 'auto'}. Best is trial 0 with value: 0.24299065420560748.\n",
            "[I 2025-07-11 08:43:40,559] Trial 2 finished with value: 0.22857142857142856 and parameters: {'C': 0.03131386015921713, 'kernel': 'rbf', 'gamma': 'auto'}. Best is trial 0 with value: 0.24299065420560748.\n"
          ]
        },
        {
          "output_type": "stream",
          "name": "stdout",
          "text": [
            "Trial 1: F1=0.2430 | Precision=0.1413 | Recall=0.8667 | Acc=0.9058\n",
            "Trial 2: F1=0.2286 | Precision=0.1333 | Recall=0.8000 | Acc=0.9058\n"
          ]
        },
        {
          "output_type": "stream",
          "name": "stderr",
          "text": [
            "[I 2025-07-11 08:43:42,121] Trial 3 finished with value: 0.24299065420560748 and parameters: {'C': 0.7836720988689008, 'kernel': 'linear', 'gamma': 'scale'}. Best is trial 0 with value: 0.24299065420560748.\n"
          ]
        },
        {
          "output_type": "stream",
          "name": "stdout",
          "text": [
            "Trial 3: F1=0.2430 | Precision=0.1413 | Recall=0.8667 | Acc=0.9058\n"
          ]
        },
        {
          "output_type": "stream",
          "name": "stderr",
          "text": [
            "[I 2025-07-11 08:43:43,456] Trial 4 finished with value: 0.24299065420560748 and parameters: {'C': 0.6540957015063812, 'kernel': 'linear', 'gamma': 'scale'}. Best is trial 0 with value: 0.24299065420560748.\n"
          ]
        },
        {
          "output_type": "stream",
          "name": "stdout",
          "text": [
            "Trial 4: F1=0.2430 | Precision=0.1413 | Recall=0.8667 | Acc=0.9058\n"
          ]
        },
        {
          "output_type": "stream",
          "name": "stderr",
          "text": [
            "[I 2025-07-11 08:43:43,845] Trial 5 finished with value: 0.22857142857142856 and parameters: {'C': 0.01845254219780386, 'kernel': 'rbf', 'gamma': 'auto'}. Best is trial 0 with value: 0.24299065420560748.\n"
          ]
        },
        {
          "output_type": "stream",
          "name": "stdout",
          "text": [
            "Trial 5: F1=0.2286 | Precision=0.1333 | Recall=0.8000 | Acc=0.9058\n"
          ]
        },
        {
          "output_type": "stream",
          "name": "stderr",
          "text": [
            "[I 2025-07-11 08:43:44,135] Trial 6 finished with value: 0.10344827586206896 and parameters: {'C': 61.58462041759124, 'kernel': 'sigmoid', 'gamma': 'auto'}. Best is trial 0 with value: 0.24299065420560748.\n"
          ]
        },
        {
          "output_type": "stream",
          "name": "stdout",
          "text": [
            "Trial 6: F1=0.1034 | Precision=0.0566 | Recall=0.6000 | Acc=0.8186\n"
          ]
        },
        {
          "output_type": "stream",
          "name": "stderr",
          "text": [
            "[I 2025-07-11 08:44:15,566] Trial 7 finished with value: 0.24299065420560748 and parameters: {'C': 33.70026762309432, 'kernel': 'linear', 'gamma': 'auto'}. Best is trial 0 with value: 0.24299065420560748.\n",
            "[I 2025-07-11 08:44:15,755] Trial 8 finished with value: 0.1256544502617801 and parameters: {'C': 4.072068368432888, 'kernel': 'sigmoid', 'gamma': 'auto'}. Best is trial 0 with value: 0.24299065420560748.\n"
          ]
        },
        {
          "output_type": "stream",
          "name": "stdout",
          "text": [
            "Trial 7: F1=0.2430 | Precision=0.1413 | Recall=0.8667 | Acc=0.9058\n",
            "Trial 8: F1=0.1257 | Precision=0.0682 | Recall=0.8000 | Acc=0.8058\n"
          ]
        },
        {
          "output_type": "stream",
          "name": "stderr",
          "text": [
            "[I 2025-07-11 08:44:15,887] Trial 9 finished with value: 0.23300970873786409 and parameters: {'C': 12.530465715162665, 'kernel': 'rbf', 'gamma': 'scale'}. Best is trial 0 with value: 0.24299065420560748.\n"
          ]
        },
        {
          "output_type": "stream",
          "name": "stdout",
          "text": [
            "Trial 9: F1=0.2330 | Precision=0.1364 | Recall=0.8000 | Acc=0.9081\n"
          ]
        },
        {
          "output_type": "stream",
          "name": "stderr",
          "text": [
            "[I 2025-07-11 08:44:16,110] Trial 10 finished with value: 0.24528301886792453 and parameters: {'C': 0.0034890801229685055, 'kernel': 'poly', 'gamma': 'scale'}. Best is trial 10 with value: 0.24528301886792453.\n"
          ]
        },
        {
          "output_type": "stream",
          "name": "stdout",
          "text": [
            "Trial 10: F1=0.2453 | Precision=0.1429 | Recall=0.8667 | Acc=0.9070\n"
          ]
        },
        {
          "output_type": "stream",
          "name": "stderr",
          "text": [
            "[I 2025-07-11 08:44:16,477] Trial 11 finished with value: 0.24299065420560748 and parameters: {'C': 0.0011676237151712022, 'kernel': 'poly', 'gamma': 'scale'}. Best is trial 10 with value: 0.24528301886792453.\n"
          ]
        },
        {
          "output_type": "stream",
          "name": "stdout",
          "text": [
            "Trial 11: F1=0.2430 | Precision=0.1413 | Recall=0.8667 | Acc=0.9058\n"
          ]
        },
        {
          "output_type": "stream",
          "name": "stderr",
          "text": [
            "[I 2025-07-11 08:44:16,850] Trial 12 finished with value: 0.24299065420560748 and parameters: {'C': 0.0010815869218540847, 'kernel': 'poly', 'gamma': 'scale'}. Best is trial 10 with value: 0.24528301886792453.\n",
            "[I 2025-07-11 08:44:16,976] Trial 13 finished with value: 0.24528301886792453 and parameters: {'C': 0.014038673484408936, 'kernel': 'poly', 'gamma': 'scale'}. Best is trial 10 with value: 0.24528301886792453.\n"
          ]
        },
        {
          "output_type": "stream",
          "name": "stdout",
          "text": [
            "Trial 12: F1=0.2430 | Precision=0.1413 | Recall=0.8667 | Acc=0.9058\n",
            "Trial 13: F1=0.2453 | Precision=0.1429 | Recall=0.8667 | Acc=0.9070\n"
          ]
        },
        {
          "output_type": "stream",
          "name": "stderr",
          "text": [
            "[I 2025-07-11 08:44:17,103] Trial 14 finished with value: 0.23076923076923078 and parameters: {'C': 0.07275034162249866, 'kernel': 'poly', 'gamma': 'scale'}. Best is trial 10 with value: 0.24528301886792453.\n",
            "[I 2025-07-11 08:44:17,270] Trial 15 finished with value: 0.24528301886792453 and parameters: {'C': 0.007032426922406456, 'kernel': 'poly', 'gamma': 'scale'}. Best is trial 10 with value: 0.24528301886792453.\n"
          ]
        },
        {
          "output_type": "stream",
          "name": "stdout",
          "text": [
            "Trial 14: F1=0.2308 | Precision=0.1348 | Recall=0.8000 | Acc=0.9070\n",
            "Trial 15: F1=0.2453 | Precision=0.1429 | Recall=0.8667 | Acc=0.9070\n"
          ]
        },
        {
          "output_type": "stream",
          "name": "stderr",
          "text": [
            "[I 2025-07-11 08:44:17,395] Trial 16 finished with value: 0.23300970873786409 and parameters: {'C': 0.13612560973995963, 'kernel': 'poly', 'gamma': 'scale'}. Best is trial 10 with value: 0.24528301886792453.\n",
            "[I 2025-07-11 08:44:17,544] Trial 17 finished with value: 0.24528301886792453 and parameters: {'C': 0.007083169601907127, 'kernel': 'poly', 'gamma': 'scale'}. Best is trial 10 with value: 0.24528301886792453.\n"
          ]
        },
        {
          "output_type": "stream",
          "name": "stdout",
          "text": [
            "Trial 16: F1=0.2330 | Precision=0.1364 | Recall=0.8000 | Acc=0.9081\n",
            "Trial 17: F1=0.2453 | Precision=0.1429 | Recall=0.8667 | Acc=0.9070\n"
          ]
        },
        {
          "output_type": "stream",
          "name": "stderr",
          "text": [
            "[I 2025-07-11 08:44:17,662] Trial 18 finished with value: 0.22857142857142856 and parameters: {'C': 0.023700283609088775, 'kernel': 'poly', 'gamma': 'scale'}. Best is trial 10 with value: 0.24528301886792453.\n",
            "[I 2025-07-11 08:44:17,796] Trial 19 finished with value: 0.23300970873786409 and parameters: {'C': 0.20843185810701828, 'kernel': 'poly', 'gamma': 'scale'}. Best is trial 10 with value: 0.24528301886792453.\n"
          ]
        },
        {
          "output_type": "stream",
          "name": "stdout",
          "text": [
            "Trial 18: F1=0.2286 | Precision=0.1333 | Recall=0.8000 | Acc=0.9058\n",
            "Trial 19: F1=0.2330 | Precision=0.1364 | Recall=0.8000 | Acc=0.9081\n"
          ]
        },
        {
          "output_type": "stream",
          "name": "stderr",
          "text": [
            "[I 2025-07-11 08:44:18,081] Trial 20 finished with value: 0.24299065420560748 and parameters: {'C': 0.002040051108690532, 'kernel': 'poly', 'gamma': 'scale'}. Best is trial 10 with value: 0.24528301886792453.\n",
            "[I 2025-07-11 08:44:18,249] Trial 21 finished with value: 0.24528301886792453 and parameters: {'C': 0.008083120726999784, 'kernel': 'poly', 'gamma': 'scale'}. Best is trial 10 with value: 0.24528301886792453.\n"
          ]
        },
        {
          "output_type": "stream",
          "name": "stdout",
          "text": [
            "Trial 20: F1=0.2430 | Precision=0.1413 | Recall=0.8667 | Acc=0.9058\n",
            "Trial 21: F1=0.2453 | Precision=0.1429 | Recall=0.8667 | Acc=0.9070\n"
          ]
        },
        {
          "output_type": "stream",
          "name": "stderr",
          "text": [
            "[I 2025-07-11 08:44:18,434] Trial 22 finished with value: 0.24528301886792453 and parameters: {'C': 0.0037161551321161115, 'kernel': 'poly', 'gamma': 'scale'}. Best is trial 10 with value: 0.24528301886792453.\n",
            "[I 2025-07-11 08:44:18,572] Trial 23 finished with value: 0.24528301886792453 and parameters: {'C': 0.013676019955880947, 'kernel': 'poly', 'gamma': 'scale'}. Best is trial 10 with value: 0.24528301886792453.\n"
          ]
        },
        {
          "output_type": "stream",
          "name": "stdout",
          "text": [
            "Trial 22: F1=0.2453 | Precision=0.1429 | Recall=0.8667 | Acc=0.9070\n",
            "Trial 23: F1=0.2453 | Precision=0.1429 | Recall=0.8667 | Acc=0.9070\n"
          ]
        },
        {
          "output_type": "stream",
          "name": "stderr",
          "text": [
            "[I 2025-07-11 08:44:18,694] Trial 24 finished with value: 0.22857142857142856 and parameters: {'C': 0.048837201002011686, 'kernel': 'poly', 'gamma': 'scale'}. Best is trial 10 with value: 0.24528301886792453.\n",
            "[I 2025-07-11 08:44:18,884] Trial 25 finished with value: 0.24528301886792453 and parameters: {'C': 0.0036384452456699377, 'kernel': 'poly', 'gamma': 'scale'}. Best is trial 10 with value: 0.24528301886792453.\n"
          ]
        },
        {
          "output_type": "stream",
          "name": "stdout",
          "text": [
            "Trial 24: F1=0.2286 | Precision=0.1333 | Recall=0.8000 | Acc=0.9058\n",
            "Trial 25: F1=0.2453 | Precision=0.1429 | Recall=0.8667 | Acc=0.9070\n"
          ]
        },
        {
          "output_type": "stream",
          "name": "stderr",
          "text": [
            "[I 2025-07-11 08:44:19,029] Trial 26 finished with value: 0.24528301886792453 and parameters: {'C': 0.015265449271436205, 'kernel': 'poly', 'gamma': 'scale'}. Best is trial 10 with value: 0.24528301886792453.\n"
          ]
        },
        {
          "output_type": "stream",
          "name": "stdout",
          "text": [
            "Trial 26: F1=0.2453 | Precision=0.1429 | Recall=0.8667 | Acc=0.9070\n"
          ]
        },
        {
          "output_type": "stream",
          "name": "stderr",
          "text": [
            "[I 2025-07-11 08:44:19,240] Trial 27 finished with value: 0.15384615384615385 and parameters: {'C': 0.5799678164490092, 'kernel': 'sigmoid', 'gamma': 'scale'}. Best is trial 10 with value: 0.24528301886792453.\n",
            "[I 2025-07-11 08:44:19,393] Trial 28 finished with value: 0.22857142857142856 and parameters: {'C': 0.08525076001749039, 'kernel': 'rbf', 'gamma': 'scale'}. Best is trial 10 with value: 0.24528301886792453.\n"
          ]
        },
        {
          "output_type": "stream",
          "name": "stdout",
          "text": [
            "Trial 27: F1=0.1538 | Precision=0.0851 | Recall=0.8000 | Acc=0.8465\n",
            "Trial 28: F1=0.2286 | Precision=0.1333 | Recall=0.8000 | Acc=0.9058\n"
          ]
        },
        {
          "output_type": "stream",
          "name": "stderr",
          "text": [
            "[I 2025-07-11 08:44:19,872] Trial 29 finished with value: 0.24299065420560748 and parameters: {'C': 0.00543455957439444, 'kernel': 'sigmoid', 'gamma': 'scale'}. Best is trial 10 with value: 0.24528301886792453.\n"
          ]
        },
        {
          "output_type": "stream",
          "name": "stdout",
          "text": [
            "Trial 29: F1=0.2430 | Precision=0.1413 | Recall=0.8667 | Acc=0.9058\n",
            "\n",
            "🔍 Mejor trial SVM:\n",
            "Trial #10\n",
            "  C: 0.0034890801229685055\n",
            "  kernel: poly\n",
            "  gamma: scale\n",
            "Mejor F1-score en validación: 0.2453\n"
          ]
        }
      ]
    },
    {
      "cell_type": "markdown",
      "source": [
        "# Xgboost"
      ],
      "metadata": {
        "id": "szVc8Mf1qElV"
      }
    },
    {
      "cell_type": "code",
      "source": [
        "import xgboost as xgb\n",
        "from sklearn.preprocessing import StandardScaler\n",
        "from sklearn.model_selection import train_test_split\n",
        "from sklearn.metrics import f1_score, precision_score, recall_score, accuracy_score\n",
        "import optuna\n",
        "\n",
        "# Escalar características (opcional pero recomendado)\n",
        "scaler = StandardScaler()\n",
        "X_scaled = scaler.fit_transform(X)\n",
        "\n",
        "# División 80/20\n",
        "X_train, X_val, y_train, y_val = train_test_split(\n",
        "    X_scaled, y, test_size=0.2, stratify=y, random_state=42\n",
        ")\n",
        "\n",
        "def xgb_objective(trial):\n",
        "    params = {\n",
        "        \"n_estimators\": trial.suggest_int(\"n_estimators\", 50, 300),\n",
        "        \"max_depth\": trial.suggest_int(\"max_depth\", 3, 12),\n",
        "        \"learning_rate\": trial.suggest_loguniform(\"learning_rate\", 1e-3, 0.3),\n",
        "        \"subsample\": trial.suggest_uniform(\"subsample\", 0.6, 1.0),\n",
        "        \"colsample_bytree\": trial.suggest_uniform(\"colsample_bytree\", 0.6, 1.0),\n",
        "        \"gamma\": trial.suggest_loguniform(\"gamma\", 1e-8, 1.0),\n",
        "        \"reg_alpha\": trial.suggest_loguniform(\"reg_alpha\", 1e-8, 1.0),\n",
        "        \"reg_lambda\": trial.suggest_loguniform(\"reg_lambda\", 1e-8, 1.0),\n",
        "        \"scale_pos_weight\": trial.suggest_loguniform(\"scale_pos_weight\", 0.5, 10.0),\n",
        "        \"use_label_encoder\": False,\n",
        "        \"objective\": \"binary:logistic\",\n",
        "        \"eval_metric\": \"logloss\",\n",
        "        \"random_state\": 42,\n",
        "        \"n_jobs\": -1\n",
        "    }\n",
        "\n",
        "    model = xgb.XGBClassifier(**params)\n",
        "    model.fit(X_train, y_train)\n",
        "    y_pred = model.predict(X_val)\n",
        "\n",
        "    f1 = f1_score(y_val, y_pred, zero_division=0)\n",
        "    precision = precision_score(y_val, y_pred, zero_division=0)\n",
        "    recall = recall_score(y_val, y_pred, zero_division=0)\n",
        "    acc = accuracy_score(y_val, y_pred)\n",
        "\n",
        "    trial.set_user_attr(\"precision\", precision)\n",
        "    trial.set_user_attr(\"recall\", recall)\n",
        "    trial.set_user_attr(\"f1\", f1)\n",
        "    trial.set_user_attr(\"accuracy\", acc)\n",
        "\n",
        "    print(f\"Trial {trial.number}: F1={f1:.4f} | Precision={precision:.4f} | Recall={recall:.4f} | Acc={acc:.4f}\")\n",
        "    return f1\n",
        "\n",
        "# Ejecutar optimización\n",
        "xgb_study = optuna.create_study(direction=\"maximize\")\n",
        "xgb_study.optimize(xgb_objective, n_trials=30)\n",
        "\n",
        "# Mostrar mejores resultados\n",
        "print(\"\\n🔍 Mejor trial XGBoost:\")\n",
        "print(f\"Trial #{xgb_study.best_trial.number}\")\n",
        "for k, v in xgb_study.best_trial.params.items():\n",
        "    print(f\"  {k}: {v}\")\n",
        "print(f\"Mejor F1-score en validación: {xgb_study.best_value:.4f}\")\n"
      ],
      "metadata": {
        "colab": {
          "base_uri": "https://localhost:8080/"
        },
        "id": "PPHoBphxqG6U",
        "outputId": "74f638d4-f7bc-4a4a-e794-a4706e7b5fb1"
      },
      "execution_count": null,
      "outputs": [
        {
          "output_type": "stream",
          "name": "stderr",
          "text": [
            "[I 2025-07-11 08:44:50,503] A new study created in memory with name: no-name-92c58b12-c86c-4ac0-8075-ff6625ff95b1\n",
            "/usr/local/lib/python3.11/dist-packages/xgboost/core.py:158: UserWarning: [08:44:50] WARNING: /workspace/src/learner.cc:740: \n",
            "Parameters: { \"use_label_encoder\" } are not used.\n",
            "\n",
            "  warnings.warn(smsg, UserWarning)\n",
            "[I 2025-07-11 08:44:50,738] Trial 0 finished with value: 0.6363636363636364 and parameters: {'n_estimators': 84, 'max_depth': 7, 'learning_rate': 0.06172457238954712, 'subsample': 0.7047734020997514, 'colsample_bytree': 0.7266200284892983, 'gamma': 0.0011181766421319377, 'reg_alpha': 0.24400009054176974, 'reg_lambda': 0.06434190264604053, 'scale_pos_weight': 3.2094193173105547}. Best is trial 0 with value: 0.6363636363636364.\n",
            "/usr/local/lib/python3.11/dist-packages/xgboost/core.py:158: UserWarning: [08:44:50] WARNING: /workspace/src/learner.cc:740: \n",
            "Parameters: { \"use_label_encoder\" } are not used.\n",
            "\n",
            "  warnings.warn(smsg, UserWarning)\n"
          ]
        },
        {
          "output_type": "stream",
          "name": "stdout",
          "text": [
            "Trial 0: F1=0.6364 | Precision=1.0000 | Recall=0.4667 | Acc=0.9907\n"
          ]
        },
        {
          "output_type": "stream",
          "name": "stderr",
          "text": [
            "[I 2025-07-11 08:44:51,735] Trial 1 finished with value: 0.0 and parameters: {'n_estimators': 114, 'max_depth': 9, 'learning_rate': 0.0022801515487222957, 'subsample': 0.7462030179992672, 'colsample_bytree': 0.7735869257966641, 'gamma': 1.844587869440505e-06, 'reg_alpha': 0.001693967921390775, 'reg_lambda': 0.024243324949280394, 'scale_pos_weight': 1.1494547735081038}. Best is trial 0 with value: 0.6363636363636364.\n"
          ]
        },
        {
          "output_type": "stream",
          "name": "stdout",
          "text": [
            "Trial 1: F1=0.0000 | Precision=0.0000 | Recall=0.0000 | Acc=0.9826\n"
          ]
        },
        {
          "output_type": "stream",
          "name": "stderr",
          "text": [
            "/usr/local/lib/python3.11/dist-packages/xgboost/core.py:158: UserWarning: [08:44:51] WARNING: /workspace/src/learner.cc:740: \n",
            "Parameters: { \"use_label_encoder\" } are not used.\n",
            "\n",
            "  warnings.warn(smsg, UserWarning)\n",
            "[I 2025-07-11 08:44:53,588] Trial 2 finished with value: 0.6363636363636364 and parameters: {'n_estimators': 234, 'max_depth': 4, 'learning_rate': 0.011837758084609835, 'subsample': 0.76918981090588, 'colsample_bytree': 0.7376641960897026, 'gamma': 0.08349996199929119, 'reg_alpha': 0.004111857391828116, 'reg_lambda': 0.04788102130223036, 'scale_pos_weight': 2.4975159002916074}. Best is trial 0 with value: 0.6363636363636364.\n",
            "/usr/local/lib/python3.11/dist-packages/xgboost/core.py:158: UserWarning: [08:44:53] WARNING: /workspace/src/learner.cc:740: \n",
            "Parameters: { \"use_label_encoder\" } are not used.\n",
            "\n",
            "  warnings.warn(smsg, UserWarning)\n",
            "[I 2025-07-11 08:44:53,656] Trial 3 finished with value: 0.6363636363636364 and parameters: {'n_estimators': 82, 'max_depth': 5, 'learning_rate': 0.02221855804285497, 'subsample': 0.9088670476857762, 'colsample_bytree': 0.9057991242817245, 'gamma': 2.3539082955278087e-05, 'reg_alpha': 0.3166792673350596, 'reg_lambda': 0.05796275240815456, 'scale_pos_weight': 2.9125782243048675}. Best is trial 0 with value: 0.6363636363636364.\n"
          ]
        },
        {
          "output_type": "stream",
          "name": "stdout",
          "text": [
            "Trial 2: F1=0.6364 | Precision=1.0000 | Recall=0.4667 | Acc=0.9907\n",
            "Trial 3: F1=0.6364 | Precision=1.0000 | Recall=0.4667 | Acc=0.9907\n"
          ]
        },
        {
          "output_type": "stream",
          "name": "stderr",
          "text": [
            "/usr/local/lib/python3.11/dist-packages/xgboost/core.py:158: UserWarning: [08:44:53] WARNING: /workspace/src/learner.cc:740: \n",
            "Parameters: { \"use_label_encoder\" } are not used.\n",
            "\n",
            "  warnings.warn(smsg, UserWarning)\n",
            "[I 2025-07-11 08:44:53,851] Trial 4 finished with value: 0.0 and parameters: {'n_estimators': 153, 'max_depth': 10, 'learning_rate': 0.0013946375674611128, 'subsample': 0.8112353509227461, 'colsample_bytree': 0.7536712538966156, 'gamma': 2.0679369628613378e-05, 'reg_alpha': 0.03352231809636671, 'reg_lambda': 1.5378093271002383e-06, 'scale_pos_weight': 4.977477394033293}. Best is trial 0 with value: 0.6363636363636364.\n",
            "/usr/local/lib/python3.11/dist-packages/xgboost/core.py:158: UserWarning: [08:44:53] WARNING: /workspace/src/learner.cc:740: \n",
            "Parameters: { \"use_label_encoder\" } are not used.\n",
            "\n",
            "  warnings.warn(smsg, UserWarning)\n",
            "[I 2025-07-11 08:44:53,970] Trial 5 finished with value: 0.3333333333333333 and parameters: {'n_estimators': 121, 'max_depth': 11, 'learning_rate': 0.020695770805115445, 'subsample': 0.8961113399546168, 'colsample_bytree': 0.6324982503704167, 'gamma': 5.19353944028308e-07, 'reg_alpha': 0.005043214558528786, 'reg_lambda': 3.112262397208391e-06, 'scale_pos_weight': 0.7573286223994506}. Best is trial 0 with value: 0.6363636363636364.\n"
          ]
        },
        {
          "output_type": "stream",
          "name": "stdout",
          "text": [
            "Trial 4: F1=0.0000 | Precision=0.0000 | Recall=0.0000 | Acc=0.9826\n",
            "Trial 5: F1=0.3333 | Precision=1.0000 | Recall=0.2000 | Acc=0.9860\n"
          ]
        },
        {
          "output_type": "stream",
          "name": "stderr",
          "text": [
            "/usr/local/lib/python3.11/dist-packages/xgboost/core.py:158: UserWarning: [08:44:53] WARNING: /workspace/src/learner.cc:740: \n",
            "Parameters: { \"use_label_encoder\" } are not used.\n",
            "\n",
            "  warnings.warn(smsg, UserWarning)\n",
            "[I 2025-07-11 08:44:54,060] Trial 6 finished with value: 0.4 and parameters: {'n_estimators': 130, 'max_depth': 4, 'learning_rate': 0.2470347120002748, 'subsample': 0.6150004643550192, 'colsample_bytree': 0.8631731897836807, 'gamma': 7.161441240618653e-05, 'reg_alpha': 4.86277486518341e-07, 'reg_lambda': 0.0011001262368138605, 'scale_pos_weight': 1.0341036496381302}. Best is trial 0 with value: 0.6363636363636364.\n",
            "/usr/local/lib/python3.11/dist-packages/xgboost/core.py:158: UserWarning: [08:44:54] WARNING: /workspace/src/learner.cc:740: \n",
            "Parameters: { \"use_label_encoder\" } are not used.\n",
            "\n",
            "  warnings.warn(smsg, UserWarning)\n"
          ]
        },
        {
          "output_type": "stream",
          "name": "stdout",
          "text": [
            "Trial 6: F1=0.4000 | Precision=0.8000 | Recall=0.2667 | Acc=0.9860\n"
          ]
        },
        {
          "output_type": "stream",
          "name": "stderr",
          "text": [
            "[I 2025-07-11 08:44:54,267] Trial 7 finished with value: 0.0 and parameters: {'n_estimators': 236, 'max_depth': 6, 'learning_rate': 0.0015240183612326643, 'subsample': 0.8321907208254846, 'colsample_bytree': 0.8625375161369218, 'gamma': 1.2744132843915607e-07, 'reg_alpha': 0.013801711637749072, 'reg_lambda': 7.583412843921609e-08, 'scale_pos_weight': 5.068443721961962}. Best is trial 0 with value: 0.6363636363636364.\n",
            "/usr/local/lib/python3.11/dist-packages/xgboost/core.py:158: UserWarning: [08:44:54] WARNING: /workspace/src/learner.cc:740: \n",
            "Parameters: { \"use_label_encoder\" } are not used.\n",
            "\n",
            "  warnings.warn(smsg, UserWarning)\n",
            "[I 2025-07-11 08:44:54,312] Trial 8 finished with value: 0.0 and parameters: {'n_estimators': 63, 'max_depth': 7, 'learning_rate': 0.0014742088733230609, 'subsample': 0.6151697044331543, 'colsample_bytree': 0.6043262979897587, 'gamma': 8.196863733511436e-08, 'reg_alpha': 0.00033315366178842277, 'reg_lambda': 0.7853336868423801, 'scale_pos_weight': 0.762965211278818}. Best is trial 0 with value: 0.6363636363636364.\n",
            "/usr/local/lib/python3.11/dist-packages/xgboost/core.py:158: UserWarning: [08:44:54] WARNING: /workspace/src/learner.cc:740: \n",
            "Parameters: { \"use_label_encoder\" } are not used.\n",
            "\n",
            "  warnings.warn(smsg, UserWarning)\n",
            "[I 2025-07-11 08:44:54,429] Trial 9 finished with value: 0.5714285714285714 and parameters: {'n_estimators': 248, 'max_depth': 8, 'learning_rate': 0.08987524141011435, 'subsample': 0.6771709958463762, 'colsample_bytree': 0.9404681984720323, 'gamma': 0.5806425166501182, 'reg_alpha': 3.912361803935096e-06, 'reg_lambda': 0.033797497575706784, 'scale_pos_weight': 0.7209979649758761}. Best is trial 0 with value: 0.6363636363636364.\n"
          ]
        },
        {
          "output_type": "stream",
          "name": "stdout",
          "text": [
            "Trial 7: F1=0.0000 | Precision=0.0000 | Recall=0.0000 | Acc=0.9826\n",
            "Trial 8: F1=0.0000 | Precision=0.0000 | Recall=0.0000 | Acc=0.9826\n",
            "Trial 9: F1=0.5714 | Precision=1.0000 | Recall=0.4000 | Acc=0.9895\n"
          ]
        },
        {
          "output_type": "stream",
          "name": "stderr",
          "text": [
            "/usr/local/lib/python3.11/dist-packages/xgboost/core.py:158: UserWarning: [08:44:54] WARNING: /workspace/src/learner.cc:740: \n",
            "Parameters: { \"use_label_encoder\" } are not used.\n",
            "\n",
            "  warnings.warn(smsg, UserWarning)\n",
            "[I 2025-07-11 08:44:54,612] Trial 10 finished with value: 0.5833333333333334 and parameters: {'n_estimators': 187, 'max_depth': 12, 'learning_rate': 0.07402954744693348, 'subsample': 0.7091322682035468, 'colsample_bytree': 0.694070324940624, 'gamma': 0.004585720299544799, 'reg_alpha': 0.9230971088755379, 'reg_lambda': 0.0002485501668029748, 'scale_pos_weight': 9.626300558063797}. Best is trial 0 with value: 0.6363636363636364.\n",
            "/usr/local/lib/python3.11/dist-packages/xgboost/core.py:158: UserWarning: [08:44:54] WARNING: /workspace/src/learner.cc:740: \n",
            "Parameters: { \"use_label_encoder\" } are not used.\n",
            "\n",
            "  warnings.warn(smsg, UserWarning)\n",
            "[I 2025-07-11 08:44:54,785] Trial 11 finished with value: 0.3333333333333333 and parameters: {'n_estimators': 280, 'max_depth': 3, 'learning_rate': 0.006652574103573004, 'subsample': 0.7554756563167596, 'colsample_bytree': 0.7028637144091341, 'gamma': 0.007121162296336128, 'reg_alpha': 2.3210897900109496e-05, 'reg_lambda': 0.6485036405693815, 'scale_pos_weight': 2.0955510718716925}. Best is trial 0 with value: 0.6363636363636364.\n"
          ]
        },
        {
          "output_type": "stream",
          "name": "stdout",
          "text": [
            "Trial 10: F1=0.5833 | Precision=0.7778 | Recall=0.4667 | Acc=0.9884\n",
            "Trial 11: F1=0.3333 | Precision=1.0000 | Recall=0.2000 | Acc=0.9860\n"
          ]
        },
        {
          "output_type": "stream",
          "name": "stderr",
          "text": [
            "/usr/local/lib/python3.11/dist-packages/xgboost/core.py:158: UserWarning: [08:44:54] WARNING: /workspace/src/learner.cc:740: \n",
            "Parameters: { \"use_label_encoder\" } are not used.\n",
            "\n",
            "  warnings.warn(smsg, UserWarning)\n",
            "[I 2025-07-11 08:44:54,957] Trial 12 finished with value: 0.3333333333333333 and parameters: {'n_estimators': 198, 'max_depth': 6, 'learning_rate': 0.00813913589846853, 'subsample': 0.6784139065505742, 'colsample_bytree': 0.710246521816048, 'gamma': 0.008038515226187244, 'reg_alpha': 0.10522325207249504, 'reg_lambda': 0.0017584305194346225, 'scale_pos_weight': 2.051498775791071}. Best is trial 0 with value: 0.6363636363636364.\n",
            "/usr/local/lib/python3.11/dist-packages/xgboost/core.py:158: UserWarning: [08:44:55] WARNING: /workspace/src/learner.cc:740: \n",
            "Parameters: { \"use_label_encoder\" } are not used.\n",
            "\n",
            "  warnings.warn(smsg, UserWarning)\n",
            "[I 2025-07-11 08:44:55,105] Trial 13 finished with value: 0.56 and parameters: {'n_estimators': 224, 'max_depth': 3, 'learning_rate': 0.047807855032015054, 'subsample': 0.8413732114395976, 'colsample_bytree': 0.8124144776365785, 'gamma': 0.46458662037014764, 'reg_alpha': 4.8649960616306985e-08, 'reg_lambda': 2.0216725655240667e-05, 'scale_pos_weight': 3.3342373244699717}. Best is trial 0 with value: 0.6363636363636364.\n"
          ]
        },
        {
          "output_type": "stream",
          "name": "stdout",
          "text": [
            "Trial 12: F1=0.3333 | Precision=1.0000 | Recall=0.2000 | Acc=0.9860\n",
            "Trial 13: F1=0.5600 | Precision=0.7000 | Recall=0.4667 | Acc=0.9872\n"
          ]
        },
        {
          "output_type": "stream",
          "name": "stderr",
          "text": [
            "/usr/local/lib/python3.11/dist-packages/xgboost/core.py:158: UserWarning: [08:44:55] WARNING: /workspace/src/learner.cc:740: \n",
            "Parameters: { \"use_label_encoder\" } are not used.\n",
            "\n",
            "  warnings.warn(smsg, UserWarning)\n",
            "[I 2025-07-11 08:44:55,318] Trial 14 finished with value: 0.3333333333333333 and parameters: {'n_estimators': 299, 'max_depth': 5, 'learning_rate': 0.007896703646363764, 'subsample': 0.9944943301386746, 'colsample_bytree': 0.678462952444633, 'gamma': 0.0005809623704976192, 'reg_alpha': 0.00034345033925530026, 'reg_lambda': 0.006691352570523713, 'scale_pos_weight': 1.486266494211544}. Best is trial 0 with value: 0.6363636363636364.\n",
            "/usr/local/lib/python3.11/dist-packages/xgboost/core.py:158: UserWarning: [08:44:55] WARNING: /workspace/src/learner.cc:740: \n",
            "Parameters: { \"use_label_encoder\" } are not used.\n",
            "\n",
            "  warnings.warn(smsg, UserWarning)\n",
            "[I 2025-07-11 08:44:55,411] Trial 15 finished with value: 0.5833333333333334 and parameters: {'n_estimators': 53, 'max_depth': 8, 'learning_rate': 0.2418368416280894, 'subsample': 0.7619395107822999, 'colsample_bytree': 0.808268385549249, 'gamma': 0.04721729397430032, 'reg_alpha': 0.0028541440832108677, 'reg_lambda': 0.22007811599707172, 'scale_pos_weight': 4.712204043963786}. Best is trial 0 with value: 0.6363636363636364.\n"
          ]
        },
        {
          "output_type": "stream",
          "name": "stdout",
          "text": [
            "Trial 14: F1=0.3333 | Precision=1.0000 | Recall=0.2000 | Acc=0.9860\n",
            "Trial 15: F1=0.5833 | Precision=0.7778 | Recall=0.4667 | Acc=0.9884\n"
          ]
        },
        {
          "output_type": "stream",
          "name": "stderr",
          "text": [
            "/usr/local/lib/python3.11/dist-packages/xgboost/core.py:158: UserWarning: [08:44:55] WARNING: /workspace/src/learner.cc:740: \n",
            "Parameters: { \"use_label_encoder\" } are not used.\n",
            "\n",
            "  warnings.warn(smsg, UserWarning)\n",
            "[I 2025-07-11 08:44:55,585] Trial 16 finished with value: 0.56 and parameters: {'n_estimators': 167, 'max_depth': 7, 'learning_rate': 0.0439008818467295, 'subsample': 0.6863756275408022, 'colsample_bytree': 0.7528915587230108, 'gamma': 0.0007400406521753409, 'reg_alpha': 0.07091851222284971, 'reg_lambda': 9.46463804493059e-05, 'scale_pos_weight': 7.767546074364532}. Best is trial 0 with value: 0.6363636363636364.\n",
            "/usr/local/lib/python3.11/dist-packages/xgboost/core.py:158: UserWarning: [08:44:55] WARNING: /workspace/src/learner.cc:740: \n",
            "Parameters: { \"use_label_encoder\" } are not used.\n",
            "\n",
            "  warnings.warn(smsg, UserWarning)\n",
            "[I 2025-07-11 08:44:55,765] Trial 17 finished with value: 0.3333333333333333 and parameters: {'n_estimators': 214, 'max_depth': 5, 'learning_rate': 0.004701434360748063, 'subsample': 0.7257118469908937, 'colsample_bytree': 0.9997077606507989, 'gamma': 0.20570312077519154, 'reg_alpha': 4.1344906543099034e-05, 'reg_lambda': 0.0033364411218929873, 'scale_pos_weight': 3.128395496169269}. Best is trial 0 with value: 0.6363636363636364.\n"
          ]
        },
        {
          "output_type": "stream",
          "name": "stdout",
          "text": [
            "Trial 16: F1=0.5600 | Precision=0.7000 | Recall=0.4667 | Acc=0.9872\n",
            "Trial 17: F1=0.3333 | Precision=1.0000 | Recall=0.2000 | Acc=0.9860\n"
          ]
        },
        {
          "output_type": "stream",
          "name": "stderr",
          "text": [
            "/usr/local/lib/python3.11/dist-packages/xgboost/core.py:158: UserWarning: [08:44:55] WARNING: /workspace/src/learner.cc:740: \n",
            "Parameters: { \"use_label_encoder\" } are not used.\n",
            "\n",
            "  warnings.warn(smsg, UserWarning)\n",
            "[I 2025-07-11 08:44:55,970] Trial 18 finished with value: 0.5454545454545454 and parameters: {'n_estimators': 267, 'max_depth': 9, 'learning_rate': 0.1209161629800416, 'subsample': 0.7897661189256541, 'colsample_bytree': 0.6639385104556565, 'gamma': 0.07598089985114802, 'reg_alpha': 0.0003879300903570499, 'reg_lambda': 0.07945230170292471, 'scale_pos_weight': 1.3862438838024935}. Best is trial 0 with value: 0.6363636363636364.\n",
            "/usr/local/lib/python3.11/dist-packages/xgboost/core.py:158: UserWarning: [08:44:56] WARNING: /workspace/src/learner.cc:740: \n",
            "Parameters: { \"use_label_encoder\" } are not used.\n",
            "\n",
            "  warnings.warn(smsg, UserWarning)\n",
            "[I 2025-07-11 08:44:56,062] Trial 19 finished with value: 0.0 and parameters: {'n_estimators': 85, 'max_depth': 4, 'learning_rate': 0.012386971586479636, 'subsample': 0.877720867318788, 'colsample_bytree': 0.727578782793236, 'gamma': 0.0005712397941428776, 'reg_alpha': 0.7881957614668712, 'reg_lambda': 1.6621238919813016e-08, 'scale_pos_weight': 0.5053706170519192}. Best is trial 0 with value: 0.6363636363636364.\n"
          ]
        },
        {
          "output_type": "stream",
          "name": "stdout",
          "text": [
            "Trial 18: F1=0.5455 | Precision=0.8571 | Recall=0.4000 | Acc=0.9884\n",
            "Trial 19: F1=0.0000 | Precision=0.0000 | Recall=0.0000 | Acc=0.9826\n"
          ]
        },
        {
          "output_type": "stream",
          "name": "stderr",
          "text": [
            "/usr/local/lib/python3.11/dist-packages/xgboost/core.py:158: UserWarning: [08:44:56] WARNING: /workspace/src/learner.cc:740: \n",
            "Parameters: { \"use_label_encoder\" } are not used.\n",
            "\n",
            "  warnings.warn(smsg, UserWarning)\n",
            "[I 2025-07-11 08:44:56,221] Trial 20 finished with value: 0.5833333333333334 and parameters: {'n_estimators': 162, 'max_depth': 6, 'learning_rate': 0.03453106473191497, 'subsample': 0.6438153360217616, 'colsample_bytree': 0.8296963455006762, 'gamma': 1.2565223181026734e-08, 'reg_alpha': 0.013882893477520529, 'reg_lambda': 0.010019423404653808, 'scale_pos_weight': 3.8293270559512598}. Best is trial 0 with value: 0.6363636363636364.\n",
            "/usr/local/lib/python3.11/dist-packages/xgboost/core.py:158: UserWarning: [08:44:56] WARNING: /workspace/src/learner.cc:740: \n",
            "Parameters: { \"use_label_encoder\" } are not used.\n",
            "\n",
            "  warnings.warn(smsg, UserWarning)\n",
            "[I 2025-07-11 08:44:56,334] Trial 21 finished with value: 0.5 and parameters: {'n_estimators': 92, 'max_depth': 5, 'learning_rate': 0.020775030564778963, 'subsample': 0.9530762329495928, 'colsample_bytree': 0.922389536406143, 'gamma': 1.4564598242092649e-05, 'reg_alpha': 0.3787444053304035, 'reg_lambda': 0.10756184997213553, 'scale_pos_weight': 2.5669770599756543}. Best is trial 0 with value: 0.6363636363636364.\n"
          ]
        },
        {
          "output_type": "stream",
          "name": "stdout",
          "text": [
            "Trial 20: F1=0.5833 | Precision=0.7778 | Recall=0.4667 | Acc=0.9884\n",
            "Trial 21: F1=0.5000 | Precision=1.0000 | Recall=0.3333 | Acc=0.9884\n"
          ]
        },
        {
          "output_type": "stream",
          "name": "stderr",
          "text": [
            "/usr/local/lib/python3.11/dist-packages/xgboost/core.py:158: UserWarning: [08:44:56] WARNING: /workspace/src/learner.cc:740: \n",
            "Parameters: { \"use_label_encoder\" } are not used.\n",
            "\n",
            "  warnings.warn(smsg, UserWarning)\n",
            "[I 2025-07-11 08:44:56,434] Trial 22 finished with value: 0.6363636363636364 and parameters: {'n_estimators': 81, 'max_depth': 4, 'learning_rate': 0.027882503515186185, 'subsample': 0.9133447289558546, 'colsample_bytree': 0.9111797305517796, 'gamma': 4.739695809587177e-06, 'reg_alpha': 0.1653657655998939, 'reg_lambda': 0.0003255182328049412, 'scale_pos_weight': 2.524689647927273}. Best is trial 0 with value: 0.6363636363636364.\n",
            "/usr/local/lib/python3.11/dist-packages/xgboost/core.py:158: UserWarning: [08:44:56] WARNING: /workspace/src/learner.cc:740: \n",
            "Parameters: { \"use_label_encoder\" } are not used.\n",
            "\n",
            "  warnings.warn(smsg, UserWarning)\n",
            "[I 2025-07-11 08:44:56,573] Trial 23 finished with value: 0.3333333333333333 and parameters: {'n_estimators': 142, 'max_depth': 6, 'learning_rate': 0.013575640067814808, 'subsample': 0.7855331823366294, 'colsample_bytree': 0.7734438365891263, 'gamma': 0.00011913576140577864, 'reg_alpha': 0.020828323842440356, 'reg_lambda': 0.2202466077595039, 'scale_pos_weight': 1.7248370647824445}. Best is trial 0 with value: 0.6363636363636364.\n"
          ]
        },
        {
          "output_type": "stream",
          "name": "stdout",
          "text": [
            "Trial 22: F1=0.6364 | Precision=1.0000 | Recall=0.4667 | Acc=0.9907\n",
            "Trial 23: F1=0.3333 | Precision=1.0000 | Recall=0.2000 | Acc=0.9860\n"
          ]
        },
        {
          "output_type": "stream",
          "name": "stderr",
          "text": [
            "/usr/local/lib/python3.11/dist-packages/xgboost/core.py:158: UserWarning: [08:44:56] WARNING: /workspace/src/learner.cc:740: \n",
            "Parameters: { \"use_label_encoder\" } are not used.\n",
            "\n",
            "  warnings.warn(smsg, UserWarning)\n",
            "[I 2025-07-11 08:44:56,701] Trial 24 finished with value: 0.0 and parameters: {'n_estimators': 103, 'max_depth': 5, 'learning_rate': 0.004210134935022096, 'subsample': 0.8707021352493156, 'colsample_bytree': 0.9960169673849293, 'gamma': 0.002233045812568462, 'reg_alpha': 0.17534958900580144, 'reg_lambda': 0.01516056255071501, 'scale_pos_weight': 6.908364791407931}. Best is trial 0 with value: 0.6363636363636364.\n",
            "/usr/local/lib/python3.11/dist-packages/xgboost/core.py:158: UserWarning: [08:44:56] WARNING: /workspace/src/learner.cc:740: \n",
            "Parameters: { \"use_label_encoder\" } are not used.\n",
            "\n",
            "  warnings.warn(smsg, UserWarning)\n",
            "[I 2025-07-11 08:44:56,789] Trial 25 finished with value: 0.5925925925925926 and parameters: {'n_estimators': 69, 'max_depth': 3, 'learning_rate': 0.14578989103947226, 'subsample': 0.9518303068675188, 'colsample_bytree': 0.8633044862929452, 'gamma': 0.02301357505482119, 'reg_alpha': 0.00162517791650646, 'reg_lambda': 0.860764517742941, 'scale_pos_weight': 3.859790901713853}. Best is trial 0 with value: 0.6363636363636364.\n"
          ]
        },
        {
          "output_type": "stream",
          "name": "stdout",
          "text": [
            "Trial 24: F1=0.0000 | Precision=0.0000 | Recall=0.0000 | Acc=0.9826\n",
            "Trial 25: F1=0.5926 | Precision=0.6667 | Recall=0.5333 | Acc=0.9872\n"
          ]
        },
        {
          "output_type": "stream",
          "name": "stderr",
          "text": [
            "/usr/local/lib/python3.11/dist-packages/xgboost/core.py:158: UserWarning: [08:44:56] WARNING: /workspace/src/learner.cc:740: \n",
            "Parameters: { \"use_label_encoder\" } are not used.\n",
            "\n",
            "  warnings.warn(smsg, UserWarning)\n",
            "[I 2025-07-11 08:44:56,955] Trial 26 finished with value: 0.5 and parameters: {'n_estimators': 190, 'max_depth': 4, 'learning_rate': 0.01310631079600191, 'subsample': 0.8270612498876082, 'colsample_bytree': 0.6546724594535804, 'gamma': 0.0001104395139426961, 'reg_alpha': 0.06600542748918894, 'reg_lambda': 0.060792098827215944, 'scale_pos_weight': 2.7994965564601753}. Best is trial 0 with value: 0.6363636363636364.\n",
            "/usr/local/lib/python3.11/dist-packages/xgboost/core.py:158: UserWarning: [08:44:57] WARNING: /workspace/src/learner.cc:740: \n",
            "Parameters: { \"use_label_encoder\" } are not used.\n",
            "\n",
            "  warnings.warn(smsg, UserWarning)\n",
            "[I 2025-07-11 08:44:57,097] Trial 27 finished with value: 0.5 and parameters: {'n_estimators': 103, 'max_depth': 7, 'learning_rate': 0.05705123585826692, 'subsample': 0.7305827274768348, 'colsample_bytree': 0.7286563843421312, 'gamma': 2.8700754377944087e-05, 'reg_alpha': 0.009204602017144065, 'reg_lambda': 0.0014776252942260795, 'scale_pos_weight': 1.9132108397808585}. Best is trial 0 with value: 0.6363636363636364.\n"
          ]
        },
        {
          "output_type": "stream",
          "name": "stdout",
          "text": [
            "Trial 26: F1=0.5000 | Precision=1.0000 | Recall=0.3333 | Acc=0.9884\n",
            "Trial 27: F1=0.5000 | Precision=1.0000 | Recall=0.3333 | Acc=0.9884\n"
          ]
        },
        {
          "output_type": "stream",
          "name": "stderr",
          "text": [
            "/usr/local/lib/python3.11/dist-packages/xgboost/core.py:158: UserWarning: [08:44:57] WARNING: /workspace/src/learner.cc:740: \n",
            "Parameters: { \"use_label_encoder\" } are not used.\n",
            "\n",
            "  warnings.warn(smsg, UserWarning)\n",
            "[I 2025-07-11 08:44:57,271] Trial 28 finished with value: 0.6363636363636364 and parameters: {'n_estimators': 145, 'max_depth': 8, 'learning_rate': 0.029009435191004417, 'subsample': 0.7810717932392705, 'colsample_bytree': 0.7787850680954773, 'gamma': 0.001167128149356766, 'reg_alpha': 0.43044643589390835, 'reg_lambda': 2.634795818335216e-05, 'scale_pos_weight': 3.694435887863021}. Best is trial 0 with value: 0.6363636363636364.\n",
            "/usr/local/lib/python3.11/dist-packages/xgboost/core.py:158: UserWarning: [08:44:57] WARNING: /workspace/src/learner.cc:740: \n",
            "Parameters: { \"use_label_encoder\" } are not used.\n",
            "\n",
            "  warnings.warn(smsg, UserWarning)\n",
            "[I 2025-07-11 08:44:57,443] Trial 29 finished with value: 0.0 and parameters: {'n_estimators': 112, 'max_depth': 9, 'learning_rate': 0.002907824148805228, 'subsample': 0.7051685552409876, 'colsample_bytree': 0.9580246603920832, 'gamma': 2.250480128473366e-06, 'reg_alpha': 0.0012503913314951245, 'reg_lambda': 0.014485252591390562, 'scale_pos_weight': 6.292456860687815}. Best is trial 0 with value: 0.6363636363636364.\n"
          ]
        },
        {
          "output_type": "stream",
          "name": "stdout",
          "text": [
            "Trial 28: F1=0.6364 | Precision=1.0000 | Recall=0.4667 | Acc=0.9907\n",
            "Trial 29: F1=0.0000 | Precision=0.0000 | Recall=0.0000 | Acc=0.9826\n",
            "\n",
            "🔍 Mejor trial XGBoost:\n",
            "Trial #0\n",
            "  n_estimators: 84\n",
            "  max_depth: 7\n",
            "  learning_rate: 0.06172457238954712\n",
            "  subsample: 0.7047734020997514\n",
            "  colsample_bytree: 0.7266200284892983\n",
            "  gamma: 0.0011181766421319377\n",
            "  reg_alpha: 0.24400009054176974\n",
            "  reg_lambda: 0.06434190264604053\n",
            "  scale_pos_weight: 3.2094193173105547\n",
            "Mejor F1-score en validación: 0.6364\n"
          ]
        }
      ]
    },
    {
      "cell_type": "markdown",
      "source": [
        "# MLP"
      ],
      "metadata": {
        "id": "gx4lWxkwqUoh"
      }
    },
    {
      "cell_type": "code",
      "source": [
        "import torch\n",
        "import torch.nn as nn\n",
        "import torch.nn.functional as F\n",
        "from torch.utils.data import TensorDataset, DataLoader\n",
        "from sklearn.preprocessing import StandardScaler\n",
        "from sklearn.metrics import f1_score, precision_score, recall_score, accuracy_score\n",
        "import optuna\n",
        "import numpy as np\n",
        "\n",
        "# Escalar los datos\n",
        "scaler = StandardScaler()\n",
        "X_scaled = scaler.fit_transform(X)\n",
        "\n",
        "# Dividir en entrenamiento y validación (estratificado)\n",
        "X_train, X_val, y_train, y_val = train_test_split(\n",
        "    X_scaled, y, test_size=0.2, stratify=y, random_state=42\n",
        ")\n",
        "\n",
        "# Convertir a tensores\n",
        "X_train_tensor = torch.tensor(X_train, dtype=torch.float32)\n",
        "y_train_tensor = torch.tensor(y_train.values, dtype=torch.float32)\n",
        "X_val_tensor = torch.tensor(X_val, dtype=torch.float32)\n",
        "y_val_tensor = torch.tensor(y_val.values, dtype=torch.float32)\n",
        "\n",
        "train_dataset = TensorDataset(X_train_tensor, y_train_tensor)\n",
        "val_dataset = TensorDataset(X_val_tensor, y_val_tensor)\n",
        "\n",
        "device = torch.device(\"cuda\" if torch.cuda.is_available() else \"cpu\")\n",
        "\n",
        "def mlp_objective(trial):\n",
        "    hidden_dim = trial.suggest_int(\"hidden_dim\", 32, 128)\n",
        "    dropout_p = trial.suggest_float(\"dropout\", 0.2, 0.5)\n",
        "    lr = trial.suggest_loguniform(\"lr\", 1e-4, 1e-2)\n",
        "    batch_size = trial.suggest_categorical(\"batch_size\", [32, 64, 128])\n",
        "    n_layers = trial.suggest_int(\"n_layers\", 1, 3)\n",
        "\n",
        "    # Crear MLP con capas variables\n",
        "    layers = []\n",
        "    input_dim = X_train.shape[1]\n",
        "    for i in range(n_layers):\n",
        "        layers.append(nn.Linear(input_dim, hidden_dim))\n",
        "        layers.append(nn.ReLU())\n",
        "        layers.append(nn.Dropout(dropout_p))\n",
        "        input_dim = hidden_dim\n",
        "    layers.append(nn.Linear(hidden_dim, 1))  # salida binaria\n",
        "    model = nn.Sequential(*layers).to(device)\n",
        "\n",
        "    # Calcular pos_weight para clases desbalanceadas\n",
        "    pos = y_train_tensor.sum()\n",
        "    neg = len(y_train_tensor) - pos\n",
        "    pos_weight = torch.tensor([neg / pos], dtype=torch.float32).to(device)\n",
        "\n",
        "    criterion = nn.BCEWithLogitsLoss(pos_weight=pos_weight)\n",
        "    optimizer = torch.optim.Adam(model.parameters(), lr=lr)\n",
        "\n",
        "    train_loader = DataLoader(train_dataset, batch_size=batch_size, shuffle=True)\n",
        "\n",
        "    # Entrenamiento\n",
        "    model.train()\n",
        "    for epoch in range(50):  # Puedes ajustar a 100 si quieres\n",
        "        for xb, yb in train_loader:\n",
        "            xb, yb = xb.to(device), yb.to(device)\n",
        "            optimizer.zero_grad()\n",
        "            logits = model(xb).squeeze()\n",
        "            loss = criterion(logits, yb)\n",
        "            loss.backward()\n",
        "            optimizer.step()\n",
        "\n",
        "    # Validación\n",
        "    model.eval()\n",
        "    with torch.no_grad():\n",
        "        logits = model(X_val_tensor.to(device)).squeeze()\n",
        "        probs = torch.sigmoid(logits).cpu().numpy()\n",
        "        preds = (probs > 0.5).astype(int)\n",
        "        labels = y_val_tensor.cpu().numpy()\n",
        "\n",
        "        f1 = f1_score(labels, preds, zero_division=0)\n",
        "        precision = precision_score(labels, preds, zero_division=0)\n",
        "        recall = recall_score(labels, preds, zero_division=0)\n",
        "        acc = accuracy_score(labels, preds)\n",
        "\n",
        "        trial.set_user_attr(\"precision\", precision)\n",
        "        trial.set_user_attr(\"recall\", recall)\n",
        "        trial.set_user_attr(\"f1\", f1)\n",
        "        trial.set_user_attr(\"accuracy\", acc)\n",
        "\n",
        "        print(f\"Trial {trial.number}: F1={f1:.4f} | Precision={precision:.4f} | Recall={recall:.4f} | Acc={acc:.4f}\")\n",
        "\n",
        "    return f1\n",
        "\n",
        "# Ejecutar Optuna\n",
        "mlp_study = optuna.create_study(direction=\"maximize\")\n",
        "mlp_study.optimize(mlp_objective, n_trials=30)\n",
        "\n",
        "# Mostrar mejores resultados\n",
        "print(\"\\n🔍 Mejor trial MLP:\")\n",
        "print(f\"Trial #{mlp_study.best_trial.number}\")\n",
        "for k, v in mlp_study.best_trial.params.items():\n",
        "    print(f\"  {k}: {v}\")\n",
        "print(f\"Mejor F1-score en validación: {mlp_study.best_value:.4f}\")\n",
        "\n"
      ],
      "metadata": {
        "colab": {
          "base_uri": "https://localhost:8080/"
        },
        "id": "Y0End6sSqWZt",
        "outputId": "99d32613-05c1-4667-f287-56e39fc8aae8"
      },
      "execution_count": null,
      "outputs": [
        {
          "output_type": "stream",
          "name": "stderr",
          "text": [
            "[I 2025-07-11 08:53:48,450] A new study created in memory with name: no-name-b5a220db-9b72-4e0f-ac6c-cba4226592a1\n",
            "[I 2025-07-11 08:54:02,980] Trial 0 finished with value: 0.23076923076923078 and parameters: {'hidden_dim': 69, 'dropout': 0.24419984724941793, 'lr': 0.0067445257894055135, 'batch_size': 64, 'n_layers': 2}. Best is trial 0 with value: 0.23076923076923078.\n"
          ]
        },
        {
          "output_type": "stream",
          "name": "stdout",
          "text": [
            "Trial 0: F1=0.2308 | Precision=0.1348 | Recall=0.8000 | Acc=0.9070\n"
          ]
        },
        {
          "output_type": "stream",
          "name": "stderr",
          "text": [
            "[I 2025-07-11 08:54:07,870] Trial 1 finished with value: 0.23300970873786409 and parameters: {'hidden_dim': 120, 'dropout': 0.2921441568371466, 'lr': 0.003952310793324147, 'batch_size': 64, 'n_layers': 1}. Best is trial 1 with value: 0.23300970873786409.\n"
          ]
        },
        {
          "output_type": "stream",
          "name": "stdout",
          "text": [
            "Trial 1: F1=0.2330 | Precision=0.1364 | Recall=0.8000 | Acc=0.9081\n"
          ]
        },
        {
          "output_type": "stream",
          "name": "stderr",
          "text": [
            "[I 2025-07-11 08:54:20,080] Trial 2 finished with value: 0.24528301886792453 and parameters: {'hidden_dim': 60, 'dropout': 0.4191464026711923, 'lr': 0.0004120107867200173, 'batch_size': 32, 'n_layers': 3}. Best is trial 2 with value: 0.24528301886792453.\n"
          ]
        },
        {
          "output_type": "stream",
          "name": "stdout",
          "text": [
            "Trial 2: F1=0.2453 | Precision=0.1429 | Recall=0.8667 | Acc=0.9070\n"
          ]
        },
        {
          "output_type": "stream",
          "name": "stderr",
          "text": [
            "[I 2025-07-11 08:54:25,082] Trial 3 finished with value: 0.22857142857142856 and parameters: {'hidden_dim': 50, 'dropout': 0.33923402962922644, 'lr': 0.0036398178153396587, 'batch_size': 128, 'n_layers': 2}. Best is trial 2 with value: 0.24528301886792453.\n"
          ]
        },
        {
          "output_type": "stream",
          "name": "stdout",
          "text": [
            "Trial 3: F1=0.2286 | Precision=0.1333 | Recall=0.8000 | Acc=0.9058\n"
          ]
        },
        {
          "output_type": "stream",
          "name": "stderr",
          "text": [
            "[I 2025-07-11 08:54:29,254] Trial 4 finished with value: 0.21666666666666667 and parameters: {'hidden_dim': 103, 'dropout': 0.38844739785860194, 'lr': 0.0070488780801981005, 'batch_size': 128, 'n_layers': 2}. Best is trial 2 with value: 0.24528301886792453.\n"
          ]
        },
        {
          "output_type": "stream",
          "name": "stdout",
          "text": [
            "Trial 4: F1=0.2167 | Precision=0.1238 | Recall=0.8667 | Acc=0.8907\n"
          ]
        },
        {
          "output_type": "stream",
          "name": "stderr",
          "text": [
            "[I 2025-07-11 08:54:32,474] Trial 5 finished with value: 0.24528301886792453 and parameters: {'hidden_dim': 83, 'dropout': 0.2112611579730203, 'lr': 0.0005497897434581432, 'batch_size': 128, 'n_layers': 1}. Best is trial 2 with value: 0.24528301886792453.\n"
          ]
        },
        {
          "output_type": "stream",
          "name": "stdout",
          "text": [
            "Trial 5: F1=0.2453 | Precision=0.1429 | Recall=0.8667 | Acc=0.9070\n"
          ]
        },
        {
          "output_type": "stream",
          "name": "stderr",
          "text": [
            "[I 2025-07-11 08:54:45,210] Trial 6 finished with value: 0.24528301886792453 and parameters: {'hidden_dim': 66, 'dropout': 0.30351769865199546, 'lr': 0.003909174645977386, 'batch_size': 32, 'n_layers': 3}. Best is trial 2 with value: 0.24528301886792453.\n"
          ]
        },
        {
          "output_type": "stream",
          "name": "stdout",
          "text": [
            "Trial 6: F1=0.2453 | Precision=0.1429 | Recall=0.8667 | Acc=0.9070\n"
          ]
        },
        {
          "output_type": "stream",
          "name": "stderr",
          "text": [
            "[I 2025-07-11 08:54:50,610] Trial 7 finished with value: 0.24528301886792453 and parameters: {'hidden_dim': 55, 'dropout': 0.49985254409508156, 'lr': 0.0032141492786575453, 'batch_size': 64, 'n_layers': 1}. Best is trial 2 with value: 0.24528301886792453.\n"
          ]
        },
        {
          "output_type": "stream",
          "name": "stdout",
          "text": [
            "Trial 7: F1=0.2453 | Precision=0.1429 | Recall=0.8667 | Acc=0.9070\n"
          ]
        },
        {
          "output_type": "stream",
          "name": "stderr",
          "text": [
            "[I 2025-07-11 08:54:55,969] Trial 8 finished with value: 0.24528301886792453 and parameters: {'hidden_dim': 105, 'dropout': 0.28484501873093343, 'lr': 0.0012266370147059743, 'batch_size': 128, 'n_layers': 3}. Best is trial 2 with value: 0.24528301886792453.\n"
          ]
        },
        {
          "output_type": "stream",
          "name": "stdout",
          "text": [
            "Trial 8: F1=0.2453 | Precision=0.1429 | Recall=0.8667 | Acc=0.9070\n"
          ]
        },
        {
          "output_type": "stream",
          "name": "stderr",
          "text": [
            "[I 2025-07-11 08:55:00,564] Trial 9 finished with value: 0.24299065420560748 and parameters: {'hidden_dim': 56, 'dropout': 0.211382914895608, 'lr': 0.0005472483098001613, 'batch_size': 64, 'n_layers': 1}. Best is trial 2 with value: 0.24528301886792453.\n"
          ]
        },
        {
          "output_type": "stream",
          "name": "stdout",
          "text": [
            "Trial 9: F1=0.2430 | Precision=0.1413 | Recall=0.8667 | Acc=0.9058\n"
          ]
        },
        {
          "output_type": "stream",
          "name": "stderr",
          "text": [
            "[I 2025-07-11 08:55:12,512] Trial 10 finished with value: 0.24299065420560748 and parameters: {'hidden_dim': 34, 'dropout': 0.4300803554067823, 'lr': 0.00015874333667497152, 'batch_size': 32, 'n_layers': 3}. Best is trial 2 with value: 0.24528301886792453.\n"
          ]
        },
        {
          "output_type": "stream",
          "name": "stdout",
          "text": [
            "Trial 10: F1=0.2430 | Precision=0.1413 | Recall=0.8667 | Acc=0.9058\n"
          ]
        },
        {
          "output_type": "stream",
          "name": "stderr",
          "text": [
            "[I 2025-07-11 08:55:23,331] Trial 11 finished with value: 0.24528301886792453 and parameters: {'hidden_dim': 86, 'dropout': 0.432558550258567, 'lr': 0.00033350012341338577, 'batch_size': 32, 'n_layers': 2}. Best is trial 2 with value: 0.24528301886792453.\n"
          ]
        },
        {
          "output_type": "stream",
          "name": "stdout",
          "text": [
            "Trial 11: F1=0.2453 | Precision=0.1429 | Recall=0.8667 | Acc=0.9070\n"
          ]
        },
        {
          "output_type": "stream",
          "name": "stderr",
          "text": [
            "[I 2025-07-11 08:55:26,659] Trial 12 finished with value: 0.24528301886792453 and parameters: {'hidden_dim': 84, 'dropout': 0.3844074854125338, 'lr': 0.0009679447758486118, 'batch_size': 128, 'n_layers': 1}. Best is trial 2 with value: 0.24528301886792453.\n"
          ]
        },
        {
          "output_type": "stream",
          "name": "stdout",
          "text": [
            "Trial 12: F1=0.2453 | Precision=0.1429 | Recall=0.8667 | Acc=0.9070\n"
          ]
        },
        {
          "output_type": "stream",
          "name": "stderr",
          "text": [
            "[I 2025-07-11 08:55:39,470] Trial 13 finished with value: 0.24528301886792453 and parameters: {'hidden_dim': 93, 'dropout': 0.4265963860607168, 'lr': 0.00011528894372706002, 'batch_size': 32, 'n_layers': 3}. Best is trial 2 with value: 0.24528301886792453.\n"
          ]
        },
        {
          "output_type": "stream",
          "name": "stdout",
          "text": [
            "Trial 13: F1=0.2453 | Precision=0.1429 | Recall=0.8667 | Acc=0.9070\n"
          ]
        },
        {
          "output_type": "stream",
          "name": "stderr",
          "text": [
            "[I 2025-07-11 08:55:43,603] Trial 14 finished with value: 0.24299065420560748 and parameters: {'hidden_dim': 73, 'dropout': 0.48659179404413677, 'lr': 0.00027132379360579904, 'batch_size': 128, 'n_layers': 2}. Best is trial 2 with value: 0.24528301886792453.\n"
          ]
        },
        {
          "output_type": "stream",
          "name": "stdout",
          "text": [
            "Trial 14: F1=0.2430 | Precision=0.1413 | Recall=0.8667 | Acc=0.9058\n"
          ]
        },
        {
          "output_type": "stream",
          "name": "stderr",
          "text": [
            "[I 2025-07-11 08:55:55,119] Trial 15 finished with value: 0.22857142857142856 and parameters: {'hidden_dim': 40, 'dropout': 0.2018808209420002, 'lr': 0.0010238756518472095, 'batch_size': 32, 'n_layers': 3}. Best is trial 2 with value: 0.24528301886792453.\n"
          ]
        },
        {
          "output_type": "stream",
          "name": "stdout",
          "text": [
            "Trial 15: F1=0.2286 | Precision=0.1333 | Recall=0.8000 | Acc=0.9058\n"
          ]
        },
        {
          "output_type": "stream",
          "name": "stderr",
          "text": [
            "[I 2025-07-11 08:55:59,639] Trial 16 finished with value: 0.24299065420560748 and parameters: {'hidden_dim': 127, 'dropout': 0.32852296797546304, 'lr': 0.00042575151179697447, 'batch_size': 128, 'n_layers': 1}. Best is trial 2 with value: 0.24528301886792453.\n"
          ]
        },
        {
          "output_type": "stream",
          "name": "stdout",
          "text": [
            "Trial 16: F1=0.2430 | Precision=0.1413 | Recall=0.8667 | Acc=0.9058\n"
          ]
        },
        {
          "output_type": "stream",
          "name": "stderr",
          "text": [
            "[I 2025-07-11 08:56:09,517] Trial 17 finished with value: 0.24528301886792453 and parameters: {'hidden_dim': 99, 'dropout': 0.3801187324443695, 'lr': 0.0006873363403534428, 'batch_size': 32, 'n_layers': 2}. Best is trial 2 with value: 0.24528301886792453.\n"
          ]
        },
        {
          "output_type": "stream",
          "name": "stdout",
          "text": [
            "Trial 17: F1=0.2453 | Precision=0.1429 | Recall=0.8667 | Acc=0.9070\n"
          ]
        },
        {
          "output_type": "stream",
          "name": "stderr",
          "text": [
            "[I 2025-07-11 08:56:18,348] Trial 18 finished with value: 0.23076923076923078 and parameters: {'hidden_dim': 75, 'dropout': 0.2567374019853963, 'lr': 0.0017134291306985978, 'batch_size': 32, 'n_layers': 1}. Best is trial 2 with value: 0.24528301886792453.\n"
          ]
        },
        {
          "output_type": "stream",
          "name": "stdout",
          "text": [
            "Trial 18: F1=0.2308 | Precision=0.1348 | Recall=0.8000 | Acc=0.9070\n"
          ]
        },
        {
          "output_type": "stream",
          "name": "stderr",
          "text": [
            "[I 2025-07-11 08:56:22,811] Trial 19 finished with value: 0.24299065420560748 and parameters: {'hidden_dim': 61, 'dropout': 0.45287591622076706, 'lr': 0.0002190519245380943, 'batch_size': 128, 'n_layers': 3}. Best is trial 2 with value: 0.24528301886792453.\n"
          ]
        },
        {
          "output_type": "stream",
          "name": "stdout",
          "text": [
            "Trial 19: F1=0.2430 | Precision=0.1413 | Recall=0.8667 | Acc=0.9058\n"
          ]
        },
        {
          "output_type": "stream",
          "name": "stderr",
          "text": [
            "[I 2025-07-11 08:56:27,663] Trial 20 finished with value: 0.24528301886792453 and parameters: {'hidden_dim': 46, 'dropout': 0.3601869052321917, 'lr': 0.0018274665035068207, 'batch_size': 128, 'n_layers': 2}. Best is trial 2 with value: 0.24528301886792453.\n"
          ]
        },
        {
          "output_type": "stream",
          "name": "stdout",
          "text": [
            "Trial 20: F1=0.2453 | Precision=0.1429 | Recall=0.8667 | Acc=0.9070\n"
          ]
        },
        {
          "output_type": "stream",
          "name": "stderr",
          "text": [
            "[I 2025-07-11 08:56:39,342] Trial 21 finished with value: 0.24528301886792453 and parameters: {'hidden_dim': 64, 'dropout': 0.3115631195533807, 'lr': 0.0006052012559689257, 'batch_size': 32, 'n_layers': 3}. Best is trial 2 with value: 0.24528301886792453.\n"
          ]
        },
        {
          "output_type": "stream",
          "name": "stdout",
          "text": [
            "Trial 21: F1=0.2453 | Precision=0.1429 | Recall=0.8667 | Acc=0.9070\n"
          ]
        },
        {
          "output_type": "stream",
          "name": "stderr",
          "text": [
            "[I 2025-07-11 08:56:51,481] Trial 22 finished with value: 0.22857142857142856 and parameters: {'hidden_dim': 80, 'dropout': 0.24514826407151516, 'lr': 0.0018183706897274398, 'batch_size': 32, 'n_layers': 3}. Best is trial 2 with value: 0.24528301886792453.\n"
          ]
        },
        {
          "output_type": "stream",
          "name": "stdout",
          "text": [
            "Trial 22: F1=0.2286 | Precision=0.1333 | Recall=0.8000 | Acc=0.9058\n"
          ]
        },
        {
          "output_type": "stream",
          "name": "stderr",
          "text": [
            "[I 2025-07-11 08:57:03,448] Trial 23 finished with value: 0.24528301886792453 and parameters: {'hidden_dim': 68, 'dropout': 0.2713984925179573, 'lr': 0.00038457418426199167, 'batch_size': 32, 'n_layers': 3}. Best is trial 2 with value: 0.24528301886792453.\n"
          ]
        },
        {
          "output_type": "stream",
          "name": "stdout",
          "text": [
            "Trial 23: F1=0.2453 | Precision=0.1429 | Recall=0.8667 | Acc=0.9070\n"
          ]
        },
        {
          "output_type": "stream",
          "name": "stderr",
          "text": [
            "[I 2025-07-11 08:57:17,941] Trial 24 finished with value: 0.2047244094488189 and parameters: {'hidden_dim': 91, 'dropout': 0.2253738886647226, 'lr': 0.009275680918622152, 'batch_size': 32, 'n_layers': 3}. Best is trial 2 with value: 0.24528301886792453.\n"
          ]
        },
        {
          "output_type": "stream",
          "name": "stdout",
          "text": [
            "Trial 24: F1=0.2047 | Precision=0.1161 | Recall=0.8667 | Acc=0.8826\n"
          ]
        },
        {
          "output_type": "stream",
          "name": "stderr",
          "text": [
            "[I 2025-07-11 08:57:28,384] Trial 25 finished with value: 0.24761904761904763 and parameters: {'hidden_dim': 77, 'dropout': 0.30948506474825344, 'lr': 0.0008913959043903673, 'batch_size': 32, 'n_layers': 2}. Best is trial 25 with value: 0.24761904761904763.\n"
          ]
        },
        {
          "output_type": "stream",
          "name": "stdout",
          "text": [
            "Trial 25: F1=0.2476 | Precision=0.1444 | Recall=0.8667 | Acc=0.9081\n"
          ]
        },
        {
          "output_type": "stream",
          "name": "stderr",
          "text": [
            "[I 2025-07-11 08:57:37,017] Trial 26 finished with value: 0.24528301886792453 and parameters: {'hidden_dim': 113, 'dropout': 0.3535336461308686, 'lr': 0.0007579722141185125, 'batch_size': 32, 'n_layers': 1}. Best is trial 25 with value: 0.24761904761904763.\n"
          ]
        },
        {
          "output_type": "stream",
          "name": "stdout",
          "text": [
            "Trial 26: F1=0.2453 | Precision=0.1429 | Recall=0.8667 | Acc=0.9070\n"
          ]
        },
        {
          "output_type": "stream",
          "name": "stderr",
          "text": [
            "[I 2025-07-11 08:57:47,190] Trial 27 finished with value: 0.24528301886792453 and parameters: {'hidden_dim': 74, 'dropout': 0.47054506752957037, 'lr': 0.0002104766467269877, 'batch_size': 32, 'n_layers': 2}. Best is trial 25 with value: 0.24761904761904763.\n"
          ]
        },
        {
          "output_type": "stream",
          "name": "stdout",
          "text": [
            "Trial 27: F1=0.2453 | Precision=0.1429 | Recall=0.8667 | Acc=0.9070\n"
          ]
        },
        {
          "output_type": "stream",
          "name": "stderr",
          "text": [
            "[I 2025-07-11 08:57:53,153] Trial 28 finished with value: 0.24528301886792453 and parameters: {'hidden_dim': 79, 'dropout': 0.3987450832932121, 'lr': 0.0004506046019922959, 'batch_size': 64, 'n_layers': 2}. Best is trial 25 with value: 0.24761904761904763.\n"
          ]
        },
        {
          "output_type": "stream",
          "name": "stdout",
          "text": [
            "Trial 28: F1=0.2453 | Precision=0.1429 | Recall=0.8667 | Acc=0.9070\n"
          ]
        },
        {
          "output_type": "stream",
          "name": "stderr",
          "text": [
            "[I 2025-07-11 08:57:57,118] Trial 29 finished with value: 0.24528301886792453 and parameters: {'hidden_dim': 93, 'dropout': 0.40934230347568534, 'lr': 0.0008674236465803456, 'batch_size': 128, 'n_layers': 2}. Best is trial 25 with value: 0.24761904761904763.\n"
          ]
        },
        {
          "output_type": "stream",
          "name": "stdout",
          "text": [
            "Trial 29: F1=0.2453 | Precision=0.1429 | Recall=0.8667 | Acc=0.9070\n",
            "\n",
            "🔍 Mejor trial MLP:\n",
            "Trial #25\n",
            "  hidden_dim: 77\n",
            "  dropout: 0.30948506474825344\n",
            "  lr: 0.0008913959043903673\n",
            "  batch_size: 32\n",
            "  n_layers: 2\n",
            "Mejor F1-score en validación: 0.2476\n"
          ]
        }
      ]
    },
    {
      "cell_type": "markdown",
      "source": [
        "# Resultados"
      ],
      "metadata": {
        "id": "_a9CPNzztxgI"
      }
    },
    {
      "cell_type": "code",
      "source": [
        "import pandas as pd\n",
        "from tabulate import tabulate\n",
        "\n",
        "# Crear DataFrame con las métricas\n",
        "results = [\n",
        "    {\n",
        "        \"Modelo\": \"BinaryHeteroGNN (SAGEConv)\",\n",
        "        \"F1-score\": 0.9655,\n",
        "        \"Precision\": 1.0000,\n",
        "        \"Recall\": 0.9333,\n",
        "        \"Accuracy\": 0.9988\n",
        "    },\n",
        "    {\n",
        "        \"Modelo\": \"XGBoost\",\n",
        "        \"F1-score\": 0.6364,\n",
        "        \"Precision\": 1.0000,\n",
        "        \"Recall\": 0.4667,\n",
        "        \"Accuracy\": 0.9907\n",
        "    },\n",
        "    {\n",
        "        \"Modelo\": \"Random Forest\",\n",
        "        \"F1-score\": 0.5217,\n",
        "        \"Precision\": 0.7500,\n",
        "        \"Recall\": 0.4000,\n",
        "        \"Accuracy\": 0.9872\n",
        "    },\n",
        "    {\n",
        "        \"Modelo\": \"MLP\",\n",
        "        \"F1-score\": 0.2476,\n",
        "        \"Precision\": 0.1444,\n",
        "        \"Recall\": 0.8667,\n",
        "        \"Accuracy\": 0.9081\n",
        "    },\n",
        "    {\n",
        "        \"Modelo\": \"SVM\",\n",
        "        \"F1-score\": 0.2453,\n",
        "        \"Precision\": 0.1429,\n",
        "        \"Recall\": 0.8667,\n",
        "        \"Accuracy\": 0.9070\n",
        "    },\n",
        "]\n",
        "\n",
        "df = pd.DataFrame(results)\n",
        "\n",
        "# Ordenar por F1-score descendente\n",
        "df_sorted = df.sort_values(by=\"F1-score\", ascending=False)\n",
        "\n",
        "# Mostrar tabla bonita en consola\n",
        "print(tabulate(df_sorted, headers=\"keys\", tablefmt=\"fancy_grid\", showindex=False))\n"
      ],
      "metadata": {
        "colab": {
          "base_uri": "https://localhost:8080/"
        },
        "id": "0ozsrkrAty2d",
        "outputId": "d39f6baa-ba49-4991-c736-47248e88e375"
      },
      "execution_count": null,
      "outputs": [
        {
          "output_type": "stream",
          "name": "stdout",
          "text": [
            "╒════════════════════════════╤════════════╤═════════════╤══════════╤════════════╕\n",
            "│ Modelo                     │   F1-score │   Precision │   Recall │   Accuracy │\n",
            "╞════════════════════════════╪════════════╪═════════════╪══════════╪════════════╡\n",
            "│ BinaryHeteroGNN (SAGEConv) │     0.9655 │      1      │   0.9333 │     0.9988 │\n",
            "├────────────────────────────┼────────────┼─────────────┼──────────┼────────────┤\n",
            "│ XGBoost                    │     0.6364 │      1      │   0.4667 │     0.9907 │\n",
            "├────────────────────────────┼────────────┼─────────────┼──────────┼────────────┤\n",
            "│ Random Forest              │     0.5217 │      0.75   │   0.4    │     0.9872 │\n",
            "├────────────────────────────┼────────────┼─────────────┼──────────┼────────────┤\n",
            "│ MLP                        │     0.2476 │      0.1444 │   0.8667 │     0.9081 │\n",
            "├────────────────────────────┼────────────┼─────────────┼──────────┼────────────┤\n",
            "│ SVM                        │     0.2453 │      0.1429 │   0.8667 │     0.907  │\n",
            "╘════════════════════════════╧════════════╧═════════════╧══════════╧════════════╛\n"
          ]
        }
      ]
    }
  ]
}